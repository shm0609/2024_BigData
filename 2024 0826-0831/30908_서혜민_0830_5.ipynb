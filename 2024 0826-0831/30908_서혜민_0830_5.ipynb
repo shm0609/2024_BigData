{
 "cells": [
  {
   "cell_type": "markdown",
   "id": "93499c23",
   "metadata": {},
   "source": [
    "# 1122 : 초를 분/초로 변환\n",
    "\n",
    "초를 입력받아 분 / 초의 형태로 출력하시오.\n",
    "\n",
    "예)\n",
    "\n",
    "60  ====>   1 0    (1분 0초를 뜻함)\n",
    "\n",
    "70    ====>    1  10       (1분 10초를 뜻함)"
   ]
  },
  {
   "cell_type": "code",
   "execution_count": 3,
   "id": "09820dd6",
   "metadata": {},
   "outputs": [
    {
     "name": "stdout",
     "output_type": "stream",
     "text": [
      "70\n",
      "1 10\n"
     ]
    }
   ],
   "source": [
    "n = int(input())\n",
    "\n",
    "sec = n % 60\n",
    "min = int(n/60%60)\n",
    "\n",
    "print(min,sec)"
   ]
  },
  {
   "cell_type": "markdown",
   "id": "f36c1f3a",
   "metadata": {},
   "source": [
    "# 1123 : 섭씨 온도를 화씨 온도로 변환\n",
    "\n",
    "섭씨 온도가 입력되면 화씨 온도로 변환하시오.\n",
    "\n",
    "화씨 온도 = 9 / 5 * 섭씨온도 + 32"
   ]
  },
  {
   "cell_type": "code",
   "execution_count": 14,
   "id": "2880cf33",
   "metadata": {},
   "outputs": [
    {
     "name": "stdout",
     "output_type": "stream",
     "text": [
      "30\n",
      "86.000\n"
     ]
    }
   ],
   "source": [
    "a = int(input())\n",
    "b = 9/5*a+32\n",
    "\n",
    "print('%.3f'%b)"
   ]
  },
  {
   "cell_type": "markdown",
   "id": "bf3bc515",
   "metadata": {},
   "source": [
    "# 1131 : 문자 출력하기\n",
    "\n",
    "입력된 문자를 그대로 출력한다."
   ]
  },
  {
   "cell_type": "code",
   "execution_count": 15,
   "id": "b9caa706",
   "metadata": {},
   "outputs": [
    {
     "name": "stdout",
     "output_type": "stream",
     "text": [
      "a\n",
      "a\n"
     ]
    }
   ],
   "source": [
    "a = input()\n",
    "print(a)"
   ]
  }
 ],
 "metadata": {
  "kernelspec": {
   "display_name": "Python 3 (ipykernel)",
   "language": "python",
   "name": "python3"
  },
  "language_info": {
   "codemirror_mode": {
    "name": "ipython",
    "version": 3
   },
   "file_extension": ".py",
   "mimetype": "text/x-python",
   "name": "python",
   "nbconvert_exporter": "python",
   "pygments_lexer": "ipython3",
   "version": "3.9.7"
  }
 },
 "nbformat": 4,
 "nbformat_minor": 5
}
