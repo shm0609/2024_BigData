{
 "cells": [
  {
   "cell_type": "markdown",
   "id": "d5363716",
   "metadata": {},
   "source": [
    "# 1115 : 두 정수의 덧셈 (64비트)\n",
    "\n",
    "두 정수의 덧셈의 결과를 출력한다.\n",
    "\n",
    "두 수는 int 범위를 넘어선 64비트 정수형 값이다."
   ]
  },
  {
   "cell_type": "code",
   "execution_count": 39,
   "id": "7edc4334",
   "metadata": {},
   "outputs": [
    {
     "name": "stdout",
     "output_type": "stream",
     "text": [
      "11111111111 22222222222\n",
      "33333333333.0\n"
     ]
    }
   ],
   "source": [
    "a, b= map(float,input().split())\n",
    "print(a+b)"
   ]
  },
  {
   "cell_type": "markdown",
   "id": "09a9811b",
   "metadata": {},
   "source": [
    "# 1117 : 두 실수의 곱\n",
    "\n",
    "두 실수를 입력받아 두 실수의 곱을 출력하되 소수 둘째자리까지 출력하시오."
   ]
  },
  {
   "cell_type": "code",
   "execution_count": 40,
   "id": "92bf3384",
   "metadata": {
    "scrolled": true
   },
   "outputs": [
    {
     "name": "stdout",
     "output_type": "stream",
     "text": [
      "1.23 4.56\n",
      "5.61\n"
     ]
    }
   ],
   "source": [
    "a,b = map(float, input().split())\n",
    "print(f'{a*b :.2f}')"
   ]
  },
  {
   "cell_type": "markdown",
   "id": "765bb4f9",
   "metadata": {},
   "source": [
    "# 1118 : 삼각형의 넓이 구하기\n",
    "\n",
    "삼각형의 넓이를 구하는 프로그램을 작성한다.\n",
    "\n",
    "삼각형의 넓이 = 밑변 * 높이 / 2"
   ]
  },
  {
   "cell_type": "code",
   "execution_count": 34,
   "id": "321c8b69",
   "metadata": {},
   "outputs": [
    {
     "name": "stdout",
     "output_type": "stream",
     "text": [
      "5 2\n",
      "5.0\n"
     ]
    }
   ],
   "source": [
    "a,b = map(int,input().split())\n",
    "print(f'{a*b/2 :.1f}')"
   ]
  }
 ],
 "metadata": {
  "kernelspec": {
   "display_name": "Python 3 (ipykernel)",
   "language": "python",
   "name": "python3"
  },
  "language_info": {
   "codemirror_mode": {
    "name": "ipython",
    "version": 3
   },
   "file_extension": ".py",
   "mimetype": "text/x-python",
   "name": "python",
   "nbconvert_exporter": "python",
   "pygments_lexer": "ipython3",
   "version": "3.9.7"
  }
 },
 "nbformat": 4,
 "nbformat_minor": 5
}
