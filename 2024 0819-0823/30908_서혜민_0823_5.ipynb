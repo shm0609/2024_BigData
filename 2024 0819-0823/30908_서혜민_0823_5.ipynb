{
 "cells": [
  {
   "cell_type": "markdown",
   "id": "f817f0b4",
   "metadata": {},
   "source": [
    "# 1119 : 일을 시간으로 변환\n",
    "\n",
    "하루는 24시간이다.\n",
    "\n",
    "일(day)이 입력으로 주어지면 시간으로 변환하시오."
   ]
  },
  {
   "cell_type": "code",
   "execution_count": 18,
   "id": "bffa0155",
   "metadata": {},
   "outputs": [
    {
     "name": "stdout",
     "output_type": "stream",
     "text": [
      "2\n",
      "48\n"
     ]
    }
   ],
   "source": [
    "day = input()\n",
    "day = int(day)\n",
    "\n",
    "print(day*24)"
   ]
  },
  {
   "cell_type": "markdown",
   "id": "4e8cda9c",
   "metadata": {},
   "source": [
    "# 1120 : 세 수의 평균\n",
    "\n",
    "세 정수가 입력되면 평균을 출력하시오."
   ]
  },
  {
   "cell_type": "code",
   "execution_count": 4,
   "id": "93d8cbd7",
   "metadata": {
    "scrolled": true
   },
   "outputs": [
    {
     "name": "stdout",
     "output_type": "stream",
     "text": [
      "1 2 3\n",
      "2.00\n"
     ]
    }
   ],
   "source": [
    "a,b,c = map(float, input().split())\n",
    "print(f'{(a+b+c)/3:.2f}')"
   ]
  },
  {
   "cell_type": "markdown",
   "id": "3a7edca9",
   "metadata": {},
   "source": [
    "# 1121 : 나머지 구하기\n",
    "\n",
    "정수 계산에서 나머지를 구하시오.\n",
    "\n",
    "예를 들어\n",
    "\n",
    "7 / 5 의 나머지는 2입니다."
   ]
  },
  {
   "cell_type": "code",
   "execution_count": 17,
   "id": "e6a7424f",
   "metadata": {},
   "outputs": [
    {
     "name": "stdout",
     "output_type": "stream",
     "text": [
      "7 5\n",
      "2\n"
     ]
    }
   ],
   "source": [
    "a,b = map(float, input().split())\n",
    "print(f'{(a%b):.0f}')"
   ]
  },
  {
   "cell_type": "code",
   "execution_count": null,
   "id": "5f8a6410",
   "metadata": {},
   "outputs": [],
   "source": []
  }
 ],
 "metadata": {
  "kernelspec": {
   "display_name": "Python 3 (ipykernel)",
   "language": "python",
   "name": "python3"
  },
  "language_info": {
   "codemirror_mode": {
    "name": "ipython",
    "version": 3
   },
   "file_extension": ".py",
   "mimetype": "text/x-python",
   "name": "python",
   "nbconvert_exporter": "python",
   "pygments_lexer": "ipython3",
   "version": "3.9.7"
  }
 },
 "nbformat": 4,
 "nbformat_minor": 5
}
