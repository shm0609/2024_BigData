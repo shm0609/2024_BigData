{
 "cells": [
  {
   "cell_type": "markdown",
   "id": "708977d8",
   "metadata": {},
   "source": [
    "## 30908_서혜민_0408_2"
   ]
  },
  {
   "cell_type": "markdown",
   "id": "80ee4745",
   "metadata": {},
   "source": [
    "6061\n",
    "\n",
    "본 문제는 python 의 빠른 기초 학습을 위해 설계된 문제로서 python 코드 제출을 기준으로 설명되어 있습니다. \n",
    "------\n",
    "\n",
    "입력된 정수 두 개를 비트단위로 or 연산한 후 그 결과를 정수로 출력해보자.\n",
    "비트단위(bitwise) 연산자 |(or, vertical bar, 버티컬바)를 사용하면 된다.\n",
    "\n",
    "** | 은 파이프(pipe)연산자라고도 불리는 경우가 있다.\n",
    "\n",
    "** 비트단위(bitwise) 연산자는,\n",
    "~(bitwise not), &(bitwise and), |(bitwise or), ^(bitwise xor),\n",
    "<<(bitwise left shift), >>(bitwise right shift)\n",
    "가 있다.\n",
    "\n",
    "예를 들어 3과 5가 입력되었을 때를 살펴보면\n",
    "3      : 00000000 00000000 00000000 00000011\n",
    "5      : 00000000 00000000 00000000 00000101\n",
    "3 | 5 : 00000000 00000000 00000000 00000111\n",
    "이 된다.\n",
    "\n",
    "비트단위 or 연산은 둘 중 하나라도 1인 자리를 1로 만들어주는 것과 같다.\n",
    "\n",
    "이러한 비트단위 연산은 빠른 계산이 필요한 그래픽처리에서도 효과적으로 사용된다."
   ]
  },
  {
   "cell_type": "code",
   "execution_count": 4,
   "id": "7c0d76ab",
   "metadata": {},
   "outputs": [
    {
     "name": "stdout",
     "output_type": "stream",
     "text": [
      "3 5\n",
      "7\n"
     ]
    }
   ],
   "source": [
    "a, b = input().split()\n",
    "print(int(a) | int(b))"
   ]
  },
  {
   "cell_type": "markdown",
   "id": "7e84b05e",
   "metadata": {},
   "source": [
    "6062\n",
    "\n",
    "본 문제는 python 의 빠른 기초 학습을 위해 설계된 문제로서 python 코드 제출을 기준으로 설명되어 있습니다. \n",
    "------\n",
    "\n",
    "입력된 정수 두 개를 비트단위로 xor 연산한 후 그 결과를 정수로 출력해보자.\n",
    "비트단위(bitwise) 연산자 ^(xor, circumflex/caret, 서컴플렉스/카릿)를 사용하면 된다.\n",
    "\n",
    "** 주의 ^은 수학식에서 거듭제곱(power)을 나타내는 기호와 모양은 같지만,\n",
    "C언어에서는 전혀 다른 배타적 논리합(xor, 서로 다를 때 1)의 의미를 가진다.\n",
    "\n",
    "** 비트단위(bitwise) 연산자는,\n",
    "~(bitwise not), &(bitwise and), |(bitwise or), ^(bitwise xor),\n",
    "<<(bitwise left shift), >>(bitwise right shift)\n",
    "가 있다.\n",
    "\n",
    "예를 들어 3과 5가 입력되었을 때를 살펴보면\n",
    "3       : 00000000 00000000 00000000 00000011\n",
    "5       : 00000000 00000000 00000000 00000101\n",
    "3 ^ 5 : 00000000 00000000 00000000 00000110\n",
    "이 된다.\n",
    "이러한 비트단위 연산은 빠른 계산이 필요한 그래픽처리에서도 효과적으로 사용된다.\n",
    "\n",
    "구체적으로 설명하자면,\n",
    "두 장의 이미지가 겹쳐졌을 때 색이 서로 다른 부분만 처리할 수 있다.\n",
    "배경이 되는 그림과 배경 위에서 움직이는 그림이 있을 때,\n",
    "두 그림에서 차이만 골라내 배경 위에서 움직이는 그림의 색으로 바꿔주면\n",
    "전체 그림을 구성하는 모든 점들의 색을 다시 계산해 입히지 않고\n",
    "보다 효과적으로 그림을 처리할 수 있게 되는 것이다.\n",
    "비행기 슈팅게임 등을 상상해보면 된다."
   ]
  },
  {
   "cell_type": "code",
   "execution_count": 5,
   "id": "a82b1d8b",
   "metadata": {},
   "outputs": [
    {
     "name": "stdout",
     "output_type": "stream",
     "text": [
      "3 5\n",
      "6\n"
     ]
    }
   ],
   "source": [
    "a,b = input().split()\n",
    "print(int(a)^int(b))"
   ]
  },
  {
   "cell_type": "markdown",
   "id": "6e8e6f53",
   "metadata": {},
   "source": [
    "6063\n",
    "\n",
    "본 문제는 python 의 빠른 기초 학습을 위해 설계된 문제로서 python 코드 제출을 기준으로 설명되어 있습니다. \n",
    "------\n",
    "\n",
    "입력된 두 정수(a, b) 중 큰 값을 출력하는 프로그램을 작성해보자.\n",
    "단, 3항 연산을 사용한다.\n",
    "\n",
    "예시\n",
    "a, b = input().split()\n",
    "a = int(a)  #변수 a에 저장되어있는 값을 정수로 바꾸어 다시 변수 a에 저장\n",
    "b = int(b)\n",
    "c = (a if (a>=b) else b)\n",
    "print(int(c))\n",
    "\n",
    "참고\n",
    "3개의 요소로 이루어지는 3항 연산은\n",
    "\"x if C else y\" 의 형태로 작성이 된다.\n",
    "- C : True 또는 False 를 평가할 조건식(conditional expression) 또는 값\n",
    "- x : C의 평가 결과가 True 일 때 사용할 값\n",
    "- y : C의 평가 결과가 True 가 아닐 때 사용할 값\n",
    "\n",
    "조건식 또는 값이 True 이면 x 값이 사용되고, True가 아니면 y 값이 사용되도록 하는 코드이다.\n",
    "\n",
    "예를 들어\n",
    "0 if 123>456 else 1\n",
    "과 같은 표현식의 평가값은 123 > 456 의 비교연산 결과가 False 이므로 1이 된다.\n",
    "\n",
    "예시 코드에서\n",
    "a>=b 의 결과가 True(참) 이면 (a if (a>=b) else b)의 결과는 a가 되고,\n",
    "a>=b 의 결과가 False(거짓)이면 (a if (a>=b) else b)의 결과는 b가 된다."
   ]
  },
  {
   "cell_type": "code",
   "execution_count": 6,
   "id": "f28d258c",
   "metadata": {},
   "outputs": [
    {
     "name": "stdout",
     "output_type": "stream",
     "text": [
      "123 456\n",
      "456\n"
     ]
    }
   ],
   "source": [
    "a,b = input().split()\n",
    "a = int(a)\n",
    "b = int(b)\n",
    "c = (a if(a>=b) else b)\n",
    "print(int(c))"
   ]
  },
  {
   "cell_type": "markdown",
   "id": "600f053c",
   "metadata": {},
   "source": [
    "6064\n",
    "\n",
    "본 문제는 python 의 빠른 기초 학습을 위해 설계된 문제로서 python 코드 제출을 기준으로 설명되어 있습니다. \n",
    "------\n",
    "\n",
    "입력된 세 정수 a, b, c 중 가장 작은 값을 출력하는 프로그램을 작성해보자.\n",
    "단, 3항 연산을 사용한다.\n",
    "\n",
    "참고\n",
    "프로그래밍언어 소스코드 작성시 모든 요소들은\n",
    "\"순서에 따라 한 단계씩 실행\"\n",
    "\"미리 정해진 순서에 따라 하나씩 연산 수행\"\n",
    "\"그 때까지 연산된 결과를 이용해 다시 순서에 따라 하나씩 연산\"\n",
    "...\n",
    "등의 원리가 적용된다.\n",
    "\n",
    "따라서 3항 연산을 중첩해(괄호로 묶는 등..) 이용하면 여러 값들을 순서대로 비교해 가장 큰/작은 값을 계산할 수 있다.\n",
    "\n",
    "예를 들어\n",
    "(a if a>b else b) if ((a if a>b else b)>c) else c\n",
    "와 같은 계산식은 a, b, c 의 값 중 가장 큰 값으로 계산된다.\n",
    "\n",
    "잘 이해가 되지 않는다면 어떤 순서에 따라 계산될 지 생각해보고\n",
    "여러 가지 연산자가 동시에 사용된 식이 있을 때, 어떤 우선순위에 따라 순서대로 계산이 되는지 찾아보도록 한다.\n",
    "“연산자 우선순위”를 검색하면 우선순위와 결합방향이 나온다.\n",
    "예를 들어 변수에 어떤 값을 대입하는 대입(assign) 연산자 = 의 우선순위는 가장 낮고, 오른쪽에서 왼쪽의 결합방향을 가진다.\n",
    "\n",
    "** 3항 연산은 자주 사용되지는 않지만,\n",
    "복잡한 계산식이나 조건 처리, 비교 구조를 간단히 표현할 수 있게 해준다."
   ]
  },
  {
   "cell_type": "code",
   "execution_count": 15,
   "id": "918d9df0",
   "metadata": {},
   "outputs": [
    {
     "name": "stdout",
     "output_type": "stream",
     "text": [
      "3 -1 5\n",
      "-1\n"
     ]
    }
   ],
   "source": [
    "a,b,c = map(int, input().split())\n",
    "print(min(a,b,c))"
   ]
  },
  {
   "cell_type": "markdown",
   "id": "3702510a",
   "metadata": {},
   "source": [
    "6065\n",
    "\n",
    "본 문제는 python 의 빠른 기초 학습을 위해 설계된 문제로서 python 코드 제출을 기준으로 설명되어 있습니다. \n",
    "------\n",
    "\n",
    "3개의 정수(a, b, c)가 입력되었을 때, 짝수만 출력해보자.\n",
    "\n",
    "예시\n",
    "a, b, c = input().split()\n",
    "\n",
    "a = int(a)\n",
    "b = int(b)\n",
    "c = int(c)\n",
    "\n",
    "if a%2==0 :  #논리적으로 한 단위로 처리해야하는 경우 콜론(:)을 찍고, 들여쓰기로 작성 한다.\n",
    "  print(a)\n",
    "\n",
    "if b%2==0 :\n",
    "  print(b) \n",
    "\n",
    "if c%2==0 :\n",
    "  print(c) \n",
    "\n",
    "참고 \n",
    "if 조건식 :\n",
    "  실행1  #조건식의 평가값이 True 인 경우 실행시킬 명령을 들여쓰기를 이용해 순서대로 작성한다.\n",
    "  실행2\n",
    "실행3  #들여쓰기를 하지 않은 부분은 조건식에 상관이 없음 \n",
    "\n",
    "python 에서는 논리적 실행단위인 코드블록(code block)을 표현하기 위해 들여쓰기를 사용한다.\n",
    "들여쓰기 방법은 탭(tab), 공백(space) 4개 등 여러 가지 방법을 사용할 수 있지만\n",
    "한 소스코드 내에서 들여쓰기 길이와 방법은 똑같아야 한다.\n",
    "\n",
    "a%2==0 은 (a%2)가 먼저 계산된 후 그 결과를 정수 0과 비교한 결과값이다.\n",
    "a를 2로 나눈 나머지가 0, 즉 짝수이면 True 가 되고, 아니면 False 로 계산된다.\n",
    "따라서,\n",
    "if a%2==0 : #a가 짝수라면 ... \n",
    "와 같은 의미가 된다. 짝수가 아니라면 들여쓰기로 작성된 부분들은 실행되지 않는다."
   ]
  },
  {
   "cell_type": "code",
   "execution_count": 16,
   "id": "cc7635d8",
   "metadata": {},
   "outputs": [
    {
     "name": "stdout",
     "output_type": "stream",
     "text": [
      "1 2 4\n",
      "2\n",
      "4\n"
     ]
    }
   ],
   "source": [
    "a, b, c = input().split()\n",
    "a = int(a)\n",
    "b = int(b)\n",
    "c = int(c)\n",
    "\n",
    "if a%2==0:\n",
    "    print(a)\n",
    "if b%2==0:\n",
    "    print(b)\n",
    "if c%2==0:\n",
    "    print(c)"
   ]
  },
  {
   "cell_type": "markdown",
   "id": "098d29ee",
   "metadata": {},
   "source": [
    "6066\n",
    "\n",
    "본 문제는 python 의 빠른 기초 학습을 위해 설계된 문제로서 python 코드 제출을 기준으로 설명되어 있습니다. \n",
    "------\n",
    "\n",
    "3개의 정수(a, b, c)가 입력되었을 때, 짝(even)/홀(odd)을 출력해보자.\n",
    "\n",
    "예시\n",
    "...\n",
    "if a%2==0 :\n",
    "  print(\"even\")\n",
    "else :\n",
    "  print(\"odd\") \n",
    "...\n",
    "\n",
    "참고 \n",
    "if 조건식 :  #조건식을 평가해서...\n",
    "  실행1      #True 인 경우 실행시킬 명령들...\n",
    "  실행2\n",
    "else :        \n",
    "  실행3      #False 인 경우 실행시킬 명령들...\n",
    "  실행4\n",
    "실행5       #조건식과 상관없는 다음 명령\n",
    "...\n",
    "\n",
    "else 는 if 없이 혼자 사용되지 않는다.\n",
    "또한, else 다음에는 조건식이 없는 이유는? True(참)가 아니면 False(거짓)이기 때문에... \n",
    "조건식의 평가 결과는 True 아니면 False 로 계산되기 때문이다.\n",
    "\n",
    "python 에서는 들여쓰기를 기준으로 코드블록을 구분하므로, 들여쓰기를 정확하게 해주어야 한다.\n"
   ]
  },
  {
   "cell_type": "code",
   "execution_count": 25,
   "id": "d5e6af8b",
   "metadata": {},
   "outputs": [
    {
     "name": "stdout",
     "output_type": "stream",
     "text": [
      "1 2 8\n",
      "odd\n",
      "even\n",
      "even\n"
     ]
    }
   ],
   "source": [
    "a,b,c = input().split()\n",
    "a = int(a)\n",
    "b = int(b)\n",
    "c = int(c)\n",
    "\n",
    "if (a%2==0):\n",
    "    print(\"even\")\n",
    "else :\n",
    "    print(\"odd\")\n",
    "    \n",
    "if (b%2==0):\n",
    "    print(\"even\")\n",
    "else :\n",
    "    print(\"odd\")\n",
    "    \n",
    "if (c%2==0):\n",
    "    print(\"even\")\n",
    "else :\n",
    "    print(\"odd\")"
   ]
  },
  {
   "cell_type": "code",
   "execution_count": null,
   "id": "470a14a3",
   "metadata": {},
   "outputs": [],
   "source": []
  }
 ],
 "metadata": {
  "kernelspec": {
   "display_name": "Python 3 (ipykernel)",
   "language": "python",
   "name": "python3"
  },
  "language_info": {
   "codemirror_mode": {
    "name": "ipython",
    "version": 3
   },
   "file_extension": ".py",
   "mimetype": "text/x-python",
   "name": "python",
   "nbconvert_exporter": "python",
   "pygments_lexer": "ipython3",
   "version": "3.9.7"
  }
 },
 "nbformat": 4,
 "nbformat_minor": 5
}
