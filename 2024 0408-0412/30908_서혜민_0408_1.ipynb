{
 "cells": [
  {
   "cell_type": "markdown",
   "id": "d925514b",
   "metadata": {},
   "source": [
    "## 30908_서혜민_0408_1"
   ]
  },
  {
   "cell_type": "markdown",
   "id": "c7af36cc",
   "metadata": {},
   "source": [
    "## 선택구조 조건이 하나 일때\n",
    "- if문"
   ]
  },
  {
   "cell_type": "code",
   "execution_count": 1,
   "id": "58b26bb0",
   "metadata": {},
   "outputs": [
    {
     "name": "stdout",
     "output_type": "stream",
     "text": [
      "청소년은 주류를 구매할 수 없습니다.\n"
     ]
    }
   ],
   "source": [
    "age = 19   # 고정 된 수는 상수\n",
    "\n",
    "# 청소년은 주류를 구매할 수 없습니다. 출력\n",
    "\n",
    "if age <= 19:\n",
    "    print('청소년은 주류를 구매할 수 없습니다.')\n",
    "else:\n",
    "    print('구매 가능')"
   ]
  },
  {
   "cell_type": "code",
   "execution_count": 7,
   "id": "7856cc7e",
   "metadata": {},
   "outputs": [
    {
     "name": "stdout",
     "output_type": "stream",
     "text": [
      "나이가 어떻게 되시나요?: 983\n",
      "구매 가능\n"
     ]
    }
   ],
   "source": [
    "age = int(input('나이가 어떻게 되시나요?: '))\n",
    "\n",
    "if age < 20:\n",
    "    print('청소년은 주류를 구매할 수 없습니다.')\n",
    "else:\n",
    "    print('구매 가능')"
   ]
  },
  {
   "cell_type": "code",
   "execution_count": 3,
   "id": "c960b964",
   "metadata": {},
   "outputs": [
    {
     "name": "stdout",
     "output_type": "stream",
     "text": [
      "나이가 어떻게 되시나요?: 15\n",
      "청소년은 주류를 구매할 수 없습니다.\n",
      "5년 후에 다시 오세요.\n"
     ]
    }
   ],
   "source": [
    "age = int(input('나이가 어떻게 되시나요?: '))\n",
    "\n",
    "if age < 20:\n",
    "    print(f'청소년은 주류를 구매할 수 없습니다.')\n",
    "    print(f'{20-age}년 후에 다시 오세요.') # 친절하게 알려주기\n",
    "else:\n",
    "    print('구매 가능')"
   ]
  },
  {
   "cell_type": "markdown",
   "id": "bbf041fa",
   "metadata": {},
   "source": [
    "## 50000원 이하면 배송비 2500원"
   ]
  },
  {
   "cell_type": "code",
   "execution_count": 8,
   "id": "00a2212c",
   "metadata": {
    "scrolled": true
   },
   "outputs": [
    {
     "name": "stdout",
     "output_type": "stream",
     "text": [
      "구매 금액은? 850\n",
      "배송비 2500원이 추가 됩니다.\n",
      "최종 결제 금액은 3350원 입니다.\n"
     ]
    }
   ],
   "source": [
    "price = int(input('구매 금액은? '))\n",
    "\n",
    "if price < 50000:\n",
    "    print('배송비 2500원이 추가 됩니다.')\n",
    "    print(f'최종 결제 금액은 {price+2500}원 입니다.')\n",
    "else:\n",
    "    print('배송비 무료')\n",
    "    print(f'최종 결제 금액은 {price}원 입니다.')"
   ]
  },
  {
   "cell_type": "markdown",
   "id": "19202901",
   "metadata": {},
   "source": [
    "## 차량이부제"
   ]
  },
  {
   "cell_type": "code",
   "execution_count": 5,
   "id": "523137c9",
   "metadata": {},
   "outputs": [
    {
     "name": "stdout",
     "output_type": "stream",
     "text": [
      "오늘은 며칠입니까? : 8\n",
      "짝수번호 차량만 통행 가능합니다.\n",
      "홀수번호 차주는 오늘 대중교통을 이용해 주세요.\n"
     ]
    }
   ],
   "source": [
    "day = int(input('오늘은 며칠입니까? : '))\n",
    "\n",
    "if day % 2 == 0:\n",
    "    print('짝수번호 차량만 통행 가능합니다.')\n",
    "    print('홀수번호 차주는 오늘 대중교통을 이용해 주세요.')\n",
    "else:\n",
    "    print('홀수번호 차량만 통해 가능합니다.')\n",
    "    print('짝수번호 차주는 오늘 대중교통을 이용해 주세요.')"
   ]
  },
  {
   "cell_type": "code",
   "execution_count": null,
   "id": "a9561956",
   "metadata": {},
   "outputs": [],
   "source": []
  }
 ],
 "metadata": {
  "kernelspec": {
   "display_name": "Python 3 (ipykernel)",
   "language": "python",
   "name": "python3"
  },
  "language_info": {
   "codemirror_mode": {
    "name": "ipython",
    "version": 3
   },
   "file_extension": ".py",
   "mimetype": "text/x-python",
   "name": "python",
   "nbconvert_exporter": "python",
   "pygments_lexer": "ipython3",
   "version": "3.10.9"
  }
 },
 "nbformat": 4,
 "nbformat_minor": 5
}
