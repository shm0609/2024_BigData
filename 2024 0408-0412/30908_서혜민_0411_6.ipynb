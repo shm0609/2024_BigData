{
 "cells": [
  {
   "cell_type": "markdown",
   "id": "0223e4c6",
   "metadata": {},
   "source": [
    "## 30908_서혜민_0411_6"
   ]
  },
  {
   "cell_type": "code",
   "execution_count": 18,
   "id": "e0d13f3f",
   "metadata": {},
   "outputs": [
    {
     "name": "stdout",
     "output_type": "stream",
     "text": [
      "점수 입력 : -9\n",
      "잘못된 숫자를 입력했습니다.\n"
     ]
    }
   ],
   "source": [
    "# 등급을 구분하는 프로그램\n",
    "# 80점이상이면 A 40이상이면 B 나머지 C 출력\n",
    "# 0~100 사이 이외의 숫자는 \"잘못된 숫자를 입력했습니다.\"\n",
    "\n",
    "num = int(input(\"점수 입력 : \"))\n",
    "\n",
    "# 올바른 숫자 범위가 맞는지 틀리는지 구분\n",
    "if num < 0 or num > 100:\n",
    "    print(\"잘못된 숫자를 입력했습니다.\")\n",
    "# 80점 이상 A등급 출력\n",
    "elif num >=80:\n",
    "    print(\"A등급\")\n",
    "    \n",
    "# 40점이상 B등급 출력\n",
    "elif num >=40:\n",
    "    print(\"B등급\")\n",
    "    \n",
    "# 나머지\n",
    "else :\n",
    "    print(\"C등급\")"
   ]
  },
  {
   "cell_type": "code",
   "execution_count": 19,
   "id": "90fbf1d5",
   "metadata": {},
   "outputs": [
    {
     "name": "stdout",
     "output_type": "stream",
     "text": [
      "점수 : 88\n",
      "A등급\n"
     ]
    }
   ],
   "source": [
    "num = int(input('점수 : '))\n",
    "if num < 0 or num >100:\n",
    "    print(f'잘못된 숫자를 입력했습니다')\n",
    "else :\n",
    "    if num >=80 :\n",
    "        print(f'A등급')\n",
    "    elif num >=80 :\n",
    "        print(f'B등급')\n",
    "    else :\n",
    "        print(f'C등급')"
   ]
  },
  {
   "cell_type": "markdown",
   "id": "996caf8e",
   "metadata": {},
   "source": [
    "## 반복문 for"
   ]
  },
  {
   "cell_type": "code",
   "execution_count": 20,
   "id": "0ddf1501",
   "metadata": {},
   "outputs": [
    {
     "name": "stdout",
     "output_type": "stream",
     "text": [
      "안녕하세요\n",
      "안녕하세요\n",
      "안녕하세요\n",
      "안녕하세요\n",
      "안녕하세요\n"
     ]
    }
   ],
   "source": [
    "for a in [1,2,3,4,5]:\n",
    "    print('안녕하세요')"
   ]
  },
  {
   "cell_type": "code",
   "execution_count": 22,
   "id": "ae2af067",
   "metadata": {},
   "outputs": [
    {
     "name": "stdout",
     "output_type": "stream",
     "text": [
      "1 을(를)저장 중입니다.\n",
      "2 을(를)저장 중입니다.\n",
      "3 을(를)저장 중입니다.\n",
      "4 을(를)저장 중입니다.\n",
      "5 을(를)저장 중입니다.\n"
     ]
    }
   ],
   "source": [
    "for a in [1,2,3,4,5]:\n",
    "    print(a,'을(를)저장 중입니다.')"
   ]
  },
  {
   "cell_type": "code",
   "execution_count": 24,
   "id": "258352c7",
   "metadata": {},
   "outputs": [
    {
     "name": "stdout",
     "output_type": "stream",
     "text": [
      "9 안녕하세요\n",
      "8 안녕하세요\n",
      "7 안녕하세요\n",
      "6 안녕하세요\n",
      "5 안녕하세요\n",
      "4 안녕하세요\n",
      "3 안녕하세요\n",
      "2 안녕하세요\n",
      "1 안녕하세요\n",
      "0 안녕하세요\n"
     ]
    }
   ],
   "source": [
    "for a in [9,8,7,6,5,4,3,2,1,0]:\n",
    "    print(a,'안녕하세요')"
   ]
  },
  {
   "cell_type": "markdown",
   "id": "97eb3ab0",
   "metadata": {},
   "source": [
    "### 연속된 숫자를 range()로 간단하게 표현하기"
   ]
  },
  {
   "cell_type": "code",
   "execution_count": 27,
   "id": "810a15a0",
   "metadata": {},
   "outputs": [
    {
     "name": "stdout",
     "output_type": "stream",
     "text": [
      "1 선생님, 다시 청소를 빼먹지 않겠습니다.\n",
      "2 선생님, 다시 청소를 빼먹지 않겠습니다.\n",
      "3 선생님, 다시 청소를 빼먹지 않겠습니다.\n",
      "4 선생님, 다시 청소를 빼먹지 않겠습니다.\n",
      "5 선생님, 다시 청소를 빼먹지 않겠습니다.\n",
      "6 선생님, 다시 청소를 빼먹지 않겠습니다.\n",
      "7 선생님, 다시 청소를 빼먹지 않겠습니다.\n",
      "8 선생님, 다시 청소를 빼먹지 않겠습니다.\n",
      "9 선생님, 다시 청소를 빼먹지 않겠습니다.\n",
      "10 선생님, 다시 청소를 빼먹지 않겠습니다.\n",
      "11 선생님, 다시 청소를 빼먹지 않겠습니다.\n",
      "12 선생님, 다시 청소를 빼먹지 않겠습니다.\n",
      "13 선생님, 다시 청소를 빼먹지 않겠습니다.\n",
      "14 선생님, 다시 청소를 빼먹지 않겠습니다.\n",
      "15 선생님, 다시 청소를 빼먹지 않겠습니다.\n",
      "16 선생님, 다시 청소를 빼먹지 않겠습니다.\n",
      "17 선생님, 다시 청소를 빼먹지 않겠습니다.\n",
      "18 선생님, 다시 청소를 빼먹지 않겠습니다.\n",
      "19 선생님, 다시 청소를 빼먹지 않겠습니다.\n",
      "20 선생님, 다시 청소를 빼먹지 않겠습니다.\n"
     ]
    }
   ],
   "source": [
    "for a in range(1,21):\n",
    "    print(a, '선생님, 다시 청소를 빼먹지 않겠습니다.')"
   ]
  },
  {
   "cell_type": "code",
   "execution_count": 28,
   "id": "ef788822",
   "metadata": {},
   "outputs": [
    {
     "name": "stdout",
     "output_type": "stream",
     "text": [
      "1\n",
      "3\n",
      "5\n",
      "7\n",
      "9\n",
      "11\n",
      "13\n",
      "15\n",
      "17\n",
      "19\n"
     ]
    }
   ],
   "source": [
    "# range()에 간격추가\n",
    "for a in range (1,20,2):\n",
    "    print(a)"
   ]
  },
  {
   "cell_type": "code",
   "execution_count": 31,
   "id": "7304c8f6",
   "metadata": {},
   "outputs": [
    {
     "name": "stdout",
     "output_type": "stream",
     "text": [
      "5050\n"
     ]
    }
   ],
   "source": [
    "# 1부터 50까지 숫자의 합을 구하는 프로그램\n",
    "result = 0\n",
    "\n",
    "for i in range (1,101):\n",
    "    result += i\n",
    "    \n",
    "print(result)"
   ]
  },
  {
   "cell_type": "code",
   "execution_count": 32,
   "id": "7f4abe2c",
   "metadata": {},
   "outputs": [
    {
     "name": "stdout",
     "output_type": "stream",
     "text": [
      "1\n",
      "3\n",
      "6\n",
      "10\n",
      "15\n",
      "21\n",
      "28\n",
      "36\n",
      "45\n",
      "55\n",
      "66\n",
      "78\n",
      "91\n",
      "105\n",
      "120\n",
      "136\n",
      "153\n",
      "171\n",
      "190\n",
      "210\n",
      "231\n",
      "253\n",
      "276\n",
      "300\n",
      "325\n",
      "351\n",
      "378\n",
      "406\n",
      "435\n",
      "465\n",
      "496\n",
      "528\n",
      "561\n",
      "595\n",
      "630\n",
      "666\n",
      "703\n",
      "741\n",
      "780\n",
      "820\n",
      "861\n",
      "903\n",
      "946\n",
      "990\n",
      "1035\n",
      "1081\n",
      "1128\n",
      "1176\n",
      "1225\n",
      "1275\n"
     ]
    }
   ],
   "source": [
    "result = 0\n",
    "\n",
    "for i in range(1,51):\n",
    "    result += i\n",
    "    print(result)"
   ]
  },
  {
   "cell_type": "code",
   "execution_count": null,
   "id": "977124fc",
   "metadata": {},
   "outputs": [],
   "source": []
  }
 ],
 "metadata": {
  "kernelspec": {
   "display_name": "Python 3 (ipykernel)",
   "language": "python",
   "name": "python3"
  },
  "language_info": {
   "codemirror_mode": {
    "name": "ipython",
    "version": 3
   },
   "file_extension": ".py",
   "mimetype": "text/x-python",
   "name": "python",
   "nbconvert_exporter": "python",
   "pygments_lexer": "ipython3",
   "version": "3.9.7"
  }
 },
 "nbformat": 4,
 "nbformat_minor": 5
}
