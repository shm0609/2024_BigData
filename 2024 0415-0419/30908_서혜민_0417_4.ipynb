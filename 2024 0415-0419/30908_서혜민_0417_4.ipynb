{
 "cells": [
  {
   "cell_type": "markdown",
   "id": "4842a621",
   "metadata": {},
   "source": [
    "## 30908_서혜민_0417_4"
   ]
  },
  {
   "cell_type": "markdown",
   "id": "73824acb",
   "metadata": {},
   "source": [
    "1. 1부터 1000까지 숫자 중에서 2의 배수이거나 3의 배수면 더하는 프로그램"
   ]
  },
  {
   "cell_type": "code",
   "execution_count": 1,
   "id": "39583edb",
   "metadata": {},
   "outputs": [
    {
     "name": "stdout",
     "output_type": "stream",
     "text": [
      "1부터 1000까지 숫자 중에서 2의 배수이거나 3의 배수이면 다하는 프로그램\n",
      "334167\n"
     ]
    }
   ],
   "source": [
    "# 출력한다\n",
    "print('1부터 1000까지 숫자 중에서 2의 배수이거나 3의 배수이면 다하는 프로그램')\n",
    "\n",
    "#변수를 만들고 초기화한다\n",
    "res = 0\n",
    "num = 1\n",
    "\n",
    "#언제까지 1부터 1000까지, 반복문, while\n",
    "#2의 배수 이거나 3의 배수\n",
    "# 2의 배수 num % 2==0\n",
    "# 이거나 or \n",
    "# 3의 배수 num % 3==0\n",
    "\n",
    "while num <=1000:\n",
    "    if num%2==0 or num %3 ==0:\n",
    "        res += num\n",
    "    num += 1\n",
    "print (res)"
   ]
  },
  {
   "cell_type": "code",
   "execution_count": 3,
   "id": "c439df18",
   "metadata": {},
   "outputs": [
    {
     "name": "stdout",
     "output_type": "stream",
     "text": [
      "1부터 1000까지 숫자 중에 2의 배수이거나 3의 배수이면 더하는 프로그램\n",
      "334167\n"
     ]
    }
   ],
   "source": [
    "print('1부터 1000까지 숫자 중에 2의 배수이거나 3의 배수이면 더하는 프로그램')\n",
    "\n",
    "res = 0 #결과를 저장힐 변수를 초기화\n",
    "num = 1 #시작 숫자를 1로 설정\n",
    "\n",
    "while num <= 1000: # 언제까지? 1부터 1000까지, 반복문, while\n",
    "    if num % 2==0 or num % 3==0 : # 2의 배수 이거나 3의 배수\n",
    "        res += num #결과 변수에 현재 숫자를 더함\n",
    "    num += 1 #다음 숫자로 넘어감\n",
    "print(res)"
   ]
  },
  {
   "cell_type": "markdown",
   "id": "e09cda55",
   "metadata": {},
   "source": [
    "##  2. 구구단을 외우자"
   ]
  },
  {
   "cell_type": "code",
   "execution_count": 6,
   "id": "3d5f45ac",
   "metadata": {
    "scrolled": true
   },
   "outputs": [
    {
     "name": "stdout",
     "output_type": "stream",
     "text": [
      "구구단을 외우자! 구구단을 외우자!\n",
      "2x8=?\n",
      "15\n",
      "틀렸어요!\n",
      "8x6=?\n",
      "48\n",
      "정답!\n",
      "7x5=?\n",
      "000\n",
      "틀렸어요!\n",
      "3x6=?\n",
      "0\n",
      "틀렸어요!\n",
      "8x5=?\n",
      "0\n",
      "틀렸어요!\n",
      "3x5=?\n",
      "0\n",
      "틀렸어요!\n",
      "7x2=?\n",
      "0\n",
      "틀렸어요!\n",
      "5x1=?\n",
      "0\n",
      "틀렸어요!\n",
      "9x5=?\n",
      "0\n",
      "틀렸어요!\n",
      "2x7=?\n",
      "\n"
     ]
    },
    {
     "ename": "ValueError",
     "evalue": "invalid literal for int() with base 10: ''",
     "output_type": "error",
     "traceback": [
      "\u001b[1;31m---------------------------------------------------------------------------\u001b[0m",
      "\u001b[1;31mValueError\u001b[0m                                Traceback (most recent call last)",
      "\u001b[1;32m~\\AppData\\Local\\Temp/ipykernel_7512/1075372066.py\u001b[0m in \u001b[0;36m<module>\u001b[1;34m\u001b[0m\n\u001b[0;32m      7\u001b[0m     \u001b[0mb\u001b[0m \u001b[1;33m=\u001b[0m \u001b[0mrandom\u001b[0m\u001b[1;33m.\u001b[0m\u001b[0mrandint\u001b[0m\u001b[1;33m(\u001b[0m\u001b[1;36m1\u001b[0m\u001b[1;33m,\u001b[0m\u001b[1;36m9\u001b[0m\u001b[1;33m)\u001b[0m\u001b[1;33m\u001b[0m\u001b[1;33m\u001b[0m\u001b[0m\n\u001b[0;32m      8\u001b[0m     \u001b[0mprint\u001b[0m\u001b[1;33m(\u001b[0m\u001b[1;34m'{}x{}=?'\u001b[0m\u001b[1;33m.\u001b[0m\u001b[0mformat\u001b[0m\u001b[1;33m(\u001b[0m\u001b[0ma\u001b[0m\u001b[1;33m,\u001b[0m\u001b[0mb\u001b[0m\u001b[1;33m)\u001b[0m\u001b[1;33m)\u001b[0m\u001b[1;33m\u001b[0m\u001b[1;33m\u001b[0m\u001b[0m\n\u001b[1;32m----> 9\u001b[1;33m     \u001b[0manswer\u001b[0m \u001b[1;33m=\u001b[0m \u001b[0mint\u001b[0m\u001b[1;33m(\u001b[0m\u001b[0minput\u001b[0m\u001b[1;33m(\u001b[0m\u001b[1;34m''\u001b[0m\u001b[1;33m)\u001b[0m\u001b[1;33m)\u001b[0m\u001b[1;33m\u001b[0m\u001b[1;33m\u001b[0m\u001b[0m\n\u001b[0m\u001b[0;32m     10\u001b[0m     \u001b[1;32mif\u001b[0m \u001b[0ma\u001b[0m\u001b[1;33m*\u001b[0m\u001b[0mb\u001b[0m \u001b[1;33m==\u001b[0m \u001b[0manswer\u001b[0m\u001b[1;33m:\u001b[0m\u001b[1;33m\u001b[0m\u001b[1;33m\u001b[0m\u001b[0m\n\u001b[0;32m     11\u001b[0m         \u001b[0mprint\u001b[0m\u001b[1;33m(\u001b[0m\u001b[1;34m'정답!'\u001b[0m\u001b[1;33m)\u001b[0m\u001b[1;33m\u001b[0m\u001b[1;33m\u001b[0m\u001b[0m\n",
      "\u001b[1;31mValueError\u001b[0m: invalid literal for int() with base 10: ''"
     ]
    }
   ],
   "source": [
    "import random\n",
    "print('구구단을 외우자! 구구단을 외우자!')\n",
    "t_cnt = 0\n",
    "f_cnt = 0\n",
    "for i in range(10):\n",
    "    a = random.randint(2,9)\n",
    "    b = random.randint(1,9)\n",
    "    print('{}x{}=?'.format(a,b))\n",
    "    answer = int(input(''))\n",
    "    if a*b == answer:\n",
    "        print('정답!')\n",
    "        t_cnt = t_cnt + 1\n",
    "    else:\n",
    "        print('틀렸어요!')\n",
    "        f_cnt = f_cnt + 1\n",
    "print('맞춘 횟수 : {},틀린 횟수 : {}'.format(t_cnt,f_cnt))"
   ]
  },
  {
   "cell_type": "code",
   "execution_count": 9,
   "id": "d9305b44",
   "metadata": {},
   "outputs": [
    {
     "name": "stdout",
     "output_type": "stream",
     "text": [
      "구구단을 외우자! 구구단을 외자!\n",
      "3x6 = ?\n",
      "18\n",
      "정답!\n",
      "4x4 = ?\n",
      "16\n",
      "정답!\n",
      "9x2 = ?\n",
      "18\n",
      "정답!\n",
      "6x1 = ?\n",
      "74\n",
      "틀렸어요!\n",
      "5x8 = ?\n",
      "40\n",
      "정답!\n",
      "6x7 = ?\n",
      "42\n",
      "정답!\n",
      "3x5 = ?\n",
      "15\n",
      "정답!\n",
      "8x3 = ?\n",
      "24\n",
      "정답!\n",
      "4x6 = ?\n",
      "24\n",
      "정답!\n",
      "7x7 = ?\n",
      "49\n",
      "정답!\n",
      "맞춘 횟수 : 9,틀린 횟수 : 1\n"
     ]
    }
   ],
   "source": [
    "import random\n",
    "\n",
    "# 사용자에게 구구단을 외우라는 메세지를 출력한다\n",
    "print('구구단을 외우자! 구구단을 외자!')\n",
    "\n",
    "# 맞은 횟수와 틀린 횟수를 저장할 변수 초기화\n",
    "t_cnt = 0\n",
    "f_cnt = 0\n",
    "\n",
    "#10번 반복하여 구구단 문제를 출제합니다.\n",
    "for i in range(10):\n",
    "    # 2에서 9까지의 임의의 숫자를 선택하여 구구단의 단을 결정\n",
    "    a = random.randint(2,9)\n",
    "    # 1에서 9까지의 임의의 숫자를 선택하여 구구단의 곱을 결정\n",
    "    b = random.randint(1,9)\n",
    "    #문제 출력\n",
    "    print('{}x{} = ?'.format(a,b))\n",
    "    # 사용자로부터 답 입력 받기\n",
    "    answer = int(input(''))\n",
    "    # 사용자의 답과 정답을 비교하여 결과 출력\n",
    "    if a * b == answer :\n",
    "        print('정답!')\n",
    "        #맞은 횟수 증가\n",
    "        t_cnt = t_cnt +1\n",
    "    else :\n",
    "        print('틀렸어요!')\n",
    "        #틀린 횟수 증가\n",
    "        f_cnt = f_cnt +1\n",
    "#맞춘회수와 틀린횟수 출력\n",
    "print('맞춘 횟수 : {},틀린 횟수 : {}'.format(t_cnt,f_cnt))"
   ]
  },
  {
   "cell_type": "code",
   "execution_count": null,
   "id": "10475046",
   "metadata": {},
   "outputs": [],
   "source": []
  }
 ],
 "metadata": {
  "kernelspec": {
   "display_name": "Python 3 (ipykernel)",
   "language": "python",
   "name": "python3"
  },
  "language_info": {
   "codemirror_mode": {
    "name": "ipython",
    "version": 3
   },
   "file_extension": ".py",
   "mimetype": "text/x-python",
   "name": "python",
   "nbconvert_exporter": "python",
   "pygments_lexer": "ipython3",
   "version": "3.9.7"
  }
 },
 "nbformat": 4,
 "nbformat_minor": 5
}
