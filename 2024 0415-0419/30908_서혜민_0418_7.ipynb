{
 "cells": [
  {
   "cell_type": "markdown",
   "id": "85a06b70",
   "metadata": {},
   "source": [
    "## 30908_서혜민_0418_7"
   ]
  },
  {
   "cell_type": "markdown",
   "id": "a490a616",
   "metadata": {},
   "source": [
    "### 예상문제1 : 1부터 1000까지 숫자 중에서 2의 배수이거나 3의 배수면 더하는 프로그램"
   ]
  },
  {
   "cell_type": "code",
   "execution_count": null,
   "id": "48aa3772",
   "metadata": {},
   "outputs": [],
   "source": []
  },
  {
   "cell_type": "code",
   "execution_count": 5,
   "id": "2d6e1e34",
   "metadata": {},
   "outputs": [
    {
     "name": "stdout",
     "output_type": "stream",
     "text": [
      "1부터 1000까지 숫자 중에서 2의 배수이거나 3의 배수면 더하는 프로그램\n",
      "334167\n"
     ]
    }
   ],
   "source": [
    "print('1부터 1000까지 숫자 중에서 2의 배수이거나 3의 배수면 더하는 프로그램')\n",
    "\n",
    "res=0\n",
    "num=1\n",
    "\n",
    "while num <=1000:\n",
    "    if num%2==0 or num%3==0:\n",
    "        res+=num\n",
    "    num+=1\n",
    "print(res)"
   ]
  },
  {
   "cell_type": "code",
   "execution_count": 9,
   "id": "3dfee311",
   "metadata": {},
   "outputs": [
    {
     "name": "stdout",
     "output_type": "stream",
     "text": [
      "1부터 1000까지 숫자 중에서 2의 배수이거나 3의 배수면 더하는 프로그램\n",
      "334167\n"
     ]
    }
   ],
   "source": [
    "print('1부터 1000까지 숫자 중에서 2의 배수이거나 3의 배수면 더하는 프로그램')\n",
    "\n",
    "res=0 #결과를 저장할 변수를 초기화\n",
    "num=1 #시작 숫자를 1로 설정\n",
    "\n",
    "while num <=1000: #1000까지 반복\n",
    "    if num%2==0 or num%3==0: #2의 배수 이거나(or) 3의 배수\n",
    "       res+=num\n",
    "    num+=1 #다음 숫자로 넘어감\n",
    "\n",
    "print(res)"
   ]
  },
  {
   "cell_type": "markdown",
   "id": "a7c14164",
   "metadata": {},
   "source": [
    "### 예상문제2 : 구구단"
   ]
  },
  {
   "cell_type": "code",
   "execution_count": 10,
   "id": "5588627d",
   "metadata": {},
   "outputs": [
    {
     "name": "stdout",
     "output_type": "stream",
     "text": [
      "구구단을 외우자! 구구단을 외자!\n",
      "3x9=?\n",
      "27\n",
      "정답!\n",
      "2x2=?\n",
      "4\n",
      "정답!\n",
      "6x4=?\n",
      "24\n",
      "정답!\n",
      "6x2=?\n",
      "12\n",
      "정답!\n",
      "6x2=?\n",
      "12\n",
      "정답!\n",
      "6x3=?\n",
      "18\n",
      "정답!\n",
      "9x5=?\n",
      "65\n",
      "틀렸어요!\n",
      "7x4=?\n",
      "28\n",
      "정답!\n",
      "8x4=?\n",
      "33\n",
      "틀렸어요!\n",
      "2x8=?\n",
      "3\n",
      "틀렸어요!\n",
      "맞춘 횟수 : 7, 틀린 횟수 : 3\n"
     ]
    }
   ],
   "source": [
    "import random\n",
    "print('구구단을 외우자! 구구단을 외자!')\n",
    "\n",
    "t_cnt = 0\n",
    "f_cnt = 0\n",
    "\n",
    "for i in range(10):\n",
    "    a = random.randint(2,9)\n",
    "    b = random.randint(1,9)\n",
    "    print('{}x{}=?'.format(a,b))\n",
    "    answer = int(input(''))\n",
    "    \n",
    "    if a*b == answer:\n",
    "        print('정답!')\n",
    "        t_cnt = t_cnt + 1\n",
    "    else:\n",
    "        print('틀렸어요!')\n",
    "        f_cnt = f_cnt + 1\n",
    "print('맞춘 횟수 : {}, 틀린 횟수 : {}'.format(t_cnt,f_cnt))"
   ]
  },
  {
   "cell_type": "code",
   "execution_count": 11,
   "id": "0d75b0e3",
   "metadata": {},
   "outputs": [
    {
     "name": "stdout",
     "output_type": "stream",
     "text": [
      "구구단을 외우자! 구구단을 외자!\n",
      "3x4=?\n",
      "12\n",
      "정답!\n",
      "6x4=?\n",
      "24\n",
      "정답!\n",
      "7x7=?\n",
      "49\n",
      "정답!\n",
      "4x9=?\n",
      "45\n",
      "틀렸어요!\n",
      "3x9=?\n",
      "27\n",
      "정답!\n",
      "7x9=?\n",
      "12\n",
      "틀렸어요!\n",
      "2x9=?\n",
      "11\n",
      "틀렸어요!\n",
      "8x6=?\n",
      "41\n",
      "틀렸어요!\n",
      "6x8=?\n",
      "48\n",
      "정답!\n",
      "3x5=?\n",
      "15\n",
      "정답!\n",
      "맞춘 횟수 : 6, 틀린 횟수 : 4\n"
     ]
    }
   ],
   "source": [
    "import random #랜덤으로 입력\n",
    "print('구구단을 외우자! 구구단을 외자!')\n",
    "\n",
    "t_cnt = 0\n",
    "f_cnt = 0\n",
    "\n",
    "for i in range(10):\n",
    "    a = random.randint(2,9) #단 출력\n",
    "    b = random.randint(1,9) #수 출력\n",
    "    print('{}x{}=?'.format(a,b))\n",
    "    answer = int(input())\n",
    "    \n",
    "    if a*b == answer:\n",
    "        print('정답!')\n",
    "        t_cnt = t_cnt + 1 #정답 횟수 올라감\n",
    "    else:\n",
    "        print('틀렸어요!')\n",
    "        f_cnt = f_cnt + 1 # 틀린 횟수 올라감\n",
    "print('맞춘 횟수 : {}, 틀린 횟수 : {}'.format(t_cnt,f_cnt))"
   ]
  },
  {
   "cell_type": "markdown",
   "id": "b92fa27f",
   "metadata": {},
   "source": [
    "### 예상문제3 : 가계부 만들기"
   ]
  },
  {
   "cell_type": "code",
   "execution_count": 1,
   "id": "dbaa1b97",
   "metadata": {},
   "outputs": [
    {
     "name": "stdout",
     "output_type": "stream",
     "text": [
      "월 별 수입액 입력\n",
      "1 월의 수입액 입력\n",
      "88\n",
      "2 월의 수입액 입력\n",
      "54\n",
      "3 월의 수입액 입력\n",
      "78\n",
      "4 월의 수입액 입력\n",
      "14\n",
      "5 월의 수입액 입력\n",
      "55\n",
      "6 월의 수입액 입력\n",
      "21\n",
      "상반기 월별 수입액\n",
      "상반기 월 수입액은 310\n",
      "상반기 월 수입 평균 51.666666666666664\n"
     ]
    }
   ],
   "source": [
    "money = []\n",
    "print('월 별 수입액 입력')\n",
    "for j in range(0,6):\n",
    "    print((j+1),\"월의 수입액 입력\")\n",
    "    money.append(int(input('')))\n",
    "    \n",
    "sum = 0\n",
    "i = 0\n",
    "print('상반기 월별 수입액')\n",
    "while i<6:\n",
    "    sum = money[i]+sum\n",
    "    i = i+1\n",
    "avg = sum/6\n",
    "print('상반기 월 수입액은',sum)\n",
    "print('상반기 월 수입 평균',avg)"
   ]
  },
  {
   "cell_type": "code",
   "execution_count": 3,
   "id": "d70fe7a4",
   "metadata": {
    "scrolled": true
   },
   "outputs": [
    {
     "name": "stdout",
     "output_type": "stream",
     "text": [
      "월 별 수입액 입력\n",
      "1 월 수입액\n",
      "58\n",
      "2 월 수입액\n",
      "45\n",
      "3 월 수입액\n",
      "77\n",
      "4 월 수입액\n",
      "112\n",
      "5 월 수입액\n",
      "14\n",
      "6 월 수입액\n",
      "47\n",
      "상반기 월별 수입액\n",
      "상반기 월 수입액 :  353\n",
      "상반기 월 수입액 평균 :  58.833333333333336\n"
     ]
    }
   ],
   "source": [
    "money = [] #입력한 수 초기화\n",
    "print('월 별 수입액 입력')\n",
    "for j in range(0,6):\n",
    "    print((j+1),\"월 수입액\")\n",
    "    money.append(int(input())) # 수입액 입력 후 추가\n",
    "    \n",
    "sum=0 #더할 값 초기화\n",
    "i=0\n",
    "print('상반기 월별 수입액')\n",
    "while i<6:\n",
    "    sum = money[i]+sum\n",
    "    i = i+1\n",
    "avg = sum/6 #월 별 수입액 평균\n",
    "\n",
    "print('상반기 월 수입액 : ',sum)\n",
    "print('상반기 월 수입액 평균 : ',avg)"
   ]
  },
  {
   "cell_type": "markdown",
   "id": "f9134631",
   "metadata": {},
   "source": [
    "### 예상문제 4 : 무작위로 입력된 점수 리스트에서 70점 이상인 번호와 값출력"
   ]
  },
  {
   "cell_type": "code",
   "execution_count": 12,
   "id": "3a61d370",
   "metadata": {},
   "outputs": [
    {
     "name": "stdout",
     "output_type": "stream",
     "text": [
      "리스트에서 점수가 70점이상인 번호와 값 출력\n",
      "4 번 98\n",
      "9 번 80\n",
      "9 번 80\n",
      "14 번 86\n"
     ]
    }
   ],
   "source": [
    "import random\n",
    "score = []\n",
    "for i in range(0,25):\n",
    "    score.append(random.randint(0,100))\n",
    "print('리스트에서 점수가 70점이상인 번호와 값 출력')\n",
    "for s in score :\n",
    "    if s >= 70:\n",
    "        print(score.index(s)+1,'번',s)"
   ]
  },
  {
   "cell_type": "code",
   "execution_count": 14,
   "id": "e84febd1",
   "metadata": {
    "scrolled": true
   },
   "outputs": [
    {
     "name": "stdout",
     "output_type": "stream",
     "text": [
      "리스트에서 점수가 70점이상인 번호와 값 출력\n",
      "4 번 72\n",
      "5 번 89\n",
      "12 번 87\n",
      "15 번 77\n",
      "18 번 75\n",
      "19 번 85\n",
      "12 번 87\n",
      "19 번 85\n"
     ]
    }
   ],
   "source": [
    "import random\n",
    "score = []\n",
    "for i in range(0,25):\n",
    "    score.append(random.randint(0,100)) #점수 입력\n",
    "\n",
    "print('리스트에서 점수가 70점이상인 번호와 값 출력')\n",
    "for s in score:\n",
    "    if s >=70:\n",
    "        print(score.index(s)+1,'번',s) #무작위로 입력된 70점 이상들 출력"
   ]
  },
  {
   "cell_type": "markdown",
   "id": "5dcfc96c",
   "metadata": {},
   "source": [
    "### 예상문제 5 : 지하철 게임"
   ]
  },
  {
   "cell_type": "code",
   "execution_count": 15,
   "id": "5350b627",
   "metadata": {},
   "outputs": [
    {
     "name": "stdout",
     "output_type": "stream",
     "text": [
      "지하철~♪♬지하철~♪♬지하철~♪♬지하철~♪♬\n",
      "몇호선?신분당선\n",
      "광교\n",
      "문정\n",
      "땡 해당 역은 신분당선 이 아닙니다!\n",
      "벌칙 당첨!!\n"
     ]
    }
   ],
   "source": [
    "신분당선 = ['광교','광교중앙','상현','성복','수지구청','동천','미금','정자', \n",
    "       '판교','청계산입구','양재시민의숲','양재','강남']\n",
    "팔호선 = ['모란','수진','신흥','단대오거리','남한산성입구','산성','남위례',\n",
    "       '복정','장지','문정','가락시장','송파','석촌','잠실','몽촌토성',\n",
    "       '강동구청','천호','암사']\n",
    "\n",
    "print('지하철~♪♬'*4)\n",
    "호선 = input('몇호선?')\n",
    "\n",
    "for i in range(10):\n",
    "    if 호선 == '신분당선':\n",
    "        입력 = input()\n",
    "        if 입력 not in 신분당선:\n",
    "            print('땡 해당 역은',호선,'이 아닙니다!')\n",
    "            print('벌칙 당첨!!')\n",
    "            break\n",
    "    elif 호선 == '팔호선':\n",
    "        입력 = input()\n",
    "        if 입력 not in 팔호선:\n",
    "            print('땡 해당 역은',호선,'이 아닙니다!')\n",
    "            print('벌칙 당첨!!')\n",
    "            break"
   ]
  },
  {
   "cell_type": "code",
   "execution_count": 16,
   "id": "80d7aa1d",
   "metadata": {},
   "outputs": [
    {
     "name": "stdout",
     "output_type": "stream",
     "text": [
      "지하철~♪♬지하철~♪♬지하철~♪♬지하철~♪♬\n",
      "몇호선?팔호선\n",
      "5\n",
      "땡 해당 역은 팔호선 이 아닙니다!\n",
      "벌칙 당첨!!\n"
     ]
    }
   ],
   "source": [
    "신분당선 = ['광교','광교중앙','상현','성복','수지구청','동천','미금','정자', \n",
    "       '판교','청계산입구','양재시민의숲','양재','강남']\n",
    "팔호선 = ['모란','수진','신흥','단대오거리','남한산성입구','산성','남위례',\n",
    "       '복정','장지','문정','가락시장','송파','석촌','잠실','몽촌토성',\n",
    "       '강동구청','천호','암사']\n",
    "\n",
    "print('지하철~♪♬'*4)\n",
    "호선 = input('몇호선?') #원하는 지하철 입력\n",
    "\n",
    "for i in range(10):\n",
    "    if 호선 == '신분당선':\n",
    "        입력 = input() #해당하는 역 이름\n",
    "        if 입력 not in 신분당선:\n",
    "            print('땡 해당 역은',호선,'이 아닙니다!')\n",
    "            print('벌칙 당첨!!')\n",
    "            break\n",
    "    elif 호선 == '팔호선':\n",
    "        입력 = input() #해당하는 역 이름\n",
    "        if 입력 not in 팔호선:\n",
    "            print('땡 해당 역은',호선,'이 아닙니다!')\n",
    "            print('벌칙 당첨!!')\n",
    "            break"
   ]
  },
  {
   "cell_type": "code",
   "execution_count": null,
   "id": "eda8312a",
   "metadata": {},
   "outputs": [],
   "source": []
  }
 ],
 "metadata": {
  "kernelspec": {
   "display_name": "Python 3 (ipykernel)",
   "language": "python",
   "name": "python3"
  },
  "language_info": {
   "codemirror_mode": {
    "name": "ipython",
    "version": 3
   },
   "file_extension": ".py",
   "mimetype": "text/x-python",
   "name": "python",
   "nbconvert_exporter": "python",
   "pygments_lexer": "ipython3",
   "version": "3.9.7"
  }
 },
 "nbformat": 4,
 "nbformat_minor": 5
}
