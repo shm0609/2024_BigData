{
 "cells": [
  {
   "cell_type": "markdown",
   "id": "0b0ca3fe",
   "metadata": {},
   "source": [
    "## 30908_서혜민_0415_1"
   ]
  },
  {
   "cell_type": "code",
   "execution_count": 2,
   "id": "87b86318",
   "metadata": {},
   "outputs": [
    {
     "name": "stdout",
     "output_type": "stream",
     "text": [
      "6275\n"
     ]
    }
   ],
   "source": [
    "## 반복문을 이용하여 101부터 150까지 합을 구하는 프로그램 작성\n",
    "# 결과용 변수 만들고 초기화\n",
    "\n",
    "result = 0\n",
    "# 반복문 for\n",
    "\n",
    "for i in range(101,151):\n",
    "    result += i\n",
    "print(result)"
   ]
  },
  {
   "cell_type": "code",
   "execution_count": 6,
   "id": "04260d62",
   "metadata": {},
   "outputs": [
    {
     "name": "stdout",
     "output_type": "stream",
     "text": [
      "3628800\n"
     ]
    }
   ],
   "source": [
    "#1부터 50까지 곱하는 프로그램 작성\n",
    "#결과용 변수 만들고 초기화\n",
    "result = 1\n",
    "\n",
    "for i in range(1,11) :\n",
    "    result *= i\n",
    "    \n",
    "print(result)"
   ]
  },
  {
   "cell_type": "code",
   "execution_count": 10,
   "id": "3048680e",
   "metadata": {},
   "outputs": [
    {
     "name": "stdout",
     "output_type": "stream",
     "text": [
      "몇 단을 외울까요?15\n",
      "15 X 1=15\n",
      "15 X 2=30\n",
      "15 X 3=45\n",
      "15 X 4=60\n",
      "15 X 5=75\n",
      "15 X 6=90\n",
      "15 X 7=105\n",
      "15 X 8=120\n",
      "15 X 9=135\n"
     ]
    }
   ],
   "source": [
    "# 구구단 출력\n",
    "# 입력값 설계\n",
    "num=int(input('몇 단을 외울까요?'))\n",
    "# 출력값 설계\n",
    "\n",
    "for i in range (1,10) :\n",
    "    print(f'{num} X {i}={num*i}')"
   ]
  },
  {
   "cell_type": "code",
   "execution_count": 12,
   "id": "a37f2888",
   "metadata": {},
   "outputs": [
    {
     "name": "stdout",
     "output_type": "stream",
     "text": [
      "0.19385957387907515\n"
     ]
    }
   ],
   "source": [
    "# random 임의의 숫자\n",
    "\n",
    "# 라이브러리 libary 불러오기\n",
    "import random\n",
    "\n",
    "print(random.random())"
   ]
  },
  {
   "cell_type": "code",
   "execution_count": 18,
   "id": "7a388792",
   "metadata": {
    "scrolled": true
   },
   "outputs": [
    {
     "name": "stdout",
     "output_type": "stream",
     "text": [
      "5\n"
     ]
    }
   ],
   "source": [
    "# 라이브러리 libary 불러오기\n",
    "import random\n",
    "#랜덤 범위를 지정한다\n",
    "print(random.randrange(1,10,2))"
   ]
  },
  {
   "cell_type": "code",
   "execution_count": 19,
   "id": "50c7662c",
   "metadata": {},
   "outputs": [
    {
     "name": "stdout",
     "output_type": "stream",
     "text": [
      "7\n"
     ]
    }
   ],
   "source": [
    "# 라이브러리 libary 불러오기\n",
    "import random\n",
    "#랜덤 범위를 지정한다 정수를 가져오기\n",
    "print(random.randint(1,10))"
   ]
  },
  {
   "cell_type": "code",
   "execution_count": 23,
   "id": "a032225d",
   "metadata": {},
   "outputs": [
    {
     "name": "stdout",
     "output_type": "stream",
     "text": [
      "3\n",
      "9\n",
      "5\n",
      "6\n",
      "8\n",
      "9\n",
      "5\n",
      "9\n",
      "3\n",
      "7\n"
     ]
    }
   ],
   "source": [
    "import random \n",
    "\n",
    "for i in range(10):\n",
    "    print(random.randint(0,10))"
   ]
  },
  {
   "cell_type": "code",
   "execution_count": 27,
   "id": "eedc762d",
   "metadata": {},
   "outputs": [
    {
     "name": "stdout",
     "output_type": "stream",
     "text": [
      "구구단을 외우자~~구구단을 외우자~~\n",
      "3 X 1은? 3\n",
      "4 X 2은? 8\n",
      "6 X 1은? 6\n",
      "5 X 6은? 30\n",
      "9 X 9은? 81\n",
      "8 X 1은? 8\n",
      "5 X 7은? 35\n",
      "8 X 5은? 40\n",
      "3 X 8은? 24\n",
      "9 X 3은? 27\n"
     ]
    }
   ],
   "source": [
    "#구구단 외우기 게임1\n",
    "\n",
    "import random\n",
    "\n",
    "print('구구단을 외우자~~'*2)\n",
    "\n",
    "for i in range(10):\n",
    "    a = random.randint(2,9)\n",
    "    b = random.randint(1,9)\n",
    "    print(f'{a} X {b}은? {a*b}' )"
   ]
  },
  {
   "cell_type": "code",
   "execution_count": 28,
   "id": "e0843c89",
   "metadata": {},
   "outputs": [
    {
     "name": "stdout",
     "output_type": "stream",
     "text": [
      "구구단을 외우자~~구구단을 외우자~~\n",
      "3X7?21\n",
      "8X1?8\n",
      "4X4?16\n",
      "9X5?45\n",
      "2X6?12\n",
      "8X3?24\n",
      "9X4?36\n",
      "9X7?63\n",
      "7X3?21\n",
      "5X8?40\n"
     ]
    }
   ],
   "source": [
    "# 구구단 외우기 게임2 - 정답을 입력받아 보기\n",
    "\n",
    "import random\n",
    "\n",
    "print('구구단을 외우자~~'*2)\n",
    "\n",
    "for i in range(10):\n",
    "    a = random.randint(2,9)\n",
    "    b = random.randint(1,9)\n",
    "    question = str(a) + 'X' + str(b) + '?'\n",
    "    input(question)"
   ]
  },
  {
   "cell_type": "code",
   "execution_count": null,
   "id": "4ad62d47",
   "metadata": {
    "scrolled": true
   },
   "outputs": [],
   "source": [
    "# 구구단 외우기 게임2 - 정답이 맞다 틀리다 구분\n",
    "\n",
    "import random\n",
    "\n",
    "print('구구단을 외우자~~'*2)\n",
    "\n",
    "for i in range(10):\n",
    "    a = random.randint(2,9)\n",
    "    b = random.randint(1,9)\n",
    "    question = input(f'{a}X{b}은?')\n",
    "    answer = int(question)\n",
    "    if answer  != a*b:\n",
    "        print('틀렸습니다')\n",
    "    else:\n",
    "        print('정답입니다')"
   ]
  },
  {
   "cell_type": "code",
   "execution_count": null,
   "id": "d8376013",
   "metadata": {},
   "outputs": [],
   "source": []
  },
  {
   "cell_type": "code",
   "execution_count": null,
   "id": "21be257a",
   "metadata": {},
   "outputs": [],
   "source": []
  }
 ],
 "metadata": {
  "kernelspec": {
   "display_name": "Python 3 (ipykernel)",
   "language": "python",
   "name": "python3"
  },
  "language_info": {
   "codemirror_mode": {
    "name": "ipython",
    "version": 3
   },
   "file_extension": ".py",
   "mimetype": "text/x-python",
   "name": "python",
   "nbconvert_exporter": "python",
   "pygments_lexer": "ipython3",
   "version": "3.9.7"
  }
 },
 "nbformat": 4,
 "nbformat_minor": 5
}
