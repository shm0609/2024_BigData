{
 "cells": [
  {
   "cell_type": "markdown",
   "id": "322cb96c",
   "metadata": {},
   "source": [
    "## 30908_서혜민_0418_6"
   ]
  },
  {
   "cell_type": "markdown",
   "id": "8c06964e",
   "metadata": {},
   "source": [
    "### 예상문제3 : 가계부 만들기"
   ]
  },
  {
   "cell_type": "code",
   "execution_count": 2,
   "id": "7a2ef647",
   "metadata": {},
   "outputs": [
    {
     "name": "stdout",
     "output_type": "stream",
     "text": [
      "월 별로 수입액을 입력시켜 주세요!\n",
      "1 월의 수입액을 입력시켜 주세요\n",
      "11\n",
      "2 월의 수입액을 입력시켜 주세요\n",
      "12\n",
      "3 월의 수입액을 입력시켜 주세요\n",
      "13\n",
      "4 월의 수입액을 입력시켜 주세요\n",
      "14\n",
      "5 월의 수입액을 입력시켜 주세요\n",
      "15\n",
      "6 월의 수입액을 입력시켜 주세요\n",
      "16\n",
      "상반기 월별 수입액 입니다.\n",
      "상반기 월 수입액은 81 만원 입니다\n",
      "상반기 월 수입액 평균은 13.5 만원 입니다.\n"
     ]
    }
   ],
   "source": [
    "money = []\n",
    "print('월 별로 수입액을 입력시켜 주세요!')\n",
    "for j in range(0,6):\n",
    "    print((j+1),'월의 수입액을 입력시켜 주세요')\n",
    "    money.append(int(input('')))\n",
    "sum=0\n",
    "i=0\n",
    "print('상반기 월별 수입액 입니다.')\n",
    "while i<6:\n",
    "    sum = money[i]+sum\n",
    "    i = i+1\n",
    "avg = sum/6\n",
    "print('상반기 월 수입액은',sum,'만원 입니다')\n",
    "print('상반기 월 수입액 평균은',avg,'만원 입니다.')"
   ]
  },
  {
   "cell_type": "code",
   "execution_count": 4,
   "id": "fed785ff",
   "metadata": {},
   "outputs": [
    {
     "name": "stdout",
     "output_type": "stream",
     "text": [
      "월 별로 수입액을 입력시켜 주세요!\n",
      "1 월의 수입액을 입력시켜 주세요\n",
      "45\n",
      "2 월의 수입액을 입력시켜 주세요\n",
      "11\n",
      "3 월의 수입액을 입력시켜 주세요\n",
      "52\n",
      "4 월의 수입액을 입력시켜 주세요\n",
      "114\n",
      "5 월의 수입액을 입력시켜 주세요\n",
      "13\n",
      "6 월의 수입액을 입력시켜 주세요\n",
      "45\n",
      "상반기 월별 수입액입니다.\n",
      "상반기 월 수입액 280 만원입니다.\n",
      "상빈기 월 수입액 평균은 46.666666666666664 만원입니다\n"
     ]
    }
   ],
   "source": [
    "money = [] # 월별 수입을 저장할 리스트 초기화\n",
    "print('월 별로 수입액을 입력시켜 주세요!')\n",
    "for j in range(0,6):\n",
    "    print((j+1),'월의 수입액을 입력시켜 주세요')\n",
    "    money.append(int(input(''))) # 수입액 입력 후 추가\n",
    "    \n",
    "sum = 0 # 더할 값 초기화\n",
    "i = 0\n",
    "print('상반기 월별 수입액입니다.')\n",
    "while i <6:\n",
    "    sum = money[i]+sum\n",
    "    i = i+1\n",
    "avg =sum/6 # 월별 수입액 평균 입력\n",
    "\n",
    "print(f'상반기 월 수입액 {sum} 만원입니다.') #월 수입 합계\n",
    "print(f'상빈기 월 수입액 평균은 {avg} 만원입니다') #월 평균"
   ]
  },
  {
   "cell_type": "markdown",
   "id": "bac743e8",
   "metadata": {},
   "source": [
    "### 예상문제 4 : 무작위로 입력된 점수 리스트에서 70점 이상인 번호와 값출력"
   ]
  },
  {
   "cell_type": "code",
   "execution_count": 5,
   "id": "fde6a83f",
   "metadata": {},
   "outputs": [
    {
     "name": "stdout",
     "output_type": "stream",
     "text": [
      "리스트에서 점수가 70점 이상인 번호와 값 출력하기\n",
      "12 번 94\n",
      "16 번 72\n",
      "16 번 72\n",
      "24 번 89\n"
     ]
    }
   ],
   "source": [
    "import random\n",
    "score = []\n",
    "for i in range(0,25):\n",
    "    score.append(random.randint(0,100))\n",
    "print('리스트에서 점수가 70점 이상인 번호와 값 출력하기')\n",
    "for s in score:\n",
    "    if s >=70:\n",
    "        print(score.index(s)+1,'번',s)"
   ]
  },
  {
   "cell_type": "code",
   "execution_count": 8,
   "id": "d9384afa",
   "metadata": {},
   "outputs": [
    {
     "name": "stdout",
     "output_type": "stream",
     "text": [
      "리스트에서 점수가 70점 이상인 번호와 값 출력하기\n",
      "5 번 78\n",
      "7 번 96\n",
      "10 번 75\n",
      "12 번 82\n",
      "13 번 81\n",
      "14 번 95\n",
      "23 번 84\n"
     ]
    }
   ],
   "source": [
    "import random\n",
    "score = [] #점수 지정할 리스트 초기화\n",
    "for i in range(0,25):\n",
    "    score.append(random.randint(0,100)) # 무작위로 점수 부여\n",
    "print('리스트에서 점수가 70점 이상인 번호와 값 출력하기')\n",
    "for s in score:\n",
    "    if s >=70:\n",
    "        print(score.index(s)+1,'번',s) # 무작위로 입력한 점수 70점이상들 출력"
   ]
  },
  {
   "cell_type": "markdown",
   "id": "cd8ad829",
   "metadata": {},
   "source": [
    "### 예상문제 5 : 지하철 게임 만들기"
   ]
  },
  {
   "cell_type": "code",
   "execution_count": 9,
   "id": "bc1b2156",
   "metadata": {},
   "outputs": [
    {
     "name": "stdout",
     "output_type": "stream",
     "text": [
      "지하철~♪♬지하철~♪♬지하철~♪♬지하철~♪♬\n",
      "몇호선?신분당선\n",
      "ㅇ\n",
      "땡 해당 역은 신분당선 이 아닙니다!\n",
      "벌칙 당첨!!\n"
     ]
    }
   ],
   "source": [
    "신분당선 = ['광교','광교중앙','상현','성복','수지구청','동천','미금','정자', \n",
    "       '판교','청계산입구','양재시민의숲','양재','강남']\n",
    "팔호선 = ['모란','수진','신흥','단대오거리','남한산성입구','산성','남위례',\n",
    "       '복정','장지','문정','가락시장','송파','석촌','잠실','몽촌토성',\n",
    "       '강동구청','천호','암사']\n",
    "\n",
    "print('지하철~♪♬'*4)\n",
    "호선 = input('몇호선?')\n",
    "\n",
    "for i in range(10):\n",
    "    if 호선 == '신분당선':\n",
    "        입력 = input()\n",
    "        if 입력 not in 신분당선:\n",
    "            print('땡 해당 역은',호선,'이 아닙니다!')\n",
    "            print('벌칙 당첨!!')\n",
    "            break\n",
    "        elif 호선 == '팔호선':\n",
    "            입력 = input()\n",
    "            입력 = inpurt()\n",
    "            if 입력 not in 신분당선:\n",
    "                print('땡 해당 역은',호선,'이 아닙니다!')\n",
    "                print('벌칙 당첨!!')\n",
    "                break"
   ]
  },
  {
   "cell_type": "code",
   "execution_count": 11,
   "id": "3e25d8b3",
   "metadata": {},
   "outputs": [
    {
     "name": "stdout",
     "output_type": "stream",
     "text": [
      "지하철~♪♬지하철~♪♬지하철~♪♬지하철~♪♬\n",
      "몇호선?팔호선\n",
      "44\n",
      "땡 해당 역은 팔호선 이 아닙니다!\n",
      "벌칙 당첨!\n"
     ]
    }
   ],
   "source": [
    "신분당선 = ['광교','광교중앙','상현','성복','수지구청','동천','미금','정자', \n",
    "       '판교','청계산입구','양재시민의숲','양재','강남']\n",
    "팔호선 = ['모란','수진','신흥','단대오거리','남한산성입구','산성','남위례',\n",
    "       '복정','장지','문정','가락시장','송파','석촌','잠실','몽촌토성',\n",
    "       '강동구청','천호','암사']\n",
    "#지하철 역 입력\n",
    "\n",
    "print('지하철~♪♬'*4)\n",
    "호선 = input(\"몇호선?\") #원하는 지하철 입력\n",
    "\n",
    "for i in range(10):\n",
    "    if 호선 == '신분당선':\n",
    "        입력 = input() # 해당하는 역 이름\n",
    "        if 입력 not in 신분당선:\n",
    "            print('땡 해당 역은',호선,'이 아닙니다!') #신분당선 역이 이니면 출력\n",
    "            print('벌칙 당첨!')\n",
    "            break\n",
    "    elif 호선 == '팔호선':\n",
    "        입력 = input() # 해당하는 역 이름\n",
    "        if 입력 not in 팔호선:\n",
    "            print('땡 해당 역은',호선,'이 아닙니다!') #팔호선 역이 이니면 출력\n",
    "            print('벌칙 당첨!')\n",
    "            break"
   ]
  },
  {
   "cell_type": "code",
   "execution_count": null,
   "id": "342a0c95",
   "metadata": {},
   "outputs": [],
   "source": []
  }
 ],
 "metadata": {
  "kernelspec": {
   "display_name": "Python 3 (ipykernel)",
   "language": "python",
   "name": "python3"
  },
  "language_info": {
   "codemirror_mode": {
    "name": "ipython",
    "version": 3
   },
   "file_extension": ".py",
   "mimetype": "text/x-python",
   "name": "python",
   "nbconvert_exporter": "python",
   "pygments_lexer": "ipython3",
   "version": "3.9.7"
  }
 },
 "nbformat": 4,
 "nbformat_minor": 5
}
