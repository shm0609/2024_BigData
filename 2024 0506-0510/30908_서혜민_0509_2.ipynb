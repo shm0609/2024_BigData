{
 "cells": [
  {
   "cell_type": "markdown",
   "id": "3db8e073",
   "metadata": {},
   "source": [
    "# 30908_서혜민_0509_2"
   ]
  },
  {
   "cell_type": "markdown",
   "id": "3eb606b6",
   "metadata": {},
   "source": [
    "# 수행연습1\n",
    "   - 영어단어장"
   ]
  },
  {
   "cell_type": "code",
   "execution_count": 1,
   "id": "756e7c05",
   "metadata": {},
   "outputs": [
    {
     "name": "stdout",
     "output_type": "stream",
     "text": [
      "영어단어, 뜻 : banana, 바나나\n",
      "영어단어, 뜻 : apple, 사과\n",
      "영어단어, 뜻 : lemon, 레몬\n",
      "영어단어, 뜻 : \n"
     ]
    },
    {
     "data": {
      "text/plain": [
       "{'banana': ' 바나나', 'apple': ' 사과', 'lemon': ' 레몬'}"
      ]
     },
     "execution_count": 1,
     "metadata": {},
     "output_type": "execute_result"
    }
   ],
   "source": [
    "dict_word = {}\n",
    "\n",
    "while True :\n",
    "    input_word = input('영어단어, 뜻 : ')\n",
    "    if input_word =='':\n",
    "        break\n",
    "    eng = input_word.split(',')[0]\n",
    "    kor = input_word.split(',')[1]\n",
    "    dict_word[eng] = kor\n",
    "    \n",
    "dict_word"
   ]
  },
  {
   "cell_type": "markdown",
   "id": "0d983ff9",
   "metadata": {},
   "source": [
    "# 수행연습2\n",
    "- 할인된 금액 계산"
   ]
  },
  {
   "cell_type": "code",
   "execution_count": 3,
   "id": "0c3d9a7d",
   "metadata": {},
   "outputs": [
    {
     "name": "stdout",
     "output_type": "stream",
     "text": [
      "물건 구매가 : 200000\n",
      "\n",
      "구매가 : 200000\n",
      "할인율 : 10%\n",
      "할인금액 : 20000.0\n",
      "지불금액 : 180000.0\n",
      "\n"
     ]
    }
   ],
   "source": [
    "price = int(input('물건 구매가 : '))\n",
    "\n",
    "if price >= 100000:\n",
    "    dc=10\n",
    "elif price>=50000:\n",
    "    dc = 7\n",
    "elif price >= 10000:\n",
    "    dc = 5\n",
    "else :\n",
    "    dc = 0\n",
    "    \n",
    "print(f'''\n",
    "구매가 : {price}\n",
    "할인율 : {dc}%\n",
    "할인금액 : {price*(dc/100)}\n",
    "지불금액 : {price-price*(dc/100)}\n",
    "''')"
   ]
  },
  {
   "cell_type": "markdown",
   "id": "ece159e8",
   "metadata": {},
   "source": [
    "# 수행연습3\n",
    "- 사칙연산"
   ]
  },
  {
   "cell_type": "code",
   "execution_count": 7,
   "id": "f3bbde24",
   "metadata": {},
   "outputs": [
    {
     "name": "stdout",
     "output_type": "stream",
     "text": [
      "숫자1 : 8\n",
      "숫자2 : 9\n",
      "연산 기호 :*\n",
      "곱셈 : 8*9=72\n"
     ]
    }
   ],
   "source": [
    "num1 = int(input('숫자1 : '))\n",
    "num2 = int(input('숫자2 : '))\n",
    "op = input('연산 기호 :')\n",
    "\n",
    "if op == '+':\n",
    "    print(f'덧셈 : {num1}+{num2}={num1+num2}')\n",
    "elif op == '-':\n",
    "    print(f'뺼셈 : {num1}-{num2}={num1-num2}')\n",
    "elif op == '*':\n",
    "    print(f'곱셈 : {num1}*{num2}={num1*num2}')\n",
    "elif op == '/':\n",
    "    print(f'나눗셈 : {num1}/{num2}={num1/num2}')\n",
    "else : \n",
    "    print(f'잘못 입력하셨습니다.')"
   ]
  },
  {
   "cell_type": "markdown",
   "id": "65306fcf",
   "metadata": {},
   "source": [
    "# 수행연습4\n",
    "- up&down 숫자ㅣ 맞추기 게임 프로그램"
   ]
  },
  {
   "cell_type": "code",
   "execution_count": 8,
   "id": "5b250519",
   "metadata": {},
   "outputs": [
    {
     "name": "stdout",
     "output_type": "stream",
     "text": [
      "Attempt1.예상 숫자를 입력하세요(1-100)9\n",
      "Up\n",
      "Attempt2.예상 숫자를 입력하세요(1-100)6\n",
      "Up\n",
      "Attempt3.예상 숫자를 입력하세요(1-100)32\n",
      "Down\n",
      "Attempt4.예상 숫자를 입력하세요(1-100)2\n",
      "Up\n",
      "Attempt5.예상 숫자를 입력하세요(1-100)2\n",
      "Up\n",
      "횟수 초과입니다. 정답은 26였습니다.\n"
     ]
    }
   ],
   "source": [
    "import random\n",
    "def guess_number_game(max_attempts=5):\n",
    "    cnt = 0\n",
    "    num = random.randint(1,100)\n",
    "    \n",
    "    while cnt < max_attempts :\n",
    "        cnt +=1\n",
    "        answer = int(input(f'Attempt{cnt}.예상 숫자를 입력하세요(1-100)'))\n",
    "        if answer == num:\n",
    "            print(f'정답 입니다!')\n",
    "            print(f'{cnt}번 만에 맞추었습니다.')\n",
    "            return\n",
    "        if answer < num :\n",
    "            print('Up')\n",
    "        else :\n",
    "            print('Down')\n",
    "            \n",
    "    print(f'횟수 초과입니다. 정답은 {num}였습니다.')\n",
    "guess_number_game()"
   ]
  },
  {
   "cell_type": "markdown",
   "id": "65695759",
   "metadata": {},
   "source": [
    "# 수행연습 5\n",
    "- 아이디 비번 프로그램"
   ]
  },
  {
   "cell_type": "code",
   "execution_count": 10,
   "id": "c87aa685",
   "metadata": {},
   "outputs": [
    {
     "name": "stdout",
     "output_type": "stream",
     "text": [
      "id : id123\n",
      "pwd : pwd123\n"
     ]
    }
   ],
   "source": [
    "id = 'id123'\n",
    "pwd = 'pwd123'\n",
    "\n",
    "while True:\n",
    "    input_id = input('id : ')\n",
    "    input_pwd = input('pwd : ')\n",
    "    \n",
    "    if id == input_id and pwd == input_pwd:\n",
    "        break\n",
    "    if id != input_id:\n",
    "        print(f'아이디를 확인하세요')\n",
    "    if pwd != input_pwd :\n",
    "        print(f'비밀번호를 확인하세요')"
   ]
  },
  {
   "cell_type": "code",
   "execution_count": null,
   "id": "054b6d68",
   "metadata": {},
   "outputs": [],
   "source": []
  }
 ],
 "metadata": {
  "kernelspec": {
   "display_name": "Python 3 (ipykernel)",
   "language": "python",
   "name": "python3"
  },
  "language_info": {
   "codemirror_mode": {
    "name": "ipython",
    "version": 3
   },
   "file_extension": ".py",
   "mimetype": "text/x-python",
   "name": "python",
   "nbconvert_exporter": "python",
   "pygments_lexer": "ipython3",
   "version": "3.9.7"
  }
 },
 "nbformat": 4,
 "nbformat_minor": 5
}
