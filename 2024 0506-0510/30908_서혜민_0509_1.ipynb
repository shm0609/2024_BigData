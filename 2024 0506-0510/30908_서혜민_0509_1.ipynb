{
 "cells": [
  {
   "cell_type": "markdown",
   "id": "4c8ee46a",
   "metadata": {},
   "source": [
    "## 수행평가 예상문제\n",
    "#### 문제6\n",
    "    -영어단어장 만들기 프로그램"
   ]
  },
  {
   "cell_type": "code",
   "execution_count": 4,
   "id": "bc44c9ce",
   "metadata": {},
   "outputs": [
    {
     "name": "stdout",
     "output_type": "stream",
     "text": [
      "영어단어, 뜻:apple, 사과\n",
      "영어단어, 뜻:\n"
     ]
    },
    {
     "data": {
      "text/plain": [
       "{'apple': ' 사과'}"
      ]
     },
     "execution_count": 4,
     "metadata": {},
     "output_type": "execute_result"
    }
   ],
   "source": [
    "#빈 딕셔너리 만들기\n",
    "dict_word={}\n",
    "\n",
    "# 공백을 입력할때까지 입력 키값과 밸류값 받기\n",
    "while True :\n",
    "    input_word = input('영어단어, 뜻:')\n",
    "    if input_word=='':\n",
    "        break\n",
    "        \n",
    "    #키값과 밸류값 분리\n",
    "    eng = input_word.split(',')[0]\n",
    "    kor = input_word.split(',')[1]    \n",
    "    \n",
    "    #키값과 밸류값 저장\n",
    "    dict_word[eng] = kor\n",
    "    \n",
    "#출력\n",
    "dict_word"
   ]
  },
  {
   "cell_type": "markdown",
   "id": "450d23a6",
   "metadata": {},
   "source": [
    "## 수행평가 예상문제\n",
    "#### 문제7\n",
    "    -할인된 금액 계산 프로그램"
   ]
  },
  {
   "cell_type": "code",
   "execution_count": 13,
   "id": "f4974b78",
   "metadata": {
    "scrolled": false
   },
   "outputs": [
    {
     "name": "stdout",
     "output_type": "stream",
     "text": [
      "물건 구매가: 200000\n",
      "\n",
      "구매가 : 200000\n",
      "할인율 : 10%\n",
      "할인금액 : 20000.0\n",
      "지불금액 : 180000.0\n",
      "\n"
     ]
    }
   ],
   "source": [
    "price = int(input('물건 구매가: '))\n",
    "\n",
    "#할인율 결정\n",
    "if price >= 100000:\n",
    "    dc = 10\n",
    "elif price >= 50000:\n",
    "    dc = 7\n",
    "elif price >= 10000:\n",
    "    dc = 5\n",
    "else :\n",
    "    dc = 0\n",
    "    \n",
    "#출력\n",
    "print(f'''\n",
    "구매가 : {price}\n",
    "할인율 : {dc}%\n",
    "할인금액 : {price*(dc/100)}\n",
    "지불금액 : {price - price*(dc/100)}\n",
    "''')"
   ]
  },
  {
   "cell_type": "markdown",
   "id": "97442a16",
   "metadata": {},
   "source": [
    "## 수행평가 예상문제\n",
    "#### 문제8\n",
    "    -사칙연산 프로그램"
   ]
  },
  {
   "cell_type": "code",
   "execution_count": 14,
   "id": "544edca3",
   "metadata": {
    "scrolled": true
   },
   "outputs": [
    {
     "name": "stdout",
     "output_type": "stream",
     "text": [
      "숫자1 : 5\n",
      "숫자2 : 4\n",
      "연산 기호 :=\n",
      "잘못 입력하셨습니다.\n"
     ]
    }
   ],
   "source": [
    "num1 = int(input('숫자1 : '))\n",
    "num2 = int(input('숫자2 : '))\n",
    "op = input('연산 기호 :')\n",
    "\n",
    "if op == '+':\n",
    "    print(f'덧셈 : {num1}+{num2}={num1+num2}')\n",
    "elif op == '-':\n",
    "    print(f'뺼셈 : {num1}-{num2}={num1-num2}')\n",
    "elif op == '*':\n",
    "    print(f'곱셈 : {num1}*{num2}={num1*num2}')\n",
    "elif op == '/':\n",
    "    print(f'나눗셈 : {num1}/{num2}={num1/num2}')\n",
    "else : \n",
    "    print(f'잘못 입력하셨습니다.')"
   ]
  },
  {
   "cell_type": "markdown",
   "id": "c8141f1a",
   "metadata": {},
   "source": [
    "## 수행평가 예상문제\n",
    "#### 문제9\n",
    "    -up&down 숫자 맞추기 게임"
   ]
  },
  {
   "cell_type": "code",
   "execution_count": 17,
   "id": "e76c94c8",
   "metadata": {},
   "outputs": [
    {
     "name": "stdout",
     "output_type": "stream",
     "text": [
      "Attempt 1.예상 숫자를 입력하세요 (1-100)9\n",
      "Up\n",
      "Attempt 2.예상 숫자를 입력하세요 (1-100)80\n",
      "Up\n",
      "Attempt 3.예상 숫자를 입력하세요 (1-100)99\n",
      "Down\n",
      "Attempt 4.예상 숫자를 입력하세요 (1-100)81\n",
      "Up\n",
      "Attempt 5.예상 숫자를 입력하세요 (1-100)85\n",
      "Down\n",
      "횟수 초과입니다. 정답은 83였습니다.\n"
     ]
    }
   ],
   "source": [
    "import random\n",
    "def guess_number_game(max_attempts=5):\n",
    "    cnt = 0\n",
    "    num = random.randint(1,100)\n",
    "    \n",
    "    while cnt < max_attempts:\n",
    "        cnt += 1\n",
    "        answer = int(input(f'Attempt {cnt}.예상 숫자를 입력하세요 (1-100)'))\n",
    "        if answer == num :\n",
    "            print(f'정답 입니다!')\n",
    "            print(f'{cnt}번 만에 맞추었습니다.')\n",
    "            return\n",
    "        \n",
    "        if answer < num :\n",
    "            print('Up')\n",
    "        else : \n",
    "            print('Down')\n",
    "            \n",
    "    print(f'횟수 초과입니다. 정답은 {num}였습니다.')\n",
    "#시작\n",
    "guess_number_game()"
   ]
  },
  {
   "cell_type": "markdown",
   "id": "7906e3ae",
   "metadata": {},
   "source": [
    "## 수행평가 예상문제\n",
    "#### 문제10\n",
    "    -아이디/비번 프로그램"
   ]
  },
  {
   "cell_type": "code",
   "execution_count": 18,
   "id": "0b574601",
   "metadata": {},
   "outputs": [
    {
     "name": "stdout",
     "output_type": "stream",
     "text": [
      "id : id123\n",
      "pwd : pwd123\n"
     ]
    }
   ],
   "source": [
    "#주어진 아이디와 비번\n",
    "id = 'id123'\n",
    "pwd = 'pwd123'\n",
    "\n",
    "while True :\n",
    "    input_id = input('id : ')\n",
    "    input_pwd = input('pwd : ')\n",
    "    \n",
    "    if id == input_id and pwd == input_pwd:\n",
    "        break\n",
    "    if id != input_id:\n",
    "        print(f'아이디를 확인하세요')\n",
    "    if pwd != input_pwd:\n",
    "        print(f'비밀번호를 확인하세요')"
   ]
  },
  {
   "cell_type": "code",
   "execution_count": null,
   "id": "c448ad9f",
   "metadata": {},
   "outputs": [],
   "source": []
  }
 ],
 "metadata": {
  "kernelspec": {
   "display_name": "Python 3 (ipykernel)",
   "language": "python",
   "name": "python3"
  },
  "language_info": {
   "codemirror_mode": {
    "name": "ipython",
    "version": 3
   },
   "file_extension": ".py",
   "mimetype": "text/x-python",
   "name": "python",
   "nbconvert_exporter": "python",
   "pygments_lexer": "ipython3",
   "version": "3.9.7"
  }
 },
 "nbformat": 4,
 "nbformat_minor": 5
}
