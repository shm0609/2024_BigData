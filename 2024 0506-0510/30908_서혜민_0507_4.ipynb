{
 "cells": [
  {
   "cell_type": "markdown",
   "id": "c9d91465",
   "metadata": {},
   "source": [
    "## 30908_서혜민_0507_4"
   ]
  },
  {
   "cell_type": "markdown",
   "id": "da44caa6",
   "metadata": {},
   "source": [
    "##### 수행연습1\n",
    "    - 영어단어장"
   ]
  },
  {
   "cell_type": "code",
   "execution_count": 5,
   "id": "48b5f178",
   "metadata": {},
   "outputs": [
    {
     "name": "stdout",
     "output_type": "stream",
     "text": [
      "영어단어, 뜻:banana, 바나나\n",
      "영어단어, 뜻:apple, 사과\n",
      "영어단어, 뜻:\n"
     ]
    },
    {
     "data": {
      "text/plain": [
       "{'banana': ' 바나나', 'apple': ' 사과'}"
      ]
     },
     "execution_count": 5,
     "metadata": {},
     "output_type": "execute_result"
    }
   ],
   "source": [
    "dict_word={}\n",
    "\n",
    "while True:\n",
    "    input_word = input('영어단어, 뜻:')\n",
    "    if input_word=='':\n",
    "        break\n",
    "    eng = input_word.split(',')[0]\n",
    "    kor = input_word.split(',')[1]\n",
    "    \n",
    "    dict_word[eng] = kor\n",
    "dict_word"
   ]
  },
  {
   "cell_type": "markdown",
   "id": "cdc96657",
   "metadata": {},
   "source": [
    "##### 수행연습2\n",
    "    - 할인된 금액 계산 프로그램"
   ]
  },
  {
   "cell_type": "code",
   "execution_count": 7,
   "id": "82e3f1b3",
   "metadata": {},
   "outputs": [
    {
     "name": "stdout",
     "output_type": "stream",
     "text": [
      "물건구매가 : 200000\n",
      "\n",
      "구매가:200000\n",
      "할인율 : 10%\n",
      "할인금액 : 20000.0\n",
      "지불금액 : 180000.0\n",
      "\n"
     ]
    }
   ],
   "source": [
    "price = int(input('물건구매가 : '))\n",
    "\n",
    "if price >=100000:\n",
    "    dc = 10\n",
    "elif price >=50000:\n",
    "    dc = 7\n",
    "elif price >=10000:\n",
    "    dc = 5\n",
    "else : \n",
    "    dc = 0\n",
    "    \n",
    "print(f'''\n",
    "구매가:{price}\n",
    "할인율 : {dc}%\n",
    "할인금액 : {price*(dc/100)}\n",
    "지불금액 : {price - price*(dc/100)}\n",
    "''')"
   ]
  },
  {
   "cell_type": "markdown",
   "id": "7a6a83db",
   "metadata": {},
   "source": [
    "##### 수행연습3\n",
    "    - 사칙연산 프로그램"
   ]
  },
  {
   "cell_type": "code",
   "execution_count": 9,
   "id": "b93d537f",
   "metadata": {},
   "outputs": [
    {
     "name": "stdout",
     "output_type": "stream",
     "text": [
      "숫자1 : 3\n",
      "숫자2 : 2\n",
      "연산기호 : *\n",
      "곱셈 : 3*2=6\n"
     ]
    }
   ],
   "source": [
    "num1 = int(input('숫자1 : '))\n",
    "num2 = int(input('숫자2 : '))\n",
    "op = input('연산기호 : ')\n",
    "\n",
    "if op == '+':\n",
    "    print(f'덧셈 : {num1}+{num2}={num1+num2}')\n",
    "elif op == '-':\n",
    "    print(f'뺄셈 : {num1}-{num2}={num1-num2}')\n",
    "elif op == '*':\n",
    "    print(f'곱셈 : {num1}*{num2}={num1*num2}')\n",
    "elif op == '/':\n",
    "    print(f'나눗셈 : {num1}/{num2}={num1/num2}')\n",
    "else :\n",
    "    print(f'잘못 입력하셨습니다.')"
   ]
  },
  {
   "cell_type": "markdown",
   "id": "0a7bee54",
   "metadata": {},
   "source": [
    "##### 수행연습4\n",
    "    - up&down 숫자 맞추기 게임"
   ]
  },
  {
   "cell_type": "code",
   "execution_count": 13,
   "id": "41c3bf03",
   "metadata": {},
   "outputs": [
    {
     "name": "stdout",
     "output_type": "stream",
     "text": [
      "Attempt1. 예상 숫자를 입력하세요(1-100):56\n",
      "Up\n",
      "Attempt2. 예상 숫자를 입력하세요(1-100):88\n",
      "Down\n",
      "Attempt3. 예상 숫자를 입력하세요(1-100):68\n",
      "Up\n",
      "Attempt4. 예상 숫자를 입력하세요(1-100):70\n",
      "Up\n",
      "Attempt5. 예상 숫자를 입력하세요(1-100):72\n",
      "Up\n",
      "횟수 초과입니다. 정답은 79였습니다.\n"
     ]
    }
   ],
   "source": [
    "import random\n",
    "def guess_number_game(max_attempts=5):\n",
    "    cnt = 0\n",
    "    num = random.randint(1,100)\n",
    "    \n",
    "    while cnt < max_attempts:\n",
    "        cnt+=1\n",
    "        answer = int(input(f'Attempt{cnt}. 예상 숫자를 입력하세요(1-100):'))\n",
    "        if answer == num:\n",
    "            print(f'정답 입니다!')\n",
    "            print(f'{cnt}번 만에 맞추었습니다.')\n",
    "            return\n",
    "        if answer < num:\n",
    "            print('Up')\n",
    "        else : \n",
    "            print('Down')\n",
    "    print(f'횟수 초과입니다. 정답은 {num}였습니다.')\n",
    "    \n",
    "guess_number_game()"
   ]
  },
  {
   "cell_type": "markdown",
   "id": "da465142",
   "metadata": {},
   "source": [
    "##### 수행연습5\n",
    "    - 아이디/비밀번호 프로그램"
   ]
  },
  {
   "cell_type": "code",
   "execution_count": 16,
   "id": "274e30dd",
   "metadata": {},
   "outputs": [
    {
     "name": "stdout",
     "output_type": "stream",
     "text": [
      "id:c1\n",
      "pwd : 22\n",
      "아이디를 확인하세요\n",
      "비밀번호를 확인하세요\n",
      "id:dd\n",
      "pwd : fd\n",
      "아이디를 확인하세요\n",
      "비밀번호를 확인하세요\n",
      "id:id123\n",
      "pwd : pwd123\n"
     ]
    }
   ],
   "source": [
    "id = 'id123'\n",
    "pwd = 'pwd123'\n",
    "\n",
    "while True:\n",
    "    input_id = input('id:')\n",
    "    input_pwd = input('pwd : ')\n",
    "    \n",
    "    if id  == input_id and pwd == input_pwd:\n",
    "        break\n",
    "    if id != input_id:\n",
    "        print(f'아이디를 확인하세요')\n",
    "    if pwd != input_pwd :\n",
    "        print(f'비밀번호를 확인하세요')"
   ]
  },
  {
   "cell_type": "code",
   "execution_count": null,
   "id": "499a28c9",
   "metadata": {},
   "outputs": [],
   "source": []
  }
 ],
 "metadata": {
  "kernelspec": {
   "display_name": "Python 3 (ipykernel)",
   "language": "python",
   "name": "python3"
  },
  "language_info": {
   "codemirror_mode": {
    "name": "ipython",
    "version": 3
   },
   "file_extension": ".py",
   "mimetype": "text/x-python",
   "name": "python",
   "nbconvert_exporter": "python",
   "pygments_lexer": "ipython3",
   "version": "3.9.7"
  }
 },
 "nbformat": 4,
 "nbformat_minor": 5
}
