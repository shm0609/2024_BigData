{
 "cells": [
  {
   "cell_type": "markdown",
   "id": "08a64b33",
   "metadata": {},
   "source": [
    "## 30908_서혜민_0401_1"
   ]
  },
  {
   "cell_type": "code",
   "execution_count": 3,
   "id": "2ca4a6c2",
   "metadata": {},
   "outputs": [
    {
     "name": "stdout",
     "output_type": "stream",
     "text": [
      "배열의 최댓값을 구합니다.\n",
      "원소 수를 입력하세요 : 5\n",
      "x[0]를 입력하세요. : 123\n",
      "x[1]를 입력하세요. : 456\n",
      "x[2]를 입력하세요. : 789\n",
      "x[3]를 입력하세요. : 012\n",
      "x[4]를 입력하세요. : 852\n",
      "최댓값은 852입니다.\n"
     ]
    }
   ],
   "source": [
    "from typing import Any, Sequence\n",
    "\n",
    "def max_of(a:Sequence) -> Any:\n",
    "    maximum = a[0]\n",
    "    for i in range(1,len(a)):\n",
    "        if a[i] > maximum :\n",
    "            maximum = a[i]\n",
    "    return maximum\n",
    "\n",
    "if __name__ == '__main__':\n",
    "    print('배열의 최댓값을 구합니다.')\n",
    "    num = int(input('원소 수를 입력하세요 : '))\n",
    "    x = [None] * num\n",
    "    \n",
    "    for i in range(num):\n",
    "        x[i] = int(input(f'x[{i}]를 입력하세요. : '))\n",
    "        \n",
    "    print(f'최댓값은 {max_of(x)}입니다.')"
   ]
  },
  {
   "cell_type": "code",
   "execution_count": 1,
   "id": "7e7a576c",
   "metadata": {
    "scrolled": true
   },
   "outputs": [
    {
     "name": "stdout",
     "output_type": "stream",
     "text": [
      "배열의 최댓값을 구합니다.\n",
      "주의: \"End\"를 입력하면 종료합니다.\n",
      "x[0]를 입력하세요.:15\n",
      "x[1]를 입력하세요.:72\n",
      "x[2]를 입력하세요.:64\n",
      "x[3]를 입력하세요.:7\n",
      "x[4]를 입력하세요.:End\n",
      "4개를 입력했습니다.\n",
      "최댓값은 72입니다.\n"
     ]
    }
   ],
   "source": [
    "# 배열 원소의 최댓값을 구해서 출력하기(원솟값을 입력받음)\n",
    "# from max import max_of\n",
    "\n",
    "from typing import Any, Sequence\n",
    "\n",
    "def max_of(a:Sequence) -> Any:\n",
    "    maximum = a[0]\n",
    "    for i in range(1,len(a)):\n",
    "        if a[i] > maximum :\n",
    "            maximum = a[i]\n",
    "    return maximum\n",
    "\n",
    "print('배열의 최댓값을 구합니다.')\n",
    "print('주의: \"End\"를 입력하면 종료합니다.')\n",
    "\n",
    "number = 0\n",
    "x = []\n",
    "\n",
    "while True:\n",
    "    s = input(f'x[{number}]를 입력하세요.:')\n",
    "    if s == 'End':\n",
    "        break\n",
    "    x.append(int(s))\n",
    "    number += 1\n",
    "\n",
    "print(f'{number}개를 입력했습니다.')\n",
    "print(f'최댓값은 {max_of(x)}입니다.')"
   ]
  },
  {
   "cell_type": "code",
   "execution_count": 2,
   "id": "aea01e43",
   "metadata": {},
   "outputs": [
    {
     "name": "stdout",
     "output_type": "stream",
     "text": [
      "난수의 최댓값을 구합니다.\n",
      "난수의 개수를 입력하세요.: 5\n",
      "난수의 최솟값을 입력하세요. : 10\n",
      "난수의 최댓값을 입력하세요. :99\n",
      "[68, 55, 14, 36, 24]\n",
      "이 가운데 최댓값은 68입니다.\n"
     ]
    }
   ],
   "source": [
    "\n",
    "from typing import Any, Sequence\n",
    "\n",
    "def max_of(a:Sequence) -> Any:\n",
    "    maximum = a[0]\n",
    "    for i in range(1,len(a)):\n",
    "        if a[i] > maximum :\n",
    "            maximum = a[i]\n",
    "    return maximum\n",
    "\n",
    "import random\n",
    "\n",
    "print('난수의 최댓값을 구합니다.')\n",
    "num = int(input('난수의 개수를 입력하세요.: '))\n",
    "lo = int(input('난수의 최솟값을 입력하세요. : '))\n",
    "hi = int(input('난수의 최댓값을 입력하세요. :'))\n",
    "x = [None]*num\n",
    "\n",
    "for i in range(num):\n",
    "    x[i] = random.randint(lo,hi)\n",
    "    \n",
    "print(f'{(x)}')\n",
    "print(f'이 가운데 최댓값은 {max_of(x)}입니다.')"
   ]
  },
  {
   "cell_type": "code",
   "execution_count": null,
   "id": "0fb902fa",
   "metadata": {},
   "outputs": [],
   "source": []
  }
 ],
 "metadata": {
  "kernelspec": {
   "display_name": "Python 3 (ipykernel)",
   "language": "python",
   "name": "python3"
  },
  "language_info": {
   "codemirror_mode": {
    "name": "ipython",
    "version": 3
   },
   "file_extension": ".py",
   "mimetype": "text/x-python",
   "name": "python",
   "nbconvert_exporter": "python",
   "pygments_lexer": "ipython3",
   "version": "3.9.7"
  }
 },
 "nbformat": 4,
 "nbformat_minor": 5
}
