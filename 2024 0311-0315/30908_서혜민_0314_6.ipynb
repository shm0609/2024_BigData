{
 "cells": [
  {
   "cell_type": "markdown",
   "id": "2ab30f5e",
   "metadata": {},
   "source": [
    "## 30908_서혜민_0314_6"
   ]
  },
  {
   "cell_type": "markdown",
   "id": "e79a9804",
   "metadata": {},
   "source": [
    "## 3.1 데이터를 저장하는 공간 : 변수\n",
    "### 3.1.1 변수란"
   ]
  },
  {
   "cell_type": "code",
   "execution_count": 2,
   "id": "2e2cbd3d",
   "metadata": {},
   "outputs": [],
   "source": [
    "a = 10"
   ]
  },
  {
   "cell_type": "code",
   "execution_count": 3,
   "id": "f16b312c",
   "metadata": {},
   "outputs": [],
   "source": [
    "a= 20"
   ]
  },
  {
   "cell_type": "code",
   "execution_count": 4,
   "id": "0285cd02",
   "metadata": {},
   "outputs": [
    {
     "name": "stdout",
     "output_type": "stream",
     "text": [
      "20\n"
     ]
    }
   ],
   "source": [
    "print(a)"
   ]
  },
  {
   "cell_type": "markdown",
   "id": "168c1aa7",
   "metadata": {},
   "source": [
    "### 3.1.2 변수에 값을 저장하고 사용하기"
   ]
  },
  {
   "cell_type": "code",
   "execution_count": 5,
   "id": "158e9f3b",
   "metadata": {},
   "outputs": [
    {
     "name": "stdout",
     "output_type": "stream",
     "text": [
      "a\n",
      "10\n"
     ]
    }
   ],
   "source": [
    "a = 10\n",
    "print('a')\n",
    "print(a)"
   ]
  },
  {
   "cell_type": "code",
   "execution_count": 8,
   "id": "d625b227",
   "metadata": {},
   "outputs": [
    {
     "name": "stdout",
     "output_type": "stream",
     "text": [
      "10\n"
     ]
    }
   ],
   "source": [
    "가나다 = 10\n",
    "print(가나다)"
   ]
  },
  {
   "cell_type": "code",
   "execution_count": 17,
   "id": "ef52ae65",
   "metadata": {
    "scrolled": true
   },
   "outputs": [
    {
     "name": "stdout",
     "output_type": "stream",
     "text": [
      "성일정보\n",
      "성일 정보\n",
      "성일성일성일성일성일정보\n"
     ]
    }
   ],
   "source": [
    "b = '성일'\n",
    "c = '정보'\n",
    "print(b+c)\n",
    "print(b,c)\n",
    "print(b+b+b+b+b+c)"
   ]
  },
  {
   "cell_type": "code",
   "execution_count": 32,
   "id": "485b1dc0",
   "metadata": {},
   "outputs": [
    {
     "name": "stdout",
     "output_type": "stream",
     "text": [
      "유리 키는 175.5 , 나이는 21 , 취미는 programming 입니다!\n"
     ]
    }
   ],
   "source": [
    "name = '유리'\n",
    "height = 175.5\n",
    "age = 21\n",
    "hobby = 'programming'\n",
    "print(name, \"키는\", height, \", 나이는\",age,\", 취미는\",hobby,\"입니다!\")"
   ]
  },
  {
   "cell_type": "markdown",
   "id": "d5c45edd",
   "metadata": {},
   "source": [
    "```\n",
    "유리 키는 175.5 , 나이는 21 , 취미는 programming 입니다!\n",
    "제임스 키는 186, 나이는 24, 취미는 요리하기 입니다!\n",
    "```"
   ]
  },
  {
   "cell_type": "code",
   "execution_count": 35,
   "id": "2726fe59",
   "metadata": {},
   "outputs": [
    {
     "name": "stdout",
     "output_type": "stream",
     "text": [
      "제임스 키는 186 , 나이는 24 , 취미는 요리하기 입니다!\n",
      "제임스 키는 186, 나이는 24, 취미는 요리하기입니다.\n",
      "제임스 키는186,나이는24,취미는 요리하기입니다.\n"
     ]
    }
   ],
   "source": [
    "name = '제임스'\n",
    "height = 186\n",
    "age = 24\n",
    "hobby = '요리하기'\n",
    "print(name, \"키는\", height, \", 나이는\",age,\", 취미는\",hobby,\"입니다!\")\n",
    "print('{} 키는 {}, 나이는 {}, 취미는 {}입니다.'.format(name,height,age,hobby))\n",
    "print(f'{name} 키는{height},나이는{age},취미는 {hobby}입니다.')"
   ]
  },
  {
   "cell_type": "markdown",
   "id": "8d7d41a3",
   "metadata": {},
   "source": [
    "원의 넓이를 구해봅시다.\n",
    "\n",
    "공식 : 파이 * 반지름 ** 2\n",
    "\n",
    "p = 3.1451592\n",
    "r = 5\n"
   ]
  },
  {
   "cell_type": "code",
   "execution_count": 40,
   "id": "01d76c79",
   "metadata": {},
   "outputs": [
    {
     "name": "stdout",
     "output_type": "stream",
     "text": [
      "원의 넓이=78.62898\n"
     ]
    }
   ],
   "source": [
    "p = 3.1451592\n",
    "r = 5\n",
    "\n",
    "result = p*r**2\n",
    "print(f'원의 넓이={result}')"
   ]
  },
  {
   "cell_type": "code",
   "execution_count": null,
   "id": "92873b84",
   "metadata": {},
   "outputs": [],
   "source": []
  }
 ],
 "metadata": {
  "kernelspec": {
   "display_name": "Python 3 (ipykernel)",
   "language": "python",
   "name": "python3"
  },
  "language_info": {
   "codemirror_mode": {
    "name": "ipython",
    "version": 3
   },
   "file_extension": ".py",
   "mimetype": "text/x-python",
   "name": "python",
   "nbconvert_exporter": "python",
   "pygments_lexer": "ipython3",
   "version": "3.9.7"
  }
 },
 "nbformat": 4,
 "nbformat_minor": 5
}
