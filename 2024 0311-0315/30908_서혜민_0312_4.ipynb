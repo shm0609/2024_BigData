{
 "cells": [
  {
   "cell_type": "markdown",
   "id": "1e553ce0",
   "metadata": {},
   "source": [
    "## 30908_서혜민_0312_4"
   ]
  },
  {
   "cell_type": "markdown",
   "id": "4b8a60cc",
   "metadata": {},
   "source": [
    "## 2.3 데이터를 넣는 입력 명령어\n",
    "#### 2.3.2 입력 명령어 input()"
   ]
  },
  {
   "cell_type": "code",
   "execution_count": 1,
   "id": "abda98ac",
   "metadata": {
    "scrolled": true
   },
   "outputs": [
    {
     "name": "stdout",
     "output_type": "stream",
     "text": [
      "성일정보\n"
     ]
    },
    {
     "data": {
      "text/plain": [
       "'성일정보'"
      ]
     },
     "execution_count": 1,
     "metadata": {},
     "output_type": "execute_result"
    }
   ],
   "source": [
    "input()"
   ]
  },
  {
   "cell_type": "code",
   "execution_count": 1,
   "id": "51bd42f0",
   "metadata": {},
   "outputs": [
    {
     "name": "stdout",
     "output_type": "stream",
     "text": [
      "이름을 입력하세요 : 성일\n"
     ]
    },
    {
     "data": {
      "text/plain": [
       "'성일'"
      ]
     },
     "execution_count": 1,
     "metadata": {},
     "output_type": "execute_result"
    }
   ],
   "source": [
    "input(\"이름을 입력하세요 : \")"
   ]
  },
  {
   "cell_type": "markdown",
   "id": "b78ada15",
   "metadata": {},
   "source": [
    "```\n",
    "출력형태 \n",
    "```\n",
    "아이디 : \n",
    "비밀번호 :"
   ]
  },
  {
   "cell_type": "code",
   "execution_count": 4,
   "id": "80541444",
   "metadata": {},
   "outputs": [
    {
     "name": "stdout",
     "output_type": "stream",
     "text": [
      "아이디 : 200\n",
      "비밀번호 : 123\n"
     ]
    },
    {
     "data": {
      "text/plain": [
       "'123'"
      ]
     },
     "execution_count": 4,
     "metadata": {},
     "output_type": "execute_result"
    }
   ],
   "source": [
    "input(\"아이디 : \")\n",
    "input(\"비밀번호 : \")"
   ]
  },
  {
   "cell_type": "markdown",
   "id": "60fddf15",
   "metadata": {},
   "source": [
    "> 다음을 출력해 봅시다\n",
    "```\n",
    "학번을 입력하세요\n",
    "```"
   ]
  },
  {
   "cell_type": "code",
   "execution_count": 6,
   "id": "160bba60",
   "metadata": {},
   "outputs": [
    {
     "name": "stdout",
     "output_type": "stream",
     "text": [
      "학번을 입력하세요 ----> 30908\n"
     ]
    },
    {
     "data": {
      "text/plain": [
       "'30908'"
      ]
     },
     "execution_count": 6,
     "metadata": {},
     "output_type": "execute_result"
    }
   ],
   "source": [
    "input(\"학번을 입력하세요 ----> \")"
   ]
  },
  {
   "cell_type": "markdown",
   "id": "4189170c",
   "metadata": {},
   "source": [
    "> 출력해 보기\n",
    "```\n",
    "---회원가입---\n",
    "아이디 : gilbut\n",
    "가입을 환영합니다!\n",
    "```"
   ]
  },
  {
   "cell_type": "code",
   "execution_count": 1,
   "id": "0eaf1407",
   "metadata": {},
   "outputs": [
    {
     "name": "stdout",
     "output_type": "stream",
     "text": [
      "---회원가입---\n",
      "아이디 : gilbut\n",
      "가입을 환영합니다! \n"
     ]
    }
   ],
   "source": [
    "print('---회원가입---')\n",
    "input ('아이디 : ')\n",
    "print('가입을 환영합니다! ')"
   ]
  },
  {
   "cell_type": "markdown",
   "id": "dac445f4",
   "metadata": {},
   "source": [
    "> 출력해 봅시다\n",
    "\n",
    "```\n",
    "닉네임을 입력해주세요 --->: 졔졔쌤\n",
    "졔졔쌤님 안녕하세요\n",
    "```"
   ]
  },
  {
   "cell_type": "code",
   "execution_count": 2,
   "id": "c6026f2d",
   "metadata": {},
   "outputs": [
    {
     "name": "stdout",
     "output_type": "stream",
     "text": [
      "닉네임을 입력해주세요 ---> ㅎㅇ\n",
      "ㅎㅇ님 안녕하세요\n"
     ]
    }
   ],
   "source": [
    "print(input('닉네임을 입력해주세요 ---> ')+ '님 안녕하세요')"
   ]
  },
  {
   "cell_type": "code",
   "execution_count": null,
   "id": "1867a42a",
   "metadata": {},
   "outputs": [],
   "source": []
  }
 ],
 "metadata": {
  "kernelspec": {
   "display_name": "Python 3 (ipykernel)",
   "language": "python",
   "name": "python3"
  },
  "language_info": {
   "codemirror_mode": {
    "name": "ipython",
    "version": 3
   },
   "file_extension": ".py",
   "mimetype": "text/x-python",
   "name": "python",
   "nbconvert_exporter": "python",
   "pygments_lexer": "ipython3",
   "version": "3.9.7"
  }
 },
 "nbformat": 4,
 "nbformat_minor": 5
}
