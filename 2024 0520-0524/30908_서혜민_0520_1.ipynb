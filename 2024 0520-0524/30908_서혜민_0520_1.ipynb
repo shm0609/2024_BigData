{
 "cells": [
  {
   "cell_type": "markdown",
   "id": "4ce5d396",
   "metadata": {},
   "source": [
    "## 30908_서혜민_0520_1"
   ]
  },
  {
   "cell_type": "code",
   "execution_count": 9,
   "id": "048455c1",
   "metadata": {},
   "outputs": [],
   "source": [
    "olympic =[[1,'미국',46,37,38,121],\n",
    "         [2,'영국',27,23,17,67],\n",
    "         [3,'중국',26,18,26,70],         \n",
    "         [4,'러시아',19,18,19,56],\n",
    "         [5,'독일',17,10,15,42],\n",
    "         [6,'일본',12,8,21,41],\n",
    "         [7,'프랑스',10,18,14,42],\n",
    "         [8,'대한민국',9,3,9,21]]"
   ]
  },
  {
   "cell_type": "code",
   "execution_count": 4,
   "id": "b4c68b29",
   "metadata": {
    "scrolled": true
   },
   "outputs": [
    {
     "name": "stdout",
     "output_type": "stream",
     "text": [
      "미국 금매달 개수 :  46\n",
      "독일 금매달 개수 :  17\n"
     ]
    }
   ],
   "source": [
    "#미국, 독일 금메달 개수 출력\n",
    "print(olympic[0][1],'금매달 개수 : ',olympic[0][2])\n",
    "print(olympic[4][1],'금매달 개수 : ',olympic[4][2])"
   ]
  },
  {
   "cell_type": "code",
   "execution_count": 6,
   "id": "6bf4563e",
   "metadata": {},
   "outputs": [
    {
     "name": "stdout",
     "output_type": "stream",
     "text": [
      "금메달보다 은메달이 더 많은 나라\n",
      "프랑스\n"
     ]
    }
   ],
   "source": [
    "#금메달보다 은메달이 더 많은 나라 출력\n",
    "print('금메달보다 은메달이 더 많은 나라')\n",
    "for row in olympic:\n",
    "    if row[2]<row[3]:\n",
    "        print(row[1])"
   ]
  },
  {
   "cell_type": "code",
   "execution_count": 7,
   "id": "6306860a",
   "metadata": {},
   "outputs": [
    {
     "name": "stdout",
     "output_type": "stream",
     "text": [
      "금메달보다 동메달이 더 많은 나라\n",
      "일본\n",
      "프랑스\n"
     ]
    }
   ],
   "source": [
    "#금메달보다 동메달이 더 많은 나라\n",
    "print('금메달보다 동메달이 더 많은 나라')\n",
    "for row in olympic:\n",
    "    if row[2]<row[4]:\n",
    "        print(row[1])"
   ]
  },
  {
   "cell_type": "code",
   "execution_count": 10,
   "id": "86caed7a",
   "metadata": {},
   "outputs": [
    {
     "name": "stdout",
     "output_type": "stream",
     "text": [
      "금메달의 전체 개수\n",
      "166\n"
     ]
    }
   ],
   "source": [
    "#금메달의 전체 개수를 출력하기\n",
    "print('금메달의 전체 개수')\n",
    "total_gold = 0\n",
    "for row in olympic:\n",
    "    total_gold += row[2]\n",
    "    \n",
    "print(total_gold)"
   ]
  },
  {
   "cell_type": "code",
   "execution_count": 12,
   "id": "c4fb2451",
   "metadata": {},
   "outputs": [
    {
     "name": "stdout",
     "output_type": "stream",
     "text": [
      "['역사탐험대', '파이썬', '학습법', '영단어', '여행에세이', '삼국지']\n",
      "[20389, 15547, 24093, 19904, 16166, 18929]\n"
     ]
    }
   ],
   "source": [
    "import random\n",
    "\n",
    "book_name = [\"역사탐험대\",\"파이썬\",\"학습법\",\"영단어\",\"여행에세이\",\"삼국지\"]\n",
    "book_price=[]\n",
    "\n",
    "for i in range(len(book_name)):\n",
    "    book_price.append(random.randint(15000,25000))\n",
    "    \n",
    "print(book_name)\n",
    "print(book_price)"
   ]
  },
  {
   "cell_type": "code",
   "execution_count": 13,
   "id": "03039ff8",
   "metadata": {},
   "outputs": [
    {
     "name": "stdout",
     "output_type": "stream",
     "text": [
      "가장 비싼 책?\n",
      "학습법\n"
     ]
    }
   ],
   "source": [
    "#가장 비싼 책\n",
    "print(\"가장 비싼 책?\")\n",
    "expensive = max(book_price)\n",
    "idx = book_price.index(expensive)\n",
    "print(book_name[idx])"
   ]
  },
  {
   "cell_type": "code",
   "execution_count": null,
   "id": "ac1fbdff",
   "metadata": {},
   "outputs": [],
   "source": []
  }
 ],
 "metadata": {
  "kernelspec": {
   "display_name": "Python 3 (ipykernel)",
   "language": "python",
   "name": "python3"
  },
  "language_info": {
   "codemirror_mode": {
    "name": "ipython",
    "version": 3
   },
   "file_extension": ".py",
   "mimetype": "text/x-python",
   "name": "python",
   "nbconvert_exporter": "python",
   "pygments_lexer": "ipython3",
   "version": "3.9.7"
  }
 },
 "nbformat": 4,
 "nbformat_minor": 5
}
