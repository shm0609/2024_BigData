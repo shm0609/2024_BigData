{
 "cells": [
  {
   "cell_type": "markdown",
   "id": "946d9843",
   "metadata": {},
   "source": [
    "## 30908_서혜민_0522_4"
   ]
  },
  {
   "cell_type": "markdown",
   "id": "69aa4be5",
   "metadata": {},
   "source": [
    "1110\n",
    "\n",
    "정수 그대로 출력\n",
    "입력받은 정수를 그대로 출력한다."
   ]
  },
  {
   "cell_type": "code",
   "execution_count": 10,
   "id": "513e6a2b",
   "metadata": {
    "scrolled": true
   },
   "outputs": [
    {
     "name": "stdout",
     "output_type": "stream",
     "text": [
      "5\n",
      "5\n"
     ]
    }
   ],
   "source": [
    "a = int(input())\n",
    "print(a)"
   ]
  },
  {
   "cell_type": "markdown",
   "id": "d1012a8c",
   "metadata": {},
   "source": [
    "1111\n",
    "\n",
    "%출력\n",
    "어떤 정수가 입력되면 %를 붙여 출력하시오."
   ]
  },
  {
   "cell_type": "code",
   "execution_count": 33,
   "id": "4c249f7d",
   "metadata": {
    "scrolled": true
   },
   "outputs": [
    {
     "name": "stdout",
     "output_type": "stream",
     "text": [
      "45\n",
      "45%\n"
     ]
    }
   ],
   "source": [
    "a = int(input())\n",
    "print(a,\"%\", sep='')"
   ]
  },
  {
   "cell_type": "markdown",
   "id": "21f321e3",
   "metadata": {},
   "source": [
    "1112\n",
    "\n",
    "두 정수 출력\n",
    "입력 받은 두 정수를 출력한다."
   ]
  },
  {
   "cell_type": "code",
   "execution_count": 34,
   "id": "e951c081",
   "metadata": {},
   "outputs": [
    {
     "name": "stdout",
     "output_type": "stream",
     "text": [
      "4 5\n",
      "4 5\n"
     ]
    }
   ],
   "source": [
    "a,b =map(int,input().split())\n",
    "print(a,b)"
   ]
  }
 ],
 "metadata": {
  "kernelspec": {
   "display_name": "Python 3 (ipykernel)",
   "language": "python",
   "name": "python3"
  },
  "language_info": {
   "codemirror_mode": {
    "name": "ipython",
    "version": 3
   },
   "file_extension": ".py",
   "mimetype": "text/x-python",
   "name": "python",
   "nbconvert_exporter": "python",
   "pygments_lexer": "ipython3",
   "version": "3.9.7"
  }
 },
 "nbformat": 4,
 "nbformat_minor": 5
}
