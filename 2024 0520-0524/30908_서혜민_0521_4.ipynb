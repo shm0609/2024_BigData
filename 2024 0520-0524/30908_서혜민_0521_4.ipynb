{
 "cells": [
  {
   "cell_type": "markdown",
   "id": "c21c7e2f",
   "metadata": {},
   "source": [
    "## 30908_서혜민_0521_4"
   ]
  },
  {
   "cell_type": "markdown",
   "id": "d6655111",
   "metadata": {},
   "source": [
    "## 딕셔너리 : 사전"
   ]
  },
  {
   "cell_type": "code",
   "execution_count": 2,
   "id": "a1a9508c",
   "metadata": {},
   "outputs": [
    {
     "name": "stdout",
     "output_type": "stream",
     "text": [
      "{'break': '깨어지다', 'bring': '가져오다', 'brush': '붓', 'brave': '용감한'}\n"
     ]
    }
   ],
   "source": [
    "eng = {'break':'깨어지다','bring':'가져오다','brush':'붓','brave':'용감한'}\n",
    "print(eng)"
   ]
  },
  {
   "cell_type": "code",
   "execution_count": 3,
   "id": "c146f83c",
   "metadata": {},
   "outputs": [
    {
     "name": "stdout",
     "output_type": "stream",
     "text": [
      "깨어지다\n"
     ]
    }
   ],
   "source": [
    "print(eng['break'])"
   ]
  },
  {
   "cell_type": "code",
   "execution_count": 4,
   "id": "ef174554",
   "metadata": {},
   "outputs": [
    {
     "name": "stdout",
     "output_type": "stream",
     "text": [
      "붓\n",
      "용감한\n"
     ]
    }
   ],
   "source": [
    "print(eng['brush'])\n",
    "print(eng['brave'])"
   ]
  },
  {
   "cell_type": "code",
   "execution_count": 5,
   "id": "1a512aea",
   "metadata": {},
   "outputs": [
    {
     "ename": "KeyError",
     "evalue": "'e'",
     "output_type": "error",
     "traceback": [
      "\u001b[1;31m---------------------------------------------------------------------------\u001b[0m",
      "\u001b[1;31mKeyError\u001b[0m                                  Traceback (most recent call last)",
      "\u001b[1;32m~\\AppData\\Local\\Temp/ipykernel_11148/245403129.py\u001b[0m in \u001b[0;36m<module>\u001b[1;34m\u001b[0m\n\u001b[1;32m----> 1\u001b[1;33m \u001b[0mprint\u001b[0m\u001b[1;33m(\u001b[0m\u001b[0meng\u001b[0m\u001b[1;33m[\u001b[0m\u001b[1;34m'e'\u001b[0m\u001b[1;33m]\u001b[0m\u001b[1;33m)\u001b[0m\u001b[1;33m\u001b[0m\u001b[1;33m\u001b[0m\u001b[0m\n\u001b[0m",
      "\u001b[1;31mKeyError\u001b[0m: 'e'"
     ]
    }
   ],
   "source": [
    "print(eng['e'])"
   ]
  },
  {
   "cell_type": "code",
   "execution_count": 9,
   "id": "3f600000",
   "metadata": {},
   "outputs": [
    {
     "name": "stdout",
     "output_type": "stream",
     "text": [
      "어떤 메뉴를 드시겠습니까?참치김밥\n",
      "3500 원 입니다.\n"
     ]
    }
   ],
   "source": [
    "menu = {'김밥':2500,'참치김밥':3500,'라면':3000,'치즈라면':4000}\n",
    "eat = input('어떤 메뉴를 드시겠습니까?')\n",
    "print(menu[eat],'원 입니다.')"
   ]
  },
  {
   "cell_type": "code",
   "execution_count": 10,
   "id": "c90ac9de",
   "metadata": {},
   "outputs": [],
   "source": [
    "menu['라면'] = 3500\n",
    "menu['치즈라면'] = 4500"
   ]
  },
  {
   "cell_type": "code",
   "execution_count": 11,
   "id": "44e5122d",
   "metadata": {},
   "outputs": [
    {
     "name": "stdout",
     "output_type": "stream",
     "text": [
      "{'김밥': 2500, '참치김밥': 3500, '라면': 3500, '치즈라면': 4500}\n"
     ]
    }
   ],
   "source": [
    "print(menu)"
   ]
  },
  {
   "cell_type": "code",
   "execution_count": 12,
   "id": "d9ce5ffc",
   "metadata": {},
   "outputs": [],
   "source": [
    "menu['김밥']+=500"
   ]
  },
  {
   "cell_type": "code",
   "execution_count": 13,
   "id": "185df699",
   "metadata": {},
   "outputs": [
    {
     "name": "stdout",
     "output_type": "stream",
     "text": [
      "{'김밥': 3000, '참치김밥': 3500, '라면': 3500, '치즈라면': 4500}\n"
     ]
    }
   ],
   "source": [
    "print(menu)"
   ]
  },
  {
   "cell_type": "code",
   "execution_count": 14,
   "id": "c896f6fd",
   "metadata": {},
   "outputs": [
    {
     "name": "stdout",
     "output_type": "stream",
     "text": [
      "{'김밥': 3000, '참치김밥': 3500, '라면': 3500, '치즈라면': 4500, '돈가스': 6000}\n"
     ]
    }
   ],
   "source": [
    "#돈가스 6000원 추가\n",
    "menu['돈가스']=6000\n",
    "print(menu)"
   ]
  },
  {
   "cell_type": "code",
   "execution_count": 16,
   "id": "0053cdab",
   "metadata": {},
   "outputs": [
    {
     "name": "stdout",
     "output_type": "stream",
     "text": [
      "추가할 메뉴떡볶이\n",
      "메뉴의 가격2000\n",
      "{'김밥': 2500, '참치김밥': 3500, '라면': 3000, '치즈라면': 4000, '떡볶이': 2000}\n"
     ]
    }
   ],
   "source": [
    "menu = {'김밥':2500,'참치김밥':3500,'라면':3000,'치즈라면':4000}\n",
    "#메sb 및 가격을 input을 이용하여 추가하는 프로그램\n",
    "\n",
    "name = input(\"추가할 메뉴\")\n",
    "price = int(input('메뉴의 가격'))\n",
    "\n",
    "menu[name]=price\n",
    "print(menu)"
   ]
  },
  {
   "cell_type": "code",
   "execution_count": 18,
   "id": "5e783418",
   "metadata": {},
   "outputs": [
    {
     "name": "stdout",
     "output_type": "stream",
     "text": [
      "삭제할 메뉴떡볶이\n",
      "{'김밥': 2500, '참치김밥': 3500, '라면': 3000, '치즈라면': 4000}\n"
     ]
    }
   ],
   "source": [
    "#키 값 삭제\n",
    "\n",
    "name = input('삭제할 메뉴')\n",
    "del menu[name]\n",
    "print(menu)"
   ]
  },
  {
   "cell_type": "code",
   "execution_count": 20,
   "id": "f7eaa9fc",
   "metadata": {},
   "outputs": [
    {
     "name": "stdout",
     "output_type": "stream",
     "text": [
      "dict_keys(['김밥', '참치김밥', '라면', '치즈라면'])\n"
     ]
    }
   ],
   "source": [
    "# zl 값만 꺼내기\n",
    "print(menu.keys())"
   ]
  },
  {
   "cell_type": "code",
   "execution_count": 22,
   "id": "0cac88f1",
   "metadata": {},
   "outputs": [
    {
     "name": "stdout",
     "output_type": "stream",
     "text": [
      "dict_values([2500, 3500, 3000, 4000])\n"
     ]
    }
   ],
   "source": [
    "print(menu.values())"
   ]
  },
  {
   "cell_type": "code",
   "execution_count": 23,
   "id": "89044858",
   "metadata": {},
   "outputs": [
    {
     "name": "stdout",
     "output_type": "stream",
     "text": [
      "['김밥', '참치김밥', '라면', '치즈라면']\n"
     ]
    }
   ],
   "source": [
    "#추출한 기값을 결괏값을 리스트로 바꾸기\n",
    "\n",
    "print(list(menu.keys()))"
   ]
  },
  {
   "cell_type": "code",
   "execution_count": 24,
   "id": "b25840c3",
   "metadata": {},
   "outputs": [
    {
     "name": "stdout",
     "output_type": "stream",
     "text": [
      "dict_items([('김밥', 2500), ('참치김밥', 3500), ('라면', 3000), ('치즈라면', 4000)])\n"
     ]
    }
   ],
   "source": [
    "#key + valuse = items\n",
    "print(menu.items())"
   ]
  },
  {
   "cell_type": "code",
   "execution_count": 25,
   "id": "9ee0a667",
   "metadata": {},
   "outputs": [
    {
     "name": "stdout",
     "output_type": "stream",
     "text": [
      "['김밥', '라면', '참치김밥', '치즈라면']\n"
     ]
    }
   ],
   "source": [
    "#키 정렬\n",
    "print(sorted(menu.keys()))"
   ]
  },
  {
   "cell_type": "code",
   "execution_count": 28,
   "id": "8377ee9b",
   "metadata": {},
   "outputs": [
    {
     "name": "stdout",
     "output_type": "stream",
     "text": [
      "['치즈라면', '참치김밥', '라면', '김밥']\n"
     ]
    }
   ],
   "source": [
    "# 키 역순\n",
    "print(sorted(menu.keys(),reverse = True))"
   ]
  },
  {
   "cell_type": "code",
   "execution_count": 29,
   "id": "f8ab8008",
   "metadata": {},
   "outputs": [
    {
     "name": "stdout",
     "output_type": "stream",
     "text": [
      "[('김밥', 2500), ('라면', 3000), ('참치김밥', 3500), ('치즈라면', 4000)]\n"
     ]
    }
   ],
   "source": [
    "print(sorted(menu.items()))"
   ]
  },
  {
   "cell_type": "code",
   "execution_count": 36,
   "id": "5ae4091c",
   "metadata": {},
   "outputs": [
    {
     "name": "stdout",
     "output_type": "stream",
     "text": [
      "[('치즈라면', 4000), ('참치김밥', 3500)]\n"
     ]
    }
   ],
   "source": [
    "import operator\n",
    "\n",
    "print(sorted(menu.items(),key=operator.itemgetter(1), reverse=True)[:2])"
   ]
  },
  {
   "cell_type": "markdown",
   "id": "93b91c87",
   "metadata": {},
   "source": [
    "## 조건문으로 딕셔너리 다루기"
   ]
  },
  {
   "cell_type": "code",
   "execution_count": 38,
   "id": "b1d2576b",
   "metadata": {},
   "outputs": [
    {
     "name": "stdout",
     "output_type": "stream",
     "text": [
      "{'도윤': 43, '하윤': 82, '시우': 76, '지유': 61, '주원': 94}\n",
      "어떤 학생의 점수가 궁금하신가요?민혁\n",
      "해당 학생은 없습니다.\n"
     ]
    }
   ],
   "source": [
    "midterm = {'도윤':43,'하윤':82,'시우':76,'지유':61,'주원':94}\n",
    "print(midterm)\n",
    "student = input('어떤 학생의 점수가 궁금하신가요?')\n",
    "\n",
    "if student in midterm.keys():\n",
    "    print(midterm[student],'점 입니다')\n",
    "else:\n",
    "    print('해당 학생은 없습니다.')"
   ]
  },
  {
   "cell_type": "code",
   "execution_count": 40,
   "id": "aa34f380",
   "metadata": {},
   "outputs": [
    {
     "name": "stdout",
     "output_type": "stream",
     "text": [
      "하윤 82\n",
      "시우 76\n",
      "주원 94\n"
     ]
    }
   ],
   "source": [
    "midterm = {'도윤':43,'하윤':82,'시우':76,'지유':61,'주원':94}\n",
    "\n",
    "for k,v in midterm.items():\n",
    "    if v >= 70:\n",
    "        print(k,v)"
   ]
  },
  {
   "cell_type": "code",
   "execution_count": null,
   "id": "48b98f71",
   "metadata": {},
   "outputs": [],
   "source": []
  }
 ],
 "metadata": {
  "kernelspec": {
   "display_name": "Python 3 (ipykernel)",
   "language": "python",
   "name": "python3"
  },
  "language_info": {
   "codemirror_mode": {
    "name": "ipython",
    "version": 3
   },
   "file_extension": ".py",
   "mimetype": "text/x-python",
   "name": "python",
   "nbconvert_exporter": "python",
   "pygments_lexer": "ipython3",
   "version": "3.9.7"
  }
 },
 "nbformat": 4,
 "nbformat_minor": 5
}
