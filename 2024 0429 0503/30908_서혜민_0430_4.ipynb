{
 "cells": [
  {
   "cell_type": "markdown",
   "id": "5e5691b0",
   "metadata": {},
   "source": [
    "## 30908_서혜민_0430_4"
   ]
  },
  {
   "cell_type": "code",
   "execution_count": 2,
   "id": "4686d301",
   "metadata": {},
   "outputs": [
    {
     "name": "stdout",
     "output_type": "stream",
     "text": [
      "['준원이', '바보', '바보']\n",
      "준원이\n",
      "바보\n",
      "바보\n"
     ]
    }
   ],
   "source": [
    "# 공백으로 문장을 나누는 명령어 split\n",
    "\n",
    "a = \"준원이 바보 바보\"\n",
    "print(a.split()) # list\n",
    "print(a.split()[0])\n",
    "print(a.split()[1])\n",
    "print(a.split()[2])"
   ]
  },
  {
   "cell_type": "code",
   "execution_count": 9,
   "id": "ef0cf2d8",
   "metadata": {},
   "outputs": [
    {
     "name": "stdout",
     "output_type": "stream",
     "text": [
      "['2024', '04', '30']\n",
      "2024\n",
      "04\n",
      "30\n"
     ]
    }
   ],
   "source": [
    "# -(하이픈)을 기준으로 split\n",
    "date = '2024-04-30'\n",
    "print(date.split('-'))\n",
    "print(date.split('-')[0])\n",
    "print(date.split('-')[1])\n",
    "print(date.split('-')[2])"
   ]
  },
  {
   "cell_type": "code",
   "execution_count": 11,
   "id": "1cd1712b",
   "metadata": {},
   "outputs": [
    {
     "name": "stdout",
     "output_type": "stream",
     "text": [
      "정렬 후 : ['감자칩', '된장찌개', '바나나', '스테이크', '치킨', '파스타', '피자']\n"
     ]
    }
   ],
   "source": [
    "# 리스트 원소 정렬하기\n",
    "food = ['피자','치킨','스테이크','된장찌개','바나나','파스타','감자칩']\n",
    "\n",
    "food.sort()\n",
    "print('정렬 후 :', food)"
   ]
  },
  {
   "cell_type": "code",
   "execution_count": 13,
   "id": "90d422f6",
   "metadata": {},
   "outputs": [
    {
     "name": "stdout",
     "output_type": "stream",
     "text": [
      "역순 정렬 후 : ['피자', '파스타', '치킨', '스테이크', '바나나', '된장찌개', '감자칩']\n"
     ]
    }
   ],
   "source": [
    "# 리스트 원소 역순으로 정렬하기.sort(reverse=True)\n",
    "\n",
    "food = ['피자','치킨','스테이크','된장찌개','바나나','파스타','감자칩']\n",
    "\n",
    "food.sort(reverse=True)\n",
    "print('역순 정렬 후 :', food)"
   ]
  },
  {
   "cell_type": "code",
   "execution_count": 19,
   "id": "36c53987",
   "metadata": {},
   "outputs": [
    {
     "name": "stdout",
     "output_type": "stream",
     "text": [
      "[56, 53]\n"
     ]
    }
   ],
   "source": [
    "# 문제) 역순으로 정렬하고 첫번쨰 두번쨰를 출력하기\n",
    "\n",
    "spending_6mon = [25,36,8,53,24,56]\n",
    "\n",
    "spending_6mon.sort(reverse=True)\n",
    "print(spending_6mon[:2])"
   ]
  },
  {
   "cell_type": "code",
   "execution_count": 24,
   "id": "4898849a",
   "metadata": {},
   "outputs": [
    {
     "name": "stdout",
     "output_type": "stream",
     "text": [
      "최댓값 :  56\n",
      "최소값 :  8\n",
      "전체합 :  202\n",
      "24의 위치는 :  5\n"
     ]
    }
   ],
   "source": [
    "# 리스트 원소 중 최대값, 최소값 찾기 max, min\n",
    "\n",
    "spending_6mon=[25,36,8,53,24,56]\n",
    "print('최댓값 : ',max(spending_6mon))\n",
    "print('최소값 : ',min(spending_6mon))\n",
    "\n",
    "# 리스트 원소 전체의 합 : sum\n",
    "print('전체합 : ',sum(spending_6mon))\n",
    "\n",
    "# 리스트안의 원소의 위치를 찾기 index\n",
    "print('24의 위치는 : ',spending_6mon.index(24)+1)"
   ]
  },
  {
   "cell_type": "code",
   "execution_count": null,
   "id": "f3c44910",
   "metadata": {},
   "outputs": [],
   "source": []
  }
 ],
 "metadata": {
  "kernelspec": {
   "display_name": "Python 3 (ipykernel)",
   "language": "python",
   "name": "python3"
  },
  "language_info": {
   "codemirror_mode": {
    "name": "ipython",
    "version": 3
   },
   "file_extension": ".py",
   "mimetype": "text/x-python",
   "name": "python",
   "nbconvert_exporter": "python",
   "pygments_lexer": "ipython3",
   "version": "3.9.7"
  }
 },
 "nbformat": 4,
 "nbformat_minor": 5
}
