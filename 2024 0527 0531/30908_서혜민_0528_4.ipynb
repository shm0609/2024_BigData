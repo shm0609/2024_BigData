{
 "cells": [
  {
   "cell_type": "markdown",
   "id": "75e624c8",
   "metadata": {},
   "source": [
    "## 30908_서혜민_0528_4"
   ]
  },
  {
   "cell_type": "markdown",
   "id": "7c29e2e8",
   "metadata": {},
   "source": [
    "1113 : 바꿔서 출력하기\n",
    "\n",
    "두 정수를 입력받아 순서를 바꿔서 출력하시오."
   ]
  },
  {
   "cell_type": "code",
   "execution_count": 18,
   "id": "145f03b8",
   "metadata": {},
   "outputs": [
    {
     "name": "stdout",
     "output_type": "stream",
     "text": [
      "1 2\n",
      "2 1\n"
     ]
    }
   ],
   "source": [
    "a,b =input().split()\n",
    "a=int(a)\n",
    "b=int(b)\n",
    "\n",
    "print(b,a)"
   ]
  },
  {
   "cell_type": "markdown",
   "id": "8be97c1f",
   "metadata": {},
   "source": [
    "1114 : 두 정수의 덧셈\n",
    "\n",
    "두 정수를 입력받아 합을 출력한다."
   ]
  },
  {
   "cell_type": "code",
   "execution_count": 16,
   "id": "d4aacdd1",
   "metadata": {
    "scrolled": true
   },
   "outputs": [
    {
     "name": "stdout",
     "output_type": "stream",
     "text": [
      "5 7\n",
      "12\n"
     ]
    }
   ],
   "source": [
    "a,b =input().split()\n",
    "a=int(a)\n",
    "b=int(b)\n",
    "\n",
    "print(a+b)"
   ]
  },
  {
   "cell_type": "markdown",
   "id": "b42e396a",
   "metadata": {},
   "source": [
    "1116 : 사칙연산 계산기\n",
    "    \n",
    "두 정수를 입력받아 아래와 같이 출력하시오.\n",
    "\n",
    "예)  3 2\n",
    "\n",
    "3+2=5\n",
    "3-2=1\n",
    "3*2=6\n",
    "3/2=1"
   ]
  },
  {
   "cell_type": "code",
   "execution_count": 28,
   "id": "4c4210fa",
   "metadata": {},
   "outputs": [
    {
     "name": "stdout",
     "output_type": "stream",
     "text": [
      "3 2\n",
      "3+2=5\n",
      "3-2=1\n",
      "3*2=6\n",
      "3/2=1\n"
     ]
    }
   ],
   "source": [
    "a,b =input().split()\n",
    "a=int(a)\n",
    "b=int(b)\n",
    "\n",
    "print(f'{a}+{b}={a+b}')\n",
    "print(f'{a}-{b}={a-b}')\n",
    "print(f'{a}*{b}={a*b}')\n",
    "print(f'{a}/{b}={a//b}')"
   ]
  }
 ],
 "metadata": {
  "kernelspec": {
   "display_name": "Python 3 (ipykernel)",
   "language": "python",
   "name": "python3"
  },
  "language_info": {
   "codemirror_mode": {
    "name": "ipython",
    "version": 3
   },
   "file_extension": ".py",
   "mimetype": "text/x-python",
   "name": "python",
   "nbconvert_exporter": "python",
   "pygments_lexer": "ipython3",
   "version": "3.9.7"
  }
 },
 "nbformat": 4,
 "nbformat_minor": 5
}
