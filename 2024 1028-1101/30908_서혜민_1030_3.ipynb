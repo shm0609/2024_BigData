{
 "cells": [
  {
   "cell_type": "markdown",
   "id": "23d634fc",
   "metadata": {},
   "source": [
    "## 1150 : 세 수 중 가장 작은 수\n",
    "\n",
    "세 정수가 주어지면 그 중 가장 작은 수를 출력한다."
   ]
  },
  {
   "cell_type": "code",
   "execution_count": 3,
   "id": "0c47f0f5",
   "metadata": {},
   "outputs": [
    {
     "name": "stdout",
     "output_type": "stream",
     "text": [
      "3 5 2\n",
      "2\n"
     ]
    }
   ],
   "source": [
    "a,b,c = map(int, input().split())\n",
    "print(min(a,b,c))"
   ]
  },
  {
   "cell_type": "markdown",
   "id": "6c7852cb",
   "metadata": {},
   "source": [
    "## 1151 : 10보다 작은 수\n",
    "\n",
    "10보다 작은 수가 입력되면 small 을 출력, 10이상이면 아무것도 출력하지 마시오."
   ]
  },
  {
   "cell_type": "code",
   "execution_count": 15,
   "id": "cdb91f45",
   "metadata": {
    "scrolled": true
   },
   "outputs": [
    {
     "name": "stdout",
     "output_type": "stream",
     "text": [
      "5\n",
      "small\n"
     ]
    }
   ],
   "source": [
    "a = int(input())\n",
    "\n",
    "if a < 10:\n",
    "    print('small')"
   ]
  },
  {
   "cell_type": "markdown",
   "id": "eec3b5d1",
   "metadata": {},
   "source": [
    "## 1152 : 10보다 작은 수 (else 버전)\n",
    "\n",
    "10보다 작은 정수가 입력되면 small 을 출력, 그 이상의 수가 입력되면 big 을 출력하시오."
   ]
  },
  {
   "cell_type": "code",
   "execution_count": 17,
   "id": "42dec103",
   "metadata": {},
   "outputs": [
    {
     "name": "stdout",
     "output_type": "stream",
     "text": [
      "15\n",
      "big\n"
     ]
    }
   ],
   "source": [
    "a=int(input())\n",
    "\n",
    "if a < 10:\n",
    "    print('small')\n",
    "else :\n",
    "    print('big')"
   ]
  },
  {
   "cell_type": "markdown",
   "id": "f59b3182",
   "metadata": {},
   "source": [
    "## 1153 : 두 수의 대소 비교\n",
    "\n",
    "두 정수가 입력된다.  두 정수의 크기를 비교하여 왼쪽 수가 크면 > 를 출력, 오른쪽 수가 크면 < 를 출력, 같으면 = 을 출력하시오."
   ]
  },
  {
   "cell_type": "code",
   "execution_count": 22,
   "id": "52513bc3",
   "metadata": {},
   "outputs": [
    {
     "name": "stdout",
     "output_type": "stream",
     "text": [
      "9 9\n",
      "=\n"
     ]
    }
   ],
   "source": [
    "a,b = map(int,input().split())\n",
    "\n",
    "if a < b:\n",
    "    print('<')\n",
    "elif a > b:\n",
    "    print('>')\n",
    "else:\n",
    "    print('=')"
   ]
  },
  {
   "cell_type": "markdown",
   "id": "8099716a",
   "metadata": {},
   "source": [
    "## 1154 : 큰수 - 작은수\n",
    "\n",
    "정수 두개가 입력으로 들어오면 큰수 - 작은수의 값을 출력하시오."
   ]
  },
  {
   "cell_type": "code",
   "execution_count": 23,
   "id": "5498c5d5",
   "metadata": {},
   "outputs": [
    {
     "name": "stdout",
     "output_type": "stream",
     "text": [
      "5 6\n",
      "-1\n"
     ]
    }
   ],
   "source": [
    "a,b = map(int, input().split())\n",
    "print(a-b)"
   ]
  },
  {
   "cell_type": "code",
   "execution_count": null,
   "id": "ba7898c3",
   "metadata": {},
   "outputs": [],
   "source": []
  }
 ],
 "metadata": {
  "kernelspec": {
   "display_name": "Python 3 (ipykernel)",
   "language": "python",
   "name": "python3"
  },
  "language_info": {
   "codemirror_mode": {
    "name": "ipython",
    "version": 3
   },
   "file_extension": ".py",
   "mimetype": "text/x-python",
   "name": "python",
   "nbconvert_exporter": "python",
   "pygments_lexer": "ipython3",
   "version": "3.9.7"
  }
 },
 "nbformat": 4,
 "nbformat_minor": 5
}
