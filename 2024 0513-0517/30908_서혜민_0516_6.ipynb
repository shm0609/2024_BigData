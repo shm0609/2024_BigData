{
 "cells": [
  {
   "cell_type": "markdown",
   "id": "3ded47dc",
   "metadata": {},
   "source": [
    "## 30908_서혜민_0516_6"
   ]
  },
  {
   "cell_type": "markdown",
   "id": "cb96cea4",
   "metadata": {},
   "source": [
    "6096\n",
    "\n",
    "본 문제는 python 의 빠른 기초 학습을 위해 설계된 문제로서 python 코드 제출을 기준으로 설명되어 있습니다. \n",
    "------\n",
    "\n",
    "부모님을 기다리던 영일이는 검정/흰 색 바둑알을 바둑판에 꽉 채워 깔아 놓고 놀다가...\n",
    "\n",
    "\"십(+)자 뒤집기를 해볼까?\"하고 생각했다.\n",
    "\n",
    "십자 뒤집기는\n",
    "그 위치에 있는 모든 가로줄 돌의 색을 반대(1->0, 0->1)로 바꾼 후, \n",
    "다시 그 위치에 있는 모든 세로줄 돌의 색을 반대로 바꾸는 것이다.\n",
    "어떤 위치를 골라 집자 뒤집기를 하면, 그 위치를 제외한 가로줄과 세로줄의 색이 모두 반대로 바뀐다.\n",
    "\n",
    "바둑판(19 * 19)에 흰 돌(1) 또는 검정 돌(0)이 모두 꽉 채워져 놓여있을 때,\n",
    "n개의 좌표를 입력받아 십(+)자 뒤집기한 결과를 출력하는 프로그램을 작성해보자.\n",
    "\n",
    "예시\n",
    "...\n",
    "for i in range(n) :\n",
    "  x,y=input().split()\n",
    "  for j in range(1, 20) :\n",
    "    if d[j][int(y)]==0 :\n",
    "      d[j][int(y)]=1\n",
    "    else :\n",
    "      d[j][int(y)]=0\n",
    "\n",
    "    if d[int(x)][j]==0 :\n",
    "      d[int(x)][j]=1\n",
    "    else :\n",
    "      d[int(x)][j]=0\n",
    "...\n",
    "\n",
    "참고\n",
    "리스트가 들어있는 리스트를 만들면?\n",
    "가로번호, 세로번호를 사용해 2차원 형태의 데이터처럼 쉽게 기록하고 사용할 수 있다.\n",
    "리스트이름[번호][번호] 형식으로 저장되어있는 값을 읽고 쓸 수 있다."
   ]
  },
  {
   "cell_type": "code",
   "execution_count": 29,
   "id": "1b74b8be",
   "metadata": {
    "scrolled": false
   },
   "outputs": [
    {
     "name": "stdout",
     "output_type": "stream",
     "text": [
      "0 0 0 0 0 0 0 0 0 1 0 1 0 0 0 0 0 0 0 0 0 0 0 0 0 0 0 0 1 0 1 0 0 0 0 0 0 0 0 0 0 0 0 0 0 0 0 1 0 1 0 0 0 0 0 0 0 0 0 0 0 0 0 0 0 0 1 0 1 0 0 0 0 0 0 0 0 0 0 0 0 0 0 0 0 1 0 1 0 0 0 0 0 0 0 0 0 0 0 0 0 0 0 0 1 0 1 0 0 0 0 0 0 0 0 0 0 0 0 0 0 0 0 1 0 1 0 0 0 0 0 0 0 0 0 0 0 0 0 0 0 0 1 0 1 0 0 0 0 0 0 0 0 0 0 0 0 0 0 0 0 1 0 1 0 0 0 0 0 0 0 1 1 1 1 1 1 1 1 1 1 1 1 1 1 1 1 1 1 1 0 0 0 0 0 0 0 0 0 1 0 1 0 0 0 0 0 0 0 1 1 1 1 1 1 1 1 1 1 1 1 1 1 1 1 1 1 1 0 0 0 0 0 0 0 0 0 1 0 1 0 0 0 0 0 0 0 0 0 0 0 0 0 0 0 0 1 0 1 0 0 0 0 0 0 0 0 0 0 0 0 0 0 0 0 1 0 1 0 0 0 0 0 0 0 0 0 0 0 0 0 0 0 0 1 0 1 0 0 0 0 0 0 0 0 0 0 0 0 0 0 0 0 1 0 1 0 0 0 0 0 0 0 0 0 0 0 0 0 0 0 0 1 0 1 0 0 0 0 0 0 0 0 0 0 0 0 0 0 0 0 1 0 1 0 0 0 0 0 0 0\n",
      "2\n",
      "10 10\n",
      "12 12\n",
      "\n",
      "\n",
      "\n",
      "\n"
     ]
    },
    {
     "ename": "KeyboardInterrupt",
     "evalue": "Interrupted by user",
     "output_type": "error",
     "traceback": [
      "\u001b[1;31m---------------------------------------------------------------------------\u001b[0m",
      "\u001b[1;31mKeyboardInterrupt\u001b[0m                         Traceback (most recent call last)",
      "\u001b[1;32m~\\AppData\\Local\\Temp/ipykernel_10104/1686200751.py\u001b[0m in \u001b[0;36m<module>\u001b[1;34m\u001b[0m\n\u001b[0;32m      8\u001b[0m \u001b[1;33m\u001b[0m\u001b[0m\n\u001b[0;32m      9\u001b[0m \u001b[1;32mfor\u001b[0m \u001b[0mi\u001b[0m \u001b[1;32min\u001b[0m \u001b[0mrange\u001b[0m\u001b[1;33m(\u001b[0m\u001b[1;36m19\u001b[0m\u001b[1;33m)\u001b[0m\u001b[1;33m:\u001b[0m\u001b[1;33m\u001b[0m\u001b[1;33m\u001b[0m\u001b[0m\n\u001b[1;32m---> 10\u001b[1;33m     \u001b[0mlocation\u001b[0m\u001b[1;33m[\u001b[0m\u001b[0mi\u001b[0m\u001b[1;33m]\u001b[0m \u001b[1;33m=\u001b[0m \u001b[0mlist\u001b[0m\u001b[1;33m(\u001b[0m\u001b[0mmap\u001b[0m\u001b[1;33m(\u001b[0m\u001b[0mint\u001b[0m\u001b[1;33m,\u001b[0m \u001b[0minput\u001b[0m\u001b[1;33m(\u001b[0m\u001b[1;33m)\u001b[0m\u001b[1;33m.\u001b[0m\u001b[0msplit\u001b[0m\u001b[1;33m(\u001b[0m\u001b[1;33m)\u001b[0m\u001b[1;33m)\u001b[0m\u001b[1;33m)\u001b[0m\u001b[1;33m\u001b[0m\u001b[1;33m\u001b[0m\u001b[0m\n\u001b[0m\u001b[0;32m     11\u001b[0m \u001b[1;33m\u001b[0m\u001b[0m\n\u001b[0;32m     12\u001b[0m \u001b[0mn\u001b[0m \u001b[1;33m=\u001b[0m \u001b[0mint\u001b[0m\u001b[1;33m(\u001b[0m\u001b[0minput\u001b[0m\u001b[1;33m(\u001b[0m\u001b[1;33m)\u001b[0m\u001b[1;33m)\u001b[0m\u001b[1;33m\u001b[0m\u001b[1;33m\u001b[0m\u001b[0m\n",
      "\u001b[1;32mC:\\ProgramData\\Anaconda3\\lib\\site-packages\\ipykernel\\kernelbase.py\u001b[0m in \u001b[0;36mraw_input\u001b[1;34m(self, prompt)\u001b[0m\n\u001b[0;32m   1004\u001b[0m                 \u001b[1;34m\"raw_input was called, but this frontend does not support input requests.\"\u001b[0m\u001b[1;33m\u001b[0m\u001b[1;33m\u001b[0m\u001b[0m\n\u001b[0;32m   1005\u001b[0m             )\n\u001b[1;32m-> 1006\u001b[1;33m         return self._input_request(\n\u001b[0m\u001b[0;32m   1007\u001b[0m             \u001b[0mstr\u001b[0m\u001b[1;33m(\u001b[0m\u001b[0mprompt\u001b[0m\u001b[1;33m)\u001b[0m\u001b[1;33m,\u001b[0m\u001b[1;33m\u001b[0m\u001b[1;33m\u001b[0m\u001b[0m\n\u001b[0;32m   1008\u001b[0m             \u001b[0mself\u001b[0m\u001b[1;33m.\u001b[0m\u001b[0m_parent_ident\u001b[0m\u001b[1;33m[\u001b[0m\u001b[1;34m\"shell\"\u001b[0m\u001b[1;33m]\u001b[0m\u001b[1;33m,\u001b[0m\u001b[1;33m\u001b[0m\u001b[1;33m\u001b[0m\u001b[0m\n",
      "\u001b[1;32mC:\\ProgramData\\Anaconda3\\lib\\site-packages\\ipykernel\\kernelbase.py\u001b[0m in \u001b[0;36m_input_request\u001b[1;34m(self, prompt, ident, parent, password)\u001b[0m\n\u001b[0;32m   1049\u001b[0m             \u001b[1;32mexcept\u001b[0m \u001b[0mKeyboardInterrupt\u001b[0m\u001b[1;33m:\u001b[0m\u001b[1;33m\u001b[0m\u001b[1;33m\u001b[0m\u001b[0m\n\u001b[0;32m   1050\u001b[0m                 \u001b[1;31m# re-raise KeyboardInterrupt, to truncate traceback\u001b[0m\u001b[1;33m\u001b[0m\u001b[1;33m\u001b[0m\u001b[0m\n\u001b[1;32m-> 1051\u001b[1;33m                 \u001b[1;32mraise\u001b[0m \u001b[0mKeyboardInterrupt\u001b[0m\u001b[1;33m(\u001b[0m\u001b[1;34m\"Interrupted by user\"\u001b[0m\u001b[1;33m)\u001b[0m \u001b[1;32mfrom\u001b[0m \u001b[1;32mNone\u001b[0m\u001b[1;33m\u001b[0m\u001b[1;33m\u001b[0m\u001b[0m\n\u001b[0m\u001b[0;32m   1052\u001b[0m             \u001b[1;32mexcept\u001b[0m \u001b[0mException\u001b[0m\u001b[1;33m:\u001b[0m\u001b[1;33m\u001b[0m\u001b[1;33m\u001b[0m\u001b[0m\n\u001b[0;32m   1053\u001b[0m                 \u001b[0mself\u001b[0m\u001b[1;33m.\u001b[0m\u001b[0mlog\u001b[0m\u001b[1;33m.\u001b[0m\u001b[0mwarning\u001b[0m\u001b[1;33m(\u001b[0m\u001b[1;34m\"Invalid Message:\"\u001b[0m\u001b[1;33m,\u001b[0m \u001b[0mexc_info\u001b[0m\u001b[1;33m=\u001b[0m\u001b[1;32mTrue\u001b[0m\u001b[1;33m)\u001b[0m\u001b[1;33m\u001b[0m\u001b[1;33m\u001b[0m\u001b[0m\n",
      "\u001b[1;31mKeyboardInterrupt\u001b[0m: Interrupted by user"
     ]
    }
   ],
   "source": [
    "location = []\n",
    "\n",
    "for i in range(19):\n",
    "    location.append([])\n",
    "\n",
    "    for j in range(19):\n",
    "        location[i].append(0)\n",
    "\n",
    "for i in range(19):\n",
    "    location[i] = list(map(int, input().split()))\n",
    "\n",
    "n = int(input())\n",
    "\n",
    "for i in range(n):\n",
    "    x, y = map(int, input().split())\n",
    "\n",
    "    for j in range(19):\n",
    "        if location[x-1][j] == 0:\n",
    "            location[x-1][j] = 1\n",
    "        else:\n",
    "            location[x-1][j] = 0\n",
    "        if location[j][y-1] == 0:\n",
    "            location[j][y-1] = 1\n",
    "        else:\n",
    "            location[j][y-1] = 0\n",
    "\n",
    "for i in range(19):\n",
    "    for j in range(19):\n",
    "        print(location[i][j], end=\"\")\n",
    "    print()"
   ]
  },
  {
   "cell_type": "markdown",
   "id": "a941b388",
   "metadata": {},
   "source": [
    "6097\n",
    "\n",
    "본 문제는 python 의 빠른 기초 학습을 위해 설계된 문제로서 python 코드 제출을 기준으로 설명되어 있습니다. \n",
    "------\n",
    "\n",
    "부모님과 함께 놀러간 영일이는\n",
    "설탕과자(설탕을 녹여 물고기 등의 모양을 만든 것) 뽑기를 보게 되었다.\n",
    "\n",
    "길이가 다른 몇 개의 막대를 바둑판과 같은 격자판에 놓는데,\n",
    "\n",
    "막대에 있는 설탕과자 이름 아래에 있는 번호를 뽑으면 설탕과자를 가져가는 게임이었다.\n",
    "(잉어, 붕어, 용 등 여러 가지가 적혀있다.)\n",
    "\n",
    "격자판의 세로(h), 가로(w), 막대의 개수(n), 각 막대의 길이(l),\n",
    "막대를 놓는 방향(d:가로는 0, 세로는 1)과\n",
    "막대를 놓는 막대의 가장 왼쪽 또는 위쪽의 위치(x, y)가 주어질 때,\n",
    "\n",
    "격자판을 채운 막대의 모양을 출력하는 프로그램을 만들어보자."
   ]
  },
  {
   "cell_type": "code",
   "execution_count": 35,
   "id": "a082c572",
   "metadata": {},
   "outputs": [
    {
     "name": "stdout",
     "output_type": "stream",
     "text": [
      "5 5\n",
      "3\n",
      "2 0 1 1\n",
      "3 1 2 3\n",
      "4 1 2 5\n",
      "1 1 0 0 0 \n",
      "0 0 1 0 1 \n",
      "0 0 1 0 1 \n",
      "0 0 1 0 1 \n",
      "0 0 0 0 1 \n"
     ]
    }
   ],
   "source": [
    "h, w = map(int,input().split())\n",
    "n = int(input())\n",
    "\n",
    "zeros = [[0] * w for i in range(h)]\n",
    "\n",
    "for i in range(n):\n",
    "    l, d, x, y = map(int,input().split())\n",
    "    \n",
    "    for j in range(l):\n",
    "        if d == 0:\n",
    "            zeros[x-1][y-1+j]=1\n",
    "        else:\n",
    "            zeros[x-1+j][y-1]=1\n",
    "            \n",
    "for i in range(h):\n",
    "    for j in range(w):\n",
    "        print(zeros[i][j], end = ' ')\n",
    "    print(end='\\n')"
   ]
  },
  {
   "cell_type": "markdown",
   "id": "94c970ea",
   "metadata": {},
   "source": [
    "6098\n",
    "\n",
    "본 문제는 python 의 빠른 기초 학습을 위해 설계된 문제로서 python 코드 제출을 기준으로 설명되어 있습니다. \n",
    "------\n",
    "\n",
    "영일이는 생명과학에 관심이 생겨 왕개미를 연구하고 있었다.\n",
    "\n",
    "왕개미를 유심히 살펴보던 중 특별히 성실해 보이는 개미가 있었는데,\n",
    "그 개미는 개미굴에서 나와 먹이까지 가장 빠른 길로 이동하는 것이었다.\n",
    "\n",
    "개미는 오른쪽으로 움직이다가 벽을 만나면 아래쪽으로 움직여 가장 빠른 길로 움직였다.\n",
    "(오른쪽에 길이 나타나면 다시 오른쪽으로 움직인다.)\n",
    "\n",
    "이에 호기심이 생긴 영일이는 그 개미를 미로 상자에 넣고 살펴보기 시작하였다.\n",
    "\n",
    "미로 상자에 넣은 개미는 먹이를 찾았거나, 더 이상 움직일 수 없을 때까지\n",
    "오른쪽 또는 아래쪽으로만 움직였다.\n",
    "\n",
    "미로 상자의 구조가 0(갈 수 있는 곳), 1(벽 또는 장애물)로 주어지고,\n",
    "먹이가 2로 주어질 때, 성실한 개미의 이동 경로를 예상해보자.\n",
    "\n",
    "단, 맨 아래의 가장 오른쪽에 도착한 경우, 더 이상 움직일 수 없는 경우, 먹이를 찾은 경우에는\n",
    "더이상 이동하지 않고 그 곳에 머무른다고 가정한다.\n",
    "\n",
    "미로 상자의 테두리는 모두 벽으로 되어 있으며,\n",
    "개미집은 반드시 (2, 2)에 존재하기 때문에 개미는 (2, 2)에서 출발한다."
   ]
  },
  {
   "cell_type": "code",
   "execution_count": null,
   "id": "b66d4dd8",
   "metadata": {},
   "outputs": [
    {
     "name": "stdout",
     "output_type": "stream",
     "text": [
      "1 1 1 1 1 1 1 1 1 1 1 0 0 1 0 0 0 0 0 1 1 0 0 1 1 1 0 0 0 1 1 0 0 0 0 0 0 1 0 1 1 0 0 0 0 0 0 1 0 1 1 0 0 0 0 1 0 1 0 1 1 0 0 0 0 1 2 1 0 1 1 0 0 0 0 1 0 0 0 1 1 0 0 0 0 0 0 0 0 1 1 1 1 1 1 1 1 1 1 1\n",
      "\n",
      "\n",
      "\n",
      "\n",
      "\n"
     ]
    }
   ],
   "source": [
    "array = []\n",
    "\n",
    "for i in range(10):\n",
    "    array.append(list(map(int, input().split())))\n",
    "\n",
    "x, y = 1, 1\n",
    "\n",
    "while True:\n",
    "    if (array[x][y] == 0):\n",
    "        array[x][y] = 9\n",
    "    elif (array[x][y] == 2):\n",
    "        array[x][y] = 9\n",
    "        break\n",
    "\n",
    "    if ((array[x][y+1] == 1 and array[x+1][y] == 1)):\n",
    "        break\n",
    "\n",
    "    if (array[x][y+1] != 1):\n",
    "        y = y + 1\n",
    "    elif (array[x+1][y] != 1):\n",
    "        x = x + 1\n",
    "\n",
    "for i in range(10):\n",
    "    for j in range(10):\n",
    "        print(array[i][j], end=' ')\n",
    "    print()"
   ]
  },
  {
   "cell_type": "code",
   "execution_count": null,
   "id": "113fc2b4",
   "metadata": {},
   "outputs": [],
   "source": [
    "\n"
   ]
  },
  {
   "cell_type": "code",
   "execution_count": null,
   "id": "ecd565bb",
   "metadata": {},
   "outputs": [],
   "source": []
  }
 ],
 "metadata": {
  "kernelspec": {
   "display_name": "Python 3 (ipykernel)",
   "language": "python",
   "name": "python3"
  },
  "language_info": {
   "codemirror_mode": {
    "name": "ipython",
    "version": 3
   },
   "file_extension": ".py",
   "mimetype": "text/x-python",
   "name": "python",
   "nbconvert_exporter": "python",
   "pygments_lexer": "ipython3",
   "version": "3.9.7"
  }
 },
 "nbformat": 4,
 "nbformat_minor": 5
}
