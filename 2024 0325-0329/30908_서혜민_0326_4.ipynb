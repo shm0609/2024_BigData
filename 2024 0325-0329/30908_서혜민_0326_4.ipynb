{
 "cells": [
  {
   "cell_type": "markdown",
   "id": "026de188",
   "metadata": {},
   "source": [
    "## 30908_서혜민_0326_4"
   ]
  },
  {
   "cell_type": "code",
   "execution_count": 6,
   "id": "65b75a1f",
   "metadata": {},
   "outputs": [
    {
     "name": "stdout",
     "output_type": "stream",
     "text": [
      "1 2 3 4 5 6 7 9 10 11 12 \n"
     ]
    }
   ],
   "source": [
    "# 1~12까지 출력할때 8을 건너뛰게 하는 프로그램\n",
    "# 조건문과 continue\n",
    "\n",
    "for i in range(1,13):\n",
    "    if i  == 8:\n",
    "        continue\n",
    "    print(i, end=\" \")\n",
    "print()"
   ]
  },
  {
   "cell_type": "markdown",
   "id": "05a21da6",
   "metadata": {},
   "source": [
    "## ------------"
   ]
  },
  {
   "cell_type": "code",
   "execution_count": 7,
   "id": "d1d3f703",
   "metadata": {},
   "outputs": [
    {
     "name": "stdout",
     "output_type": "stream",
     "text": [
      "1 2 3 4 5 6 7 9 10 11 12 \n"
     ]
    }
   ],
   "source": [
    "# 조금 더 간단하게\n",
    "\n",
    "for i in list(range(1,8))+list(range(9,13)):\n",
    "    print(i, end=\" \")\n",
    "print()"
   ]
  },
  {
   "cell_type": "markdown",
   "id": "b8745f00",
   "metadata": {},
   "source": [
    "## ----------------"
   ]
  },
  {
   "cell_type": "code",
   "execution_count": 10,
   "id": "b30db361",
   "metadata": {},
   "outputs": [
    {
     "name": "stdout",
     "output_type": "stream",
     "text": [
      "---------------------------\n",
      "  1  2  3  4  5  6  7  8  9\n",
      "  2  4  6  8 10 12 14 16 18\n",
      "  3  6  9 12 15 18 21 24 27\n",
      "  4  8 12 16 20 24 28 32 36\n",
      "  5 10 15 20 25 30 35 40 45\n",
      "  6 12 18 24 30 36 42 48 54\n",
      "  7 14 21 28 35 42 49 56 63\n",
      "  8 16 24 32 40 48 56 64 72\n",
      "  9 18 27 36 45 54 63 72 81\n",
      "---------------------------\n"
     ]
    }
   ],
   "source": [
    "#구구단 곱셈표 출력\n",
    "\n",
    "print('-'*27)\n",
    "\n",
    "for i in range(1, 10):\n",
    "    for j in range(1,10):\n",
    "        print(f'{i * j:3}', end=\"\")\n",
    "    print()\n",
    "\n",
    "print('-'*27)"
   ]
  },
  {
   "cell_type": "markdown",
   "id": "de32772f",
   "metadata": {},
   "source": [
    "## --------------"
   ]
  },
  {
   "cell_type": "code",
   "execution_count": 22,
   "id": "d01dc11f",
   "metadata": {},
   "outputs": [
    {
     "name": "stdout",
     "output_type": "stream",
     "text": [
      "왼쪽 아래가 직각인 이등변 삼각형을 출력합니다.\n",
      "짧은 변의 길이를 입력하세요 : 10\n",
      "*\n",
      "**\n",
      "***\n",
      "****\n",
      "*****\n",
      "******\n",
      "*******\n",
      "********\n",
      "*********\n",
      "**********\n"
     ]
    }
   ],
   "source": [
    "print(\"왼쪽 아래가 직각인 이등변 삼각형을 출력합니다.\")\n",
    "n= int(input(\"짧은 변의 길이를 입력하세요 : \"))\n",
    "\n",
    "for i in range(n):\n",
    "    for j in range(i+1):\n",
    "        print('*', end=\"\")\n",
    "    print()"
   ]
  },
  {
   "cell_type": "markdown",
   "id": "c982c2ba",
   "metadata": {},
   "source": [
    "## ---------------"
   ]
  },
  {
   "cell_type": "code",
   "execution_count": 27,
   "id": "7825d520",
   "metadata": {},
   "outputs": [
    {
     "name": "stdout",
     "output_type": "stream",
     "text": [
      "짧은 변의 길이를 입력하세요 : 7\n",
      "      *\n",
      "     **\n",
      "    ***\n",
      "   ****\n",
      "  *****\n",
      " ******\n",
      "*******\n"
     ]
    }
   ],
   "source": [
    "n = int(input(\"짧은 변의 길이를 입력하세요 : \"))\n",
    "\n",
    "for i in range(n):\n",
    "    for _ in range(n-i-1):\n",
    "        print(f' ', end=\"\")\n",
    "    \n",
    "    for _ in range(i+1):\n",
    "        print(f'*', end = \"\")\n",
    "    print()"
   ]
  },
  {
   "cell_type": "markdown",
   "id": "4c9dd8f2",
   "metadata": {},
   "source": [
    "## -----------------------"
   ]
  },
  {
   "cell_type": "code",
   "execution_count": null,
   "id": "3c5ab6a3",
   "metadata": {},
   "outputs": [],
   "source": []
  }
 ],
 "metadata": {
  "kernelspec": {
   "display_name": "Python 3 (ipykernel)",
   "language": "python",
   "name": "python3"
  },
  "language_info": {
   "codemirror_mode": {
    "name": "ipython",
    "version": 3
   },
   "file_extension": ".py",
   "mimetype": "text/x-python",
   "name": "python",
   "nbconvert_exporter": "python",
   "pygments_lexer": "ipython3",
   "version": "3.9.7"
  }
 },
 "nbformat": 4,
 "nbformat_minor": 5
}
