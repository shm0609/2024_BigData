{
  "nbformat": 4,
  "nbformat_minor": 0,
  "metadata": {
    "colab": {
      "provenance": []
    },
    "kernelspec": {
      "name": "python3",
      "display_name": "Python 3"
    },
    "language_info": {
      "name": "python"
    }
  },
  "cells": [
    {
      "cell_type": "markdown",
      "source": [
        "30908_서혜민_0327_4"
      ],
      "metadata": {
        "id": "Lan7dvyT6jjV"
      }
    },
    {
      "cell_type": "code",
      "source": [
        "# 학생 5명의 시험 점수를 입력받아 합계와 평균을 출력하기\n",
        "\n",
        "print('학생 그룹 점수의 합께와 평균을 구합니다.')\n",
        "\n",
        "a = int(input('1번 학생의 점수를 입력하세요.: '))\n",
        "b = int(input('2번 학생의 점수를 입력하세요. : '))\n",
        "c = int(input('3번 학생의 점수를 입력하세요. : '))\n",
        "d = int(input('4번 학생의 점수를 입력하세요. : '))\n",
        "e = int(input('5번 학생의 점수를 입력하세요. : '))\n",
        "\n",
        "total = 0\n",
        "total += a\n",
        "total += b\n",
        "total += c\n",
        "total += d\n",
        "total += e\n",
        "\n",
        "print(f'합계는 {total}점 입니다.')\n",
        "print(f'평균은 {total/5}점 입니다.')"
      ],
      "metadata": {
        "colab": {
          "base_uri": "https://localhost:8080/"
        },
        "id": "eaC5WKrA6pgt",
        "outputId": "2fc32bb0-0cd0-4db9-9256-f04106aaa5ce"
      },
      "execution_count": 4,
      "outputs": [
        {
          "output_type": "stream",
          "name": "stdout",
          "text": [
            "학생 그룹 점수의 합께와 평균을 구합니다.\n",
            "1번 학생의 점수를 입력하세요.: 87\n",
            "2번 학생의 점수를 입력하세요. : 52\n",
            "3번 학생의 점수를 입력하세요. : 36\n",
            "4번 학생의 점수를 입력하세요. : 41\n",
            "5번 학생의 점수를 입력하세요. : 78\n",
            "합계는 294점 입니다.\n",
            "평균은 58.8점 입니다.\n"
          ]
        }
      ]
    },
    {
      "cell_type": "code",
      "source": [],
      "metadata": {
        "id": "i7hBleWs8Ls9"
      },
      "execution_count": null,
      "outputs": []
    },
    {
      "cell_type": "markdown",
      "source": [
        "- 배열 : 묶음 단위로 값을 저장하는 자료구조\n",
        "  - 원소 : 배열에 저장된 각 객체\n",
        "  - 각 원소는 0,1,------ 순서대로 인덱스(주소)를 부여받음\n",
        "  - 원소의 자료형은 int형 float형 어떤것도 상관없음\n",
        "  - 서로 다른 자료형을 같이 저장할 수 있음\n",
        "  - 배열 원소 자체를 배열에 저장할 수도 있음"
      ],
      "metadata": {
        "id": "C_X4Pzmy9hOc"
      }
    },
    {
      "cell_type": "code",
      "source": [
        "# list 선언\n",
        "list01 = [] # 빈리스트\n",
        "a = [1,2,3,4,5]\n",
        "b = ['A','B','C']\n",
        "\n",
        "print(a)\n",
        "print(b)"
      ],
      "metadata": {
        "colab": {
          "base_uri": "https://localhost:8080/"
        },
        "id": "1mwiYaVf-IM8",
        "outputId": "c20b81a6-4e22-48e1-9b9d-8af05e13dd11"
      },
      "execution_count": 5,
      "outputs": [
        {
          "output_type": "stream",
          "name": "stdout",
          "text": [
            "[1, 2, 3, 4, 5]\n",
            "['A', 'B', 'C']\n"
          ]
        }
      ]
    },
    {
      "cell_type": "markdown",
      "source": [
        "- 튜플\n",
        "  - 원소에 순서를 매겨 결합한 것으로 원소를 변경할 수 없는 자료형\n",
        "  -()만 사용하면 빈 튜플 생성"
      ],
      "metadata": {
        "id": "68ci_8IP-mW0"
      }
    },
    {
      "cell_type": "code",
      "source": [
        "tuple01 = () #빈튜플\n",
        "tuple02 = 1,2,3,4,5\n",
        "tuple03 = 'A','B','C'\n",
        "\n",
        "print(tuple01)\n",
        "print(tuple02)\n",
        "print(tuple03)"
      ],
      "metadata": {
        "colab": {
          "base_uri": "https://localhost:8080/"
        },
        "id": "E50UkqCR_HyD",
        "outputId": "ae942c90-700a-4406-aab6-7b2a4afcc404"
      },
      "execution_count": 6,
      "outputs": [
        {
          "output_type": "stream",
          "name": "stdout",
          "text": [
            "()\n",
            "(1, 2, 3, 4, 5)\n",
            "('A', 'B', 'C')\n"
          ]
        }
      ]
    },
    {
      "cell_type": "code",
      "source": [
        "a = tuple(range(3,13,2))\n",
        "print(a)"
      ],
      "metadata": {
        "colab": {
          "base_uri": "https://localhost:8080/"
        },
        "id": "6lpDD5ZX_jwL",
        "outputId": "f49cb3d6-6ead-451c-df99-7c2b3ae0b096"
      },
      "execution_count": 10,
      "outputs": [
        {
          "output_type": "stream",
          "name": "stdout",
          "text": [
            "(3, 5, 7, 9, 11)\n"
          ]
        }
      ]
    },
    {
      "cell_type": "code",
      "source": [],
      "metadata": {
        "id": "tiz0nb7m_y50"
      },
      "execution_count": null,
      "outputs": []
    }
  ]
}