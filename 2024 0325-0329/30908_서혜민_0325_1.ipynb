{
 "cells": [
  {
   "cell_type": "markdown",
   "id": "d4fc0d0f",
   "metadata": {},
   "source": [
    "## 30908_서혜민_0325_1"
   ]
  },
  {
   "cell_type": "code",
   "execution_count": 9,
   "id": "11940cec",
   "metadata": {},
   "outputs": [
    {
     "name": "stdout",
     "output_type": "stream",
     "text": [
      "1부터 n까지 정수의 합을 구합니다.\n",
      "n값을 입력하세요. :-9\n",
      "n값을 입력하세요. :9\n",
      "1부터9까지 정수의 합은 45입니다.\n"
     ]
    }
   ],
   "source": [
    "print('1부터 n까지 정수의 합을 구합니다.')\n",
    "\n",
    "while True:\n",
    "    n=int(input('n값을 입력하세요. :'))\n",
    "    if n > 0:\n",
    "        break;\n",
    "\n",
    "sum = 0\n",
    "i = 1\n",
    "\n",
    "for i in range(1, n+1):\n",
    "    sum += i\n",
    "    i += 1\n",
    "\n",
    "print(f'1부터{n}까지 정수의 합은 {sum}입니다.')"
   ]
  },
  {
   "cell_type": "markdown",
   "id": "22737ca4",
   "metadata": {},
   "source": [
    "## --------------"
   ]
  },
  {
   "cell_type": "markdown",
   "id": "7c2e770a",
   "metadata": {},
   "source": [
    "- 변의 길이와 넓이가 모두 정수인 직사각형에서 변의 길이를 구하는 프로그램\n",
    "- 짧은 변과 긴 변의 길이는 구별하지 않음\n",
    "   - 예) 직사각형의 넓이가 32이면 변의 길이를 1x32, 2x16, 4x8만 출력"
   ]
  },
  {
   "cell_type": "code",
   "execution_count": 14,
   "id": "639d2476",
   "metadata": {},
   "outputs": [
    {
     "name": "stdout",
     "output_type": "stream",
     "text": [
      "직사각형의 넓이를 입력하세요.: 968\n",
      "1 x 968 \n",
      "2 x 484 \n",
      "4 x 242 \n",
      "8 x 121 \n",
      "11 x 88 \n",
      "22 x 44 \n"
     ]
    }
   ],
   "source": [
    "# 가로,. 세로 길이가 정수이고 넓이가 area인 직사각형에서 변의 길이 나열하기\n",
    "\n",
    "area = int(input(\"직사각형의 넓이를 입력하세요.: \"))\n",
    "\n",
    "for i in range(1, area+1):\n",
    "    if i  * i >area: break\n",
    "    if area% i : continue \n",
    "    print(f'{i} x {area // i} ')"
   ]
  },
  {
   "cell_type": "code",
   "execution_count": null,
   "id": "73fb2574",
   "metadata": {},
   "outputs": [],
   "source": []
  }
 ],
 "metadata": {
  "kernelspec": {
   "display_name": "Python 3 (ipykernel)",
   "language": "python",
   "name": "python3"
  },
  "language_info": {
   "codemirror_mode": {
    "name": "ipython",
    "version": 3
   },
   "file_extension": ".py",
   "mimetype": "text/x-python",
   "name": "python",
   "nbconvert_exporter": "python",
   "pygments_lexer": "ipython3",
   "version": "3.9.7"
  }
 },
 "nbformat": 4,
 "nbformat_minor": 5
}
