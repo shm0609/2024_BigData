{
 "cells": [
  {
   "cell_type": "markdown",
   "id": "01d56294",
   "metadata": {},
   "source": [
    "본 문제는 python 의 빠른 기초 학습을 위해 설계된 문제로서 python 코드 제출을 기준으로 설명되어 있습니다. \n",
    "------\n",
    "\n",
    "정수 2개(a, b)를 입력받아 합, 차, 곱, 몫, 나머지, 나눈 값을 자동으로 계산해보자.\n",
    "단, b는 0이 아니다."
   ]
  },
  {
   "cell_type": "code",
   "execution_count": null,
   "id": "7db98068",
   "metadata": {},
   "outputs": [],
   "source": [
    "a = int(input(\"정수 입력 : \"))\n",
    "b = int(input(\"정수 입력\"))\n",
    "\n",
    "while True : \n",
    "    if b > a :\n",
    "        break\n",
    "# a+b\n",
    "a-b"
   ]
  },
  {
   "cell_type": "markdown",
   "id": "95239bad",
   "metadata": {},
   "source": [
    "본 문제는 python 의 빠른 기초 학습을 위해 설계된 문제로서 python 코드 제출을 기준으로 설명되어 있습니다. \n",
    "------\n",
    "\n",
    "정수 3개를 입력받아 합과 평균을 출력해보자.\n",
    "\n",
    "참고\n",
    "공백으로 구분된 한 줄로 값들을 입력받기 위해서는\n",
    "a, b, c = input().split()\n",
    "과 같은 방법이 가능하고,\n",
    "\n",
    "공백으로 구분해 두 값을 출력하기 위해서는\n",
    "print(d, e)\n",
    "와 같은 방법이 가능하다.\n",
    "\n",
    "잘라낸 값들은 그 값의 특성(정수, 실수, 문자, 문자열 ...)에 따라 명확하게 변환시킨 후 사용하는 것이 좋다.\n",
    "\n",
    "python 프로그래밍을 처음 배울 때 좋은 습관(단계)\n",
    "1. 입력된 문자열을 정확하게 잘라낸다.(공백, 줄바꿈, 구분문자 등에 따라 정확하게 잘라낸다.)\n",
    "2. 잘라낸 데이터들을 데이터형에 맞게 변환해 변수에 저장한다. (정수, 실수, 문자, 문자열 등에 따라 정확하게 변환한다.)\n",
    "3. 값을 저장했다가 다시 사용하기 위해, 변수를 이용해 값을 저장하고, 변수를 이용해 계산을 한다.\n",
    "4. 원하는 결과 값을 필요한 형태로 만들어 출력한다.(공백, 줄바꿈, 구분자, 등에 따라 원하는 형태로 만들어 출력한다.)"
   ]
  },
  {
   "cell_type": "code",
   "execution_count": 6,
   "id": "a3fecead",
   "metadata": {},
   "outputs": [
    {
     "name": "stdout",
     "output_type": "stream",
     "text": [
      "7\n"
     ]
    },
    {
     "ename": "ValueError",
     "evalue": "not enough values to unpack (expected 3, got 1)",
     "output_type": "error",
     "traceback": [
      "\u001b[1;31m---------------------------------------------------------------------------\u001b[0m",
      "\u001b[1;31mValueError\u001b[0m                                Traceback (most recent call last)",
      "\u001b[1;32m~\\AppData\\Local\\Temp/ipykernel_6788/1999315004.py\u001b[0m in \u001b[0;36m<module>\u001b[1;34m\u001b[0m\n\u001b[1;32m----> 1\u001b[1;33m \u001b[0ma\u001b[0m\u001b[1;33m,\u001b[0m \u001b[0mb\u001b[0m\u001b[1;33m,\u001b[0m \u001b[0mc\u001b[0m \u001b[1;33m=\u001b[0m \u001b[0mmap\u001b[0m\u001b[1;33m(\u001b[0m\u001b[0mint\u001b[0m\u001b[1;33m,\u001b[0m \u001b[0minput\u001b[0m\u001b[1;33m(\u001b[0m\u001b[1;33m)\u001b[0m\u001b[1;33m.\u001b[0m\u001b[0msplit\u001b[0m\u001b[1;33m(\u001b[0m\u001b[1;33m)\u001b[0m\u001b[1;33m)\u001b[0m\u001b[1;33m\u001b[0m\u001b[1;33m\u001b[0m\u001b[0m\n\u001b[0m\u001b[0;32m      2\u001b[0m \u001b[1;33m\u001b[0m\u001b[0m\n\u001b[0;32m      3\u001b[0m \u001b[0mhap\u001b[0m \u001b[1;33m=\u001b[0m \u001b[0ma\u001b[0m \u001b[1;33m+\u001b[0m \u001b[0mb\u001b[0m \u001b[1;33m+\u001b[0m \u001b[0mc\u001b[0m\u001b[1;33m\u001b[0m\u001b[1;33m\u001b[0m\u001b[0m\n\u001b[0;32m      4\u001b[0m \u001b[0mavg\u001b[0m \u001b[1;33m=\u001b[0m \u001b[0mhap\u001b[0m \u001b[1;33m/\u001b[0m \u001b[1;36m3\u001b[0m\u001b[1;33m\u001b[0m\u001b[1;33m\u001b[0m\u001b[0m\n\u001b[0;32m      5\u001b[0m \u001b[1;33m\u001b[0m\u001b[0m\n",
      "\u001b[1;31mValueError\u001b[0m: not enough values to unpack (expected 3, got 1)"
     ]
    }
   ],
   "source": [
    "a, b, c = map(int, input().split())\n",
    "\n",
    "hap = a + b + c\n",
    "avg = hap / 3\n",
    "\n",
    "print(hap, format(avg, \"2f\"))"
   ]
  },
  {
   "cell_type": "markdown",
   "id": "b67561ed",
   "metadata": {},
   "source": [
    "본 문제는 python 의 빠른 기초 학습을 위해 설계된 문제로서 python 코드 제출을 기준으로 설명되어 있습니다. \n",
    "------\n",
    "\n",
    "두 정수(a, b)를 입력받아\n",
    "b의 값이 a의 값 보다 크거나 같으면 True 를, 같지 않으면 False 를 출력하는 프로그램을 작성해보자.\n",
    "\n",
    "참고\n",
    "어떤 값을 비교하기 위해 비교/관계(comparison/relational) 연산자(operator)를 사용할 수 있다.\n",
    "\n",
    "비교/관계연산자 <= 는\n",
    "오른쪽의 계산 결과값이 왼쪽의 계산 결과값보다 크거나 같은 경우 True(참)로 계산하고,\n",
    "그 외의 경우에는 False(거짓)로 계산한다.\n",
    "\n",
    "<=, >= 연산자는 같음(==)을 포함한다. 따라서 “작다/크다” 거나 \"같다”는 의미를 가진다.\n",
    "작다(<)/크다(>)/다르다(!) 기호는 등호(=)와 함께 왼쪽에 붙여써야 한다.\n",
    "\n",
    "비교/관계연산자도 일반적인 사칙연산자처럼 주어진 두 수를 이용해 계산을 수행하고,\n",
    "그 결과를 True(참), 또는 False(거짓)로 계산해주는 연산자이다.\n",
    "비교/관계연산자는 <, >, <=, >=, ==(같다), !=(다르다) 6개가 있다."
   ]
  },
  {
   "cell_type": "code",
   "execution_count": null,
   "id": "68ced7eb",
   "metadata": {},
   "outputs": [],
   "source": [
    "a = int(input(\"정수 입력 : \"))\n",
    "b = int(input(\"정수 입력 : \"))\n",
    "\n",
    "if b >= a:\n",
    "    print(True)\n",
    "else:\n",
    "    print(False)\n",
    "\n",
    "if b <= a:\n",
    "    print(True)\n",
    "else:\n",
    "    print(False)"
   ]
  },
  {
   "cell_type": "markdown",
   "id": "c921eb84",
   "metadata": {},
   "source": [
    "본 문제는 python 의 빠른 기초 학습을 위해 설계된 문제로서 python 코드 제출을 기준으로 설명되어 있습니다. \n",
    "------\n",
    "\n",
    "두 정수(a, b)를 입력받아\n",
    "a의 값이 b의 값과 서로 다르면 True 를, 같으면 False 를 출력하는 프로그램을 작성해보자.\n",
    "\n",
    "참고\n",
    "어떤 값을 비교하기 위해 비교/관계(comparison/relational) 연산자(operator)를 사용할 수 있다.\n",
    "\n",
    "비교/관계연산자 != 는\n",
    "왼쪽의 계산 결과값이 오른쪽의 계산 결과값이 서로 다른 경우 True(참)로 계산하고,\n",
    "그 외의 경우에는 False(거짓)로 계산한다.\n",
    "\n",
    "비교/관계연산자도 일반적인 사칙연산자처럼 주어진 두 수를 이용해 계산을 수행하고,\n",
    "그 결과를 True(참), 또는 False(거짓)로 계산해주는 연산자이다.\n",
    "비교/관계연산자는 <, >, <=, >=, ==(같다), !=(다르다) 6개가 있다."
   ]
  },
  {
   "cell_type": "code",
   "execution_count": null,
   "id": "afb92cd3",
   "metadata": {},
   "outputs": [],
   "source": []
  },
  {
   "cell_type": "markdown",
   "id": "1e99662d",
   "metadata": {},
   "source": [
    "본 문제는 python 의 빠른 기초 학습을 위해 설계된 문제로서 python 코드 제출을 기준으로 설명되어 있습니다. \n",
    "------\n",
    "\n",
    "시:분:초 형식으로 시간이 입력될 때 분만 출력해보자.\n",
    "\n",
    "어떻게 분만 출력해야 할지 주의 깊게 생각해야한다."
   ]
  },
  {
   "cell_type": "code",
   "execution_count": 3,
   "id": "7331032e",
   "metadata": {},
   "outputs": [
    {
     "ename": "NameError",
     "evalue": "name 'y' is not defined",
     "output_type": "error",
     "traceback": [
      "\u001b[1;31m---------------------------------------------------------------------------\u001b[0m",
      "\u001b[1;31mNameError\u001b[0m                                 Traceback (most recent call last)",
      "\u001b[1;32m~\\AppData\\Local\\Temp/ipykernel_7176/3466018069.py\u001b[0m in \u001b[0;36m<module>\u001b[1;34m\u001b[0m\n\u001b[1;32m----> 1\u001b[1;33m \u001b[0mprint\u001b[0m\u001b[1;33m(\u001b[0m\u001b[0my\u001b[0m\u001b[1;33m,\u001b[0m\u001b[0mm\u001b[0m\u001b[1;33m,\u001b[0m\u001b[0md\u001b[0m\u001b[1;33m)\u001b[0m\u001b[1;33m\u001b[0m\u001b[1;33m\u001b[0m\u001b[0m\n\u001b[0m",
      "\u001b[1;31mNameError\u001b[0m: name 'y' is not defined"
     ]
    }
   ],
   "source": [
    "print(y,m,d)"
   ]
  },
  {
   "cell_type": "code",
   "execution_count": null,
   "id": "88cb036b",
   "metadata": {},
   "outputs": [],
   "source": []
  }
 ],
 "metadata": {
  "kernelspec": {
   "display_name": "Python 3 (ipykernel)",
   "language": "python",
   "name": "python3"
  },
  "language_info": {
   "codemirror_mode": {
    "name": "ipython",
    "version": 3
   },
   "file_extension": ".py",
   "mimetype": "text/x-python",
   "name": "python",
   "nbconvert_exporter": "python",
   "pygments_lexer": "ipython3",
   "version": "3.9.7"
  }
 },
 "nbformat": 4,
 "nbformat_minor": 5
}
