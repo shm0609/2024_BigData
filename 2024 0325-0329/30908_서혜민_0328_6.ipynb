{
 "cells": [
  {
   "cell_type": "markdown",
   "id": "5b857c09",
   "metadata": {},
   "source": [
    "## 30908_서혜민_0328_6"
   ]
  },
  {
   "cell_type": "markdown",
   "id": "d93a314c",
   "metadata": {},
   "source": [
    "6039\n",
    "\n",
    "본 문제는 python 의 빠른 기초 학습을 위해 설계된 문제로서 python 코드 제출을 기준으로 설명되어 있습니다. \n",
    "------\n",
    "\n",
    "실수 2개(f1, f2)를 입력받아\n",
    "f1을 f2번 거듭제곱한 값을 출력하는 프로그램을 작성해보자.\n",
    "\n",
    "참고\n",
    "python 언어에서는 거듭제곱(exponentiation)을 계산하는 연산자(**)를 제공한다.\n",
    "일반적으로 수학 식에서 거듭제곱을 표현하는 사용하는 서컴플렉스/케릿 기호(^)는 프로그래밍언어에서 다른 의미로 쓰인다."
   ]
  },
  {
   "cell_type": "code",
   "execution_count": null,
   "id": "4f017de1",
   "metadata": {},
   "outputs": [],
   "source": [
    "f1,f2=input().split()\n",
    "b = float(f1) ** float(f2)\n",
    "print(format(b))"
   ]
  },
  {
   "cell_type": "markdown",
   "id": "6f79f6ed",
   "metadata": {},
   "source": [
    "## ----------------------------------------------------------------------"
   ]
  },
  {
   "cell_type": "markdown",
   "id": "582f16d6",
   "metadata": {},
   "source": [
    "6040\n",
    "\n",
    "본 문제는python의 빠른 기초 학습을 위해 설계된 문제로서python코드 제출을 기준으로 설명되어 있습니다. \n",
    "------\n",
    "\n",
    "정수 2개(a, b) 를 입력받아 a를 b로 나눈 몫을 출력해보자.\n",
    "\n",
    "예시\n",
    "...\n",
    "print(a//b)\n",
    "\n",
    "참고\n",
    "python언어에서는 나눈 몫을 계산하는 연산자(//, floor division)를 제공한다.\n",
    "a//b 와 같이 작성하면, a를 b로 나눈 몫(quotient)을 계산해준다.\n",
    "프로그래밍언어에 따라 이렇게 몫을 계산해주는 연산자가 없는 경우도 있다.\n",
    "\n",
    "실수로 나눈 몫이 어떻게 계산될지도 생각해보자."
   ]
  },
  {
   "cell_type": "code",
   "execution_count": 1,
   "id": "8945e5a3",
   "metadata": {},
   "outputs": [
    {
     "name": "stdout",
     "output_type": "stream",
     "text": [
      "9\n",
      "3\n",
      "3\n"
     ]
    }
   ],
   "source": [
    "a=int(input())\n",
    "b=int(input())\n",
    "\n",
    "print(a//b)"
   ]
  },
  {
   "cell_type": "markdown",
   "id": "46f9b5b2",
   "metadata": {},
   "source": [
    "## ----------------------------------------------------------------"
   ]
  },
  {
   "cell_type": "markdown",
   "id": "3107c6af",
   "metadata": {},
   "source": [
    "6041\n",
    "\n",
    "본 문제는 python 의 빠른 기초 학습을 위해 설계된 문제로서 python 코드 제출을 기준으로 설명되어 있습니다. \n",
    "------\n",
    "\n",
    "정수 2개(a, b) 를 입력받아 a를 b로 나눈 나머지를 출력해보자.\n",
    "\n",
    "예시\n",
    "...\n",
    "print(a%b)\n",
    "\n",
    "참고\n",
    "python 언어에서는 나눈 나머지를 계산하는 연산자(%, remainder)를 제공한다.\n",
    "a%b 와 같이 작성하면, a를 b로 나눈 나머지(remainder)를 계산해준다.\n",
    "나머지 연산(modulus, mod 연산)은 수학자 가우스가 생각해 낸 연산으로,\n",
    "어떤 수를 다른 수로 나누고 난 후 남는 나머지를 계산하는 연산이다.\n",
    "\n",
    "실수로 나눈 나머지가 어떻게 계산될지도 생각해보자."
   ]
  },
  {
   "cell_type": "code",
   "execution_count": 7,
   "id": "2ea5c58a",
   "metadata": {
    "scrolled": false
   },
   "outputs": [
    {
     "name": "stdout",
     "output_type": "stream",
     "text": [
      "98\n",
      "65\n",
      "33\n"
     ]
    }
   ],
   "source": [
    "a=int(input())\n",
    "b = int(input())\n",
    "\n",
    "print(a%b)"
   ]
  },
  {
   "cell_type": "markdown",
   "id": "ae313cc1",
   "metadata": {},
   "source": [
    "## -----------------------------------------------------------------"
   ]
  },
  {
   "cell_type": "markdown",
   "id": "3e093af9",
   "metadata": {},
   "source": [
    "6043\n",
    "\n",
    "본 문제는 python 의 빠른 기초 학습을 위해 설계된 문제로서 python 코드 제출을 기준으로 설명되어 있습니다. \n",
    "------\n",
    "\n",
    "실수 2개(f1, f2)를 입력받아\n",
    "f1 을 f2 로 나눈 값을 출력해보자. 이 때 소숫점 넷째자리에서 반올림하여 무조건 소숫점 셋째 자리까지 출력한다.\n",
    "\n",
    "\n",
    "참고\n",
    "python 언어에는 나눗셈(division)을 계산하는 연산자(/)가 있다.\n",
    "\n",
    "컴퓨터 프로그래밍에서 실수 변환이나 실수를 사용하는 계산은 \n",
    "정확하게 변환되거나 계산되는 것이 아니라, 거의 모두 근사값으로 계산되는 것이라고 할 수 있다.  \n",
    "\n",
    "실수가 컴퓨터로 저장되기 위해서는 디지털방식으로 2진 정수화되어 저장되어야 하는데, \n",
    "그 과정에서 아주 작은 부분이 저장되지 않고 사라지는 잘림(truncation) 오차가 자주 발생하기 때문이다.\n",
    "\n",
    "계산 결과값 중에서 믿을 수 있는 숫자의 개수를 의미하는, 유효숫자에 대해 찾아보자. \n",
    "과학실험에서 온도나 부피를 측정할 때에도 유효숫자는 중요하다. "
   ]
  },
  {
   "cell_type": "code",
   "execution_count": 9,
   "id": "c860e72b",
   "metadata": {},
   "outputs": [
    {
     "name": "stdout",
     "output_type": "stream",
     "text": [
      "6\n",
      "2\n",
      "3.0\n"
     ]
    }
   ],
   "source": [
    "f1=int(input())\n",
    "f2=int(input())\n",
    "b = float(f1) / float(f2)\n",
    "print(format(b))"
   ]
  },
  {
   "cell_type": "markdown",
   "id": "8d7bd4f5",
   "metadata": {},
   "source": [
    "## -----------------------------------------------------------------"
   ]
  }
 ],
 "metadata": {
  "kernelspec": {
   "display_name": "Python 3 (ipykernel)",
   "language": "python",
   "name": "python3"
  },
  "language_info": {
   "codemirror_mode": {
    "name": "ipython",
    "version": 3
   },
   "file_extension": ".py",
   "mimetype": "text/x-python",
   "name": "python",
   "nbconvert_exporter": "python",
   "pygments_lexer": "ipython3",
   "version": "3.9.7"
  }
 },
 "nbformat": 4,
 "nbformat_minor": 5
}
