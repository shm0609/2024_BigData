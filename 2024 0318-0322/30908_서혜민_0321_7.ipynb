{
 "cells": [
  {
   "cell_type": "markdown",
   "id": "2bb7f5e9",
   "metadata": {},
   "source": [
    "## 30908_서혜민_0321_7"
   ]
  },
  {
   "cell_type": "code",
   "execution_count": 4,
   "id": "98bc7903",
   "metadata": {},
   "outputs": [
    {
     "name": "stdout",
     "output_type": "stream",
     "text": [
      "+와 -를 번갈아 출력합니다.\n",
      "몇개를 출력할까요? : 4\n",
      "+-+-\n"
     ]
    }
   ],
   "source": [
    "print('+와 -를 번갈아 출력합니다.')\n",
    "n = int(input(\"몇개를 출력할까요? : \"))\n",
    "\n",
    "for i in range(n):\n",
    "    if i %2:\n",
    "        print('-', end ='')\n",
    "    else :\n",
    "        print('+', end ='')\n",
    "print()"
   ]
  },
  {
   "cell_type": "code",
   "execution_count": 6,
   "id": "3f1953da",
   "metadata": {},
   "outputs": [
    {
     "name": "stdout",
     "output_type": "stream",
     "text": [
      "+와 -를 번갈아 출력합니다.\n",
      "몇개를 출력할까요? : 8\n",
      "+-+-+-+-\n"
     ]
    }
   ],
   "source": [
    "#range(처음값, 마지값)\n",
    "\n",
    "print('+와 -를 번갈아 출력합니다.')\n",
    "n = int(input(\"몇개를 출력할까요? : \"))\n",
    "\n",
    "for i in range(1,n+1):\n",
    "    if i % 2:\n",
    "        print('+', end=\"\")\n",
    "    else :\n",
    "        print('-', end=\"\")\n",
    "print()"
   ]
  },
  {
   "cell_type": "code",
   "execution_count": 9,
   "id": "728b2ab1",
   "metadata": {},
   "outputs": [
    {
     "name": "stdout",
     "output_type": "stream",
     "text": [
      "+와 -를 번갈아 출력합니다.\n",
      "몇개를 출력할까요? : 8\n",
      "+-+-+-+-\n"
     ]
    }
   ],
   "source": [
    "print('+와 -를 번갈아 출력합니다.')\n",
    "n = int(input(\"몇개를 출력할까요? : \"))\n",
    "\n",
    "for _ in range(n// 2):\n",
    "    print('+-', end='') # n // 2개의 +-를 출력\n",
    "    \n",
    "if n % 2:\n",
    "    print('+', end='')\n",
    "    \n",
    "print()"
   ]
  },
  {
   "cell_type": "code",
   "execution_count": 15,
   "id": "661c7ed6",
   "metadata": {},
   "outputs": [
    {
     "name": "stdout",
     "output_type": "stream",
     "text": [
      "*를 출력합니다.\n",
      "몇 개를 출력할까요?8\n",
      "몇 개마다 줄바꿈할까요?3\n",
      "***\n",
      "***\n",
      "**"
     ]
    }
   ],
   "source": [
    "print('*를 출력합니다.')\n",
    "n = int(input(\"몇 개를 출력할까요?\"))\n",
    "w = int(input(\"몇 개마다 줄바꿈할까요?\"))\n",
    "\n",
    "for i in range(n) :\n",
    "    print('*', end=\"\")\n",
    "    if i % w == w - 1:\n",
    "        print()"
   ]
  },
  {
   "cell_type": "code",
   "execution_count": 18,
   "id": "0ef7b8e6",
   "metadata": {},
   "outputs": [
    {
     "name": "stdout",
     "output_type": "stream",
     "text": [
      "1부터 n까지 정수의 합을 구합니다.\n",
      "n값을 입력하세요-6\n",
      "n값을 입력하세요. :0\n",
      "n값을 입력하세요. :10\n",
      "1부터10까지 정수의 합은 55입니다.\n"
     ]
    }
   ],
   "source": [
    "print('1부터 n까지 정수의 합을 구합니다.')\n",
    "n=int(input('n값을 입력하세요'))\n",
    "\n",
    "while True:\n",
    "    n=int(input('n값을 입력하세요. :'))\n",
    "    if n > 0:\n",
    "        break\n",
    "\n",
    "sum = 0\n",
    "i = 1\n",
    "\n",
    "for i in range(1, n+1):\n",
    "    sum += i\n",
    "    i += 1\n",
    "\n",
    "print(f'1부터{n}까지 정수의 합은 {sum}입니다.')"
   ]
  },
  {
   "cell_type": "code",
   "execution_count": null,
   "id": "770cf895",
   "metadata": {},
   "outputs": [],
   "source": []
  }
 ],
 "metadata": {
  "kernelspec": {
   "display_name": "Python 3 (ipykernel)",
   "language": "python",
   "name": "python3"
  },
  "language_info": {
   "codemirror_mode": {
    "name": "ipython",
    "version": 3
   },
   "file_extension": ".py",
   "mimetype": "text/x-python",
   "name": "python",
   "nbconvert_exporter": "python",
   "pygments_lexer": "ipython3",
   "version": "3.9.7"
  }
 },
 "nbformat": 4,
 "nbformat_minor": 5
}
