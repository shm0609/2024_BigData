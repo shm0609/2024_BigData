{
 "cells": [
  {
   "cell_type": "markdown",
   "id": "37386bf5",
   "metadata": {},
   "source": [
    "## 30908_서혜민_0320_3"
   ]
  },
  {
   "cell_type": "code",
   "execution_count": 3,
   "id": "1f1e5fc4",
   "metadata": {},
   "outputs": [
    {
     "name": "stdout",
     "output_type": "stream",
     "text": [
      "a부터 b까지 정수의 합을 구합니다.\n",
      "정수 a를 입력하세요. : 1\n",
      "정수 b를 입력하세요. : 10\n",
      "1 + 2 + 3 + 4 + 5 + 6 + 7 + 8 + 9 + 10=55\n"
     ]
    }
   ],
   "source": [
    "print('a부터 b까지 정수의 합을 구합니다.')\n",
    "\n",
    "a = int(input('정수 a를 입력하세요. : '))\n",
    "b = int(input('정수 b를 입력하세요. : '))\n",
    "\n",
    "# 오름차순 정렬\n",
    "if a > b :\n",
    "    a, b = b, a\n",
    "    \n",
    "sum = 0\n",
    "for i in range(a,b+1) : \n",
    "    if i < b : \n",
    "        print(f'{i} + ',end=\"\")\n",
    "    else:\n",
    "        print(f'{i}=',end=\"\")\n",
    "    sum = sum+i\n",
    "\n",
    "print(sum)"
   ]
  },
  {
   "cell_type": "markdown",
   "id": "769fd3eb",
   "metadata": {},
   "source": [
    "## -----------------------"
   ]
  },
  {
   "cell_type": "code",
   "execution_count": 4,
   "id": "e5caeec2",
   "metadata": {},
   "outputs": [
    {
     "name": "stdout",
     "output_type": "stream",
     "text": [
      "a부터 b까지 정수의 합을 구합니다.\n",
      "정수 a를 입력하세요. : 8\n",
      "정수 b를 입력하세요. : 11\n",
      "8+9+10+11=38\n"
     ]
    }
   ],
   "source": [
    "print('a부터 b까지 정수의 합을 구합니다.')\n",
    "\n",
    "a = int(input('정수 a를 입력하세요. : '))\n",
    "b = int(input('정수 b를 입력하세요. : '))\n",
    "\n",
    "# 오름차순 정렬\n",
    "if a > b :\n",
    "    a, b = b, a\n",
    "    \n",
    "sum = 0\n",
    "\n",
    "for i in range(a,b):\n",
    "    print(f'{i}+',end=\"\")\n",
    "    sum = sum + i\n",
    "\n",
    "print(f'{b}=', end=\"\")\n",
    "sum = sum + b\n",
    "\n",
    "print(sum)"
   ]
  },
  {
   "cell_type": "markdown",
   "id": "35cce0dc",
   "metadata": {},
   "source": [
    "## -----------------------"
   ]
  },
  {
   "cell_type": "code",
   "execution_count": 13,
   "id": "7a78b2de",
   "metadata": {},
   "outputs": [
    {
     "name": "stdout",
     "output_type": "stream",
     "text": [
      "+와 -를 번갈아 출력합니다.\n",
      "몇 개를 출력할까요? : 6\n",
      "+-+-+-\n"
     ]
    }
   ],
   "source": [
    "print('+와 -를 번갈아 출력합니다.')\n",
    "n = int(input('몇 개를 출력할까요? : '))\n",
    "\n",
    "for i in range(n) :\n",
    "    if i % 2 :\n",
    "        print('-', end=\"\")\n",
    "    else:\n",
    "        print('+', end=\"\")\n",
    "print()"
   ]
  },
  {
   "cell_type": "code",
   "execution_count": null,
   "id": "be0edbed",
   "metadata": {},
   "outputs": [],
   "source": []
  }
 ],
 "metadata": {
  "kernelspec": {
   "display_name": "Python 3 (ipykernel)",
   "language": "python",
   "name": "python3"
  },
  "language_info": {
   "codemirror_mode": {
    "name": "ipython",
    "version": 3
   },
   "file_extension": ".py",
   "mimetype": "text/x-python",
   "name": "python",
   "nbconvert_exporter": "python",
   "pygments_lexer": "ipython3",
   "version": "3.9.7"
  }
 },
 "nbformat": 4,
 "nbformat_minor": 5
}
