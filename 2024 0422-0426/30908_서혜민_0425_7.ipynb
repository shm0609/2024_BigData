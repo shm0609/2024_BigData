{
 "cells": [
  {
   "cell_type": "markdown",
   "id": "156d77a7",
   "metadata": {},
   "source": [
    "## 30908_서혜민_0425_7"
   ]
  },
  {
   "cell_type": "markdown",
   "id": "b6491bfd",
   "metadata": {},
   "source": [
    "6083\n",
    "\n",
    "본 문제는 python 의 빠른 기초 학습을 위해 설계된 문제로서 python 코드 제출을 기준으로 설명되어 있습니다. \n",
    "------\n",
    "\n",
    "빨강(red), 초록(green), 파랑(blue) 빛을 섞어 여러 가지 다른 색 빛을 만들어 내려고 한다.\n",
    "\n",
    "빨강(r), 초록(g), 파랑(b) 각 빛의 가짓수가 주어질 때,\n",
    "주어진 rgb 빛들을 섞어 만들 수 있는 모든 경우의 조합(r g b)과 만들 수 있는 색의 가짓 수를 계산해보자.  \n",
    "\n",
    "**모니터, 스마트폰과 같은 디스플레이에서 각 픽셀의 색을 만들어내기 위해서 r, g, b 색을 조합할 수 있다.\n",
    "**픽셀(pixel)은 그림(picture)을 구성하는 셀(cell)에서 이름이 만들어졌다."
   ]
  },
  {
   "cell_type": "code",
   "execution_count": 1,
   "id": "4dfc2ff9",
   "metadata": {},
   "outputs": [
    {
     "name": "stdout",
     "output_type": "stream",
     "text": [
      "2 2 2\n",
      "0 0 0\n",
      "0 0 1\n",
      "0 1 0\n",
      "0 1 1\n",
      "1 0 0\n",
      "1 0 1\n",
      "1 1 0\n",
      "1 1 1\n",
      "8\n"
     ]
    }
   ],
   "source": [
    "r, g, b = map(int,input().split())\n",
    "\n",
    "count = 0\n",
    "\n",
    "for i in range(r):\n",
    "    for j in range(g):\n",
    "        for k in range(b):\n",
    "            print('%d %d %d' %(i,j,k))\n",
    "            \n",
    "            count = count + 1\n",
    "print(count)"
   ]
  },
  {
   "cell_type": "markdown",
   "id": "7b4c62cd",
   "metadata": {},
   "source": [
    "6084\n",
    "\n",
    "본 문제는 python 의 빠른 기초 학습을 위해 설계된 문제로서 python 코드 제출을 기준으로 설명되어 있습니다. \n",
    "------\n",
    "\n",
    "소리가 컴퓨터에 저장될 때에는 디지털 데이터화 되어 저장된다.\n",
    "\n",
    "마이크를 통해 1초에 적게는 수십 번, 많게는 수만 번 소리의 강약을 체크하고,\n",
    "한 번씩 체크할 때 마다 그 값을 정수값으로 바꾸어 저장하는 방식으로 소리를 파일로 저장할 수 있다.\n",
    "\n",
    "값을 저장할 때에는 비트를 사용하는 정도에 따라 세세한 녹음 정도를 결정할 수 있고,\n",
    "좌우(스테레오) 채널로 저장하면 2배… 5.1채널이면 6배의 저장공간이 필요하고,\n",
    "녹음 시간이 길면 그 만큼 더 많은 저장공간이 필요하다.\n",
    "\n",
    "1초 동안 마이크로 소리강약을 체크하는 횟수를 h\n",
    "(헤르쯔, Hz 는 1초에 몇 번? 체크하는가를 의미한다.)\n",
    "\n",
    "한 번 체크한 값을 저장할 때 사용하는 비트수를 b\n",
    "(2비트를 사용하면 0 또는 1 두 가지, 16비트를 사용하면 65536가지..)\n",
    "\n",
    "좌우 등 소리를 저장할 트랙 개수인 채널 개수를 c\n",
    "(모노는 1개, 스테레오는 2개의 트랙으로 저장함을 의미한다.)\n",
    "\n",
    "녹음할 시간(초) s가 주어질 때,\n",
    "\n",
    "필요한 저장 용량을 계산하는 프로그램을 작성해보자.\n",
    "\n",
    "실제로, 일반적인 CD 음질(44.1KHz, 16bit, 스테레오)로 1초 동안 저장하려면\n",
    "44100 * 16 * 2 * 1 bit의 저장공간이 필요한데,\n",
    "44100*16*2*1/8/1024/1024 로 계산하면 약 0.168 MB 정도가 필요하다.\n",
    "\n",
    "이렇게 녹음하는 방식을 PCM(Pulse Code Modulation) 방법이라고 하는데,\n",
    "압축하지 않은 순수한(raw) 소리 데이터 파일은 대표적으로 *.wav 가 있다.\n",
    "\n",
    "**\n",
    "      8 bit(비트)           = 1byte(바이트)       # 8bit=1Byte\n",
    "1024 Byte(210 byte) = 1KB(킬로 바이트)  # 1024Byte=1KB\n",
    "1024 KB(210 KB)      = 1MB(메가 바이트)\n",
    "1024 MB(210 MB)     = 1GB(기가 바이트)\n",
    "1024 GB(210 GB)      = 1TB(테라 바이트)"
   ]
  },
  {
   "cell_type": "code",
   "execution_count": 7,
   "id": "12e0083c",
   "metadata": {},
   "outputs": [
    {
     "name": "stdout",
     "output_type": "stream",
     "text": [
      "44100 16 2 10\n",
      "1.7 MB\n"
     ]
    }
   ],
   "source": [
    "a, b, c, d=map(int, input().split())\n",
    "totalbit = a*b*c*d\n",
    "\n",
    "totalbyte=totalbit/8\n",
    "totalkb=totalbyte/1024\n",
    "totalmb=totalkb/1024\n",
    "\n",
    "print(\"%0.1f MB\" % totalmb)"
   ]
  },
  {
   "cell_type": "markdown",
   "id": "18c40ad6",
   "metadata": {},
   "source": [
    "6085\n",
    "\n",
    "본 문제는 python 의 빠른 기초 학습을 위해 설계된 문제로서 python 코드 제출을 기준으로 설명되어 있습니다. \n",
    "------\n",
    "\n",
    "이미지가 컴퓨터에 저장될 때에도 디지털 데이터화 되어 저장된다.\n",
    "\n",
    "가장 기본적인 방법으로는 그림을 구성하는 한 점(pixel, 픽셀)의 색상을\n",
    "빨강(r), 초록(g), 파랑(b)의 3가지의 빛의 세기 값으로 따로 변환하여 저장하는 것인데,\n",
    "\n",
    "예를 들어 r, g, b 각 색에 대해서 8비트(0~255, 256가지 가능)씩을 사용한다고 하면,\n",
    "\n",
    "한 점의 색상은 3가지 r, g, b의 8비트+8비트+8비트로 총 24비트로 표현해서\n",
    "총 2^24 가지의 서로 다른 빛의 색깔을 사용할 수 있는 것이다.\n",
    "\n",
    "그렇게 저장하는 점을 모아 하나의 큰 이미지를 저장할 수 있게 되는데,\n",
    "1024 * 768 사이즈에 각 점에 대해 24비트로 저장하면 그 이미지를 저장하기 위한\n",
    "저장 용량을 계산할 수 있다.\n",
    "\n",
    "이렇게 이미지의 원래(raw) 데이터를 압축하지 않고 그대로 저장하는 대표적인 이미지 파일이\n",
    "*.bmp 파일이며, 비트로 그림을 구성한다고 하여 비트맵 방식 또는 래스터 방식이라고 한다.\n",
    "\n",
    "이미지의 가로 해상도 w, 세로 해상도 h, 한 픽셀을 저장하기 위한 비트 b 가 주어질 때,\n",
    "압축하지 않고 저장하기 위해 필요한 저장 용량을 계산하는 프로그램을 작성해 보자.\n",
    "\n",
    "예를 들어\n",
    "일반적인 1024 * 768 사이즈(해상도)의 각점에 대해\n",
    "24비트(rgb 각각 8비트씩 3개)로 저장하려면\n",
    "1024 * 768 * 24 bit의 저장공간이 필요한데,\n",
    "1024*768*24/8/1024/1024 로 계산하면 약 2.25 MB 정도가 필요하다.\n",
    "\n",
    "실제 그런지 확인하고 싶다면, 간단한 그림 편집/수정 프로그램을 통해 확인할 수 있다.\n",
    "\n",
    "**\n",
    "      8 bit(비트)           = 1byte(바이트)     #       8bit=1Byte\n",
    "1024 Byte(210 byte) = 1KB(킬로 바이트)  # 1024Byte=1KB\n",
    "1024 KB(210 KB)      = 1MB(메가 바이트)\n",
    "1024 MB(210 MB)     = 1GB(기가 바이트)\n",
    "1024 GB(210 GB)      = 1TB(테라 바이트)"
   ]
  },
  {
   "cell_type": "code",
   "execution_count": 8,
   "id": "3f17d4ca",
   "metadata": {},
   "outputs": [
    {
     "name": "stdout",
     "output_type": "stream",
     "text": [
      "1024 768 24\n",
      "2.25 MB\n"
     ]
    }
   ],
   "source": [
    "a, b, c=map(int, input().split())\n",
    "totalbit = a*b*c\n",
    "\n",
    "totalbyte=totalbit/8\n",
    "totalkb=totalbyte/1024\n",
    "totalmb=totalkb/1024\n",
    "\n",
    "print(\"%0.2f MB\" % totalmb)"
   ]
  },
  {
   "cell_type": "code",
   "execution_count": null,
   "id": "adefd772",
   "metadata": {},
   "outputs": [],
   "source": []
  }
 ],
 "metadata": {
  "kernelspec": {
   "display_name": "Python 3 (ipykernel)",
   "language": "python",
   "name": "python3"
  },
  "language_info": {
   "codemirror_mode": {
    "name": "ipython",
    "version": 3
   },
   "file_extension": ".py",
   "mimetype": "text/x-python",
   "name": "python",
   "nbconvert_exporter": "python",
   "pygments_lexer": "ipython3",
   "version": "3.9.7"
  }
 },
 "nbformat": 4,
 "nbformat_minor": 5
}
