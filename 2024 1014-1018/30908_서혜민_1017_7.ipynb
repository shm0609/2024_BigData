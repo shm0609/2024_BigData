{
 "cells": [
  {
   "cell_type": "markdown",
   "id": "0c3297a4",
   "metadata": {},
   "source": [
    "## 1138 : 논리 연산자(NOT)\n",
    "\n",
    "1(true, 참) 또는 0(false, 거짓) 이 입력되었을 때 결과를 반대로 출력하는 프로그램을 작성해보자.\n",
    "\n",
    "참고)\n",
    "\n",
    "C언어에서 비교/관계 연산(==, !=, >, <, >=, <=)이 수행될 때, 0은 거짓(false)을 의미하고, 0이 아닌 모든 수는 참(true)으로 인식한다.\n",
    "\n",
    "참 또는 거짓의 논리값을 역(반대)로 바꾸기 위해서는 논리(logical) 연산자 ! 를 사용할 수 있다.\n",
    "\n",
    "이러한 논리 연산을 NOT 연산이라고도 부른다.\n",
    "\n",
    "참, 거짓의 논리값(boolean value, 불 값을 다루어주는 논리연산자는 !(not), &&(and), ||(or) 이 있다."
   ]
  },
  {
   "cell_type": "code",
   "execution_count": 15,
   "id": "788223f4",
   "metadata": {},
   "outputs": [
    {
     "name": "stdout",
     "output_type": "stream",
     "text": [
      "0\n",
      "1\n"
     ]
    }
   ],
   "source": [
    "a = int(input())\n",
    "print(int(not a))"
   ]
  },
  {
   "cell_type": "markdown",
   "id": "e8d0e41b",
   "metadata": {},
   "source": [
    "## 1139 : 논리 연산자(AND)\n",
    "\n",
    "두 가지의 참(1) 또는 거짓(0)이 입력될 때, 모두 참일 때는 1이, 그렇지 않으면 0이 출력되는 프로그램을 작성해보자.\n",
    "\n",
    "참고)\n",
    "\n",
    "논리연산자 && 는 주어진 2개의 논리값이 모두 참(1) 일 때에 1(참)으로 계산하고,이외의 경우에는 0(거짓) 으로 계산한다.\n",
    "\n",
    "이러한 논리 연산을 AND 연산이라고도 부르고, &&로 표시한다."
   ]
  },
  {
   "cell_type": "code",
   "execution_count": 18,
   "id": "68d5bc91",
   "metadata": {},
   "outputs": [
    {
     "name": "stdout",
     "output_type": "stream",
     "text": [
      "1 1\n",
      "1\n"
     ]
    }
   ],
   "source": [
    "a,b = map(int, input().split())\n",
    "print(int(a and b))"
   ]
  },
  {
   "cell_type": "markdown",
   "id": "3e008094",
   "metadata": {},
   "source": [
    "## 1140 : 논리 연산자(OR)"
   ]
  },
  {
   "cell_type": "code",
   "execution_count": 1,
   "id": "252fe84e",
   "metadata": {},
   "outputs": [
    {
     "name": "stdout",
     "output_type": "stream",
     "text": [
      "0 1\n",
      "1\n"
     ]
    }
   ],
   "source": [
    "a,b = map(int, input().split())\n",
    "print(int(a or b))"
   ]
  },
  {
   "cell_type": "code",
   "execution_count": null,
   "id": "27abc4e7",
   "metadata": {},
   "outputs": [],
   "source": []
  }
 ],
 "metadata": {
  "kernelspec": {
   "display_name": "Python 3 (ipykernel)",
   "language": "python",
   "name": "python3"
  },
  "language_info": {
   "codemirror_mode": {
    "name": "ipython",
    "version": 3
   },
   "file_extension": ".py",
   "mimetype": "text/x-python",
   "name": "python",
   "nbconvert_exporter": "python",
   "pygments_lexer": "ipython3",
   "version": "3.9.7"
  }
 },
 "nbformat": 4,
 "nbformat_minor": 5
}
